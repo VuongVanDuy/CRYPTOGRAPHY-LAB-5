{
 "cells": [
  {
   "metadata": {},
   "cell_type": "markdown",
   "source": "# Операции над полями Галуа GF(2^8) в AES.",
   "id": "c5d62d79f2010751"
  },
  {
   "metadata": {
    "ExecuteTime": {
     "end_time": "2025-03-19T02:05:01.164546Z",
     "start_time": "2025-03-19T02:05:01.130953Z"
    }
   },
   "cell_type": "code",
   "source": [
    "primitive = 0x11B # неприводимый многочлен x^8 + x^4 + x^3 + x + 1\n",
    "check_high_bit = 0x80 # 10000000"
   ],
   "id": "33143f9c142beb0a",
   "outputs": [],
   "execution_count": 251
  },
  {
   "metadata": {
    "ExecuteTime": {
     "end_time": "2025-03-19T02:05:01.186525Z",
     "start_time": "2025-03-19T02:05:01.173903Z"
    }
   },
   "cell_type": "code",
   "source": [
    "def multiply_GF256(a, b):\n",
    "    \"\"\"\n",
    "    Nhân hai phần tử trong trường GF(2^8) sử dụng đa thức bất khả quy 0x11B.\n",
    "    \"\"\"\n",
    "    result = 0\n",
    "    for i in range(8):\n",
    "        if b & 1:  # Nếu bit cuối cùng của b là 1\n",
    "            result ^= a  # Cộng (XOR) a vào kết quả\n",
    "        high_bit_set = a & check_high_bit  # Kiểm tra bit cao nhất của a\n",
    "        a <<= 1\n",
    "        if high_bit_set:\n",
    "            a ^= primitive  # Chia lấy dư với đa thức bất khả quy nếu cần\n",
    "        b >>= 1  # Dịch phải b\n",
    "    return result"
   ],
   "id": "e7975e9b1de7db8c",
   "outputs": [],
   "execution_count": 252
  },
  {
   "metadata": {
    "ExecuteTime": {
     "end_time": "2025-03-19T02:05:01.242923Z",
     "start_time": "2025-03-19T02:05:01.231243Z"
    }
   },
   "cell_type": "code",
   "source": "multiply_GF256(2, 148)",
   "id": "4cd002c0d43995a1",
   "outputs": [
    {
     "data": {
      "text/plain": [
       "51"
      ]
     },
     "execution_count": 253,
     "metadata": {},
     "output_type": "execute_result"
    }
   ],
   "execution_count": 253
  },
  {
   "metadata": {
    "ExecuteTime": {
     "end_time": "2025-03-19T02:05:01.266797Z",
     "start_time": "2025-03-19T02:05:01.257796Z"
    }
   },
   "cell_type": "code",
   "source": [
    "def inverse_GF256(x):\n",
    "    \"\"\"Tìm nghịch đảo của x trong GF(2^8) bằng phương pháp lũy thừa nhanh.\"\"\"\n",
    "    if x == 0:\n",
    "        return 0\n",
    "    y = 1\n",
    "    for _ in range(254):  # x^(254) mod GF(2^8) sẽ cho ra nghịch đảo\n",
    "        y = multiply_GF256(y, x)\n",
    "    return y"
   ],
   "id": "568d156fbca7b3bb",
   "outputs": [],
   "execution_count": 254
  },
  {
   "metadata": {
    "ExecuteTime": {
     "end_time": "2025-03-19T02:05:01.329015Z",
     "start_time": "2025-03-19T02:05:01.321661Z"
    }
   },
   "cell_type": "code",
   "source": [
    "def exp_GF256(elem, exp):\n",
    "    if exp == 0:\n",
    "        return 1\n",
    "    r = exp % 2\n",
    "    q = exp // 2\n",
    "    if r:\n",
    "        return multiply_GF256(elem, multiply_GF256(exp_GF256(elem, q), exp_GF256(elem, q)))\n",
    "    else:\n",
    "        return multiply_GF256(exp_GF256(elem, q), exp_GF256(elem, q))"
   ],
   "id": "bab10ed49fc0035b",
   "outputs": [],
   "execution_count": 255
  },
  {
   "metadata": {
    "ExecuteTime": {
     "end_time": "2025-03-19T02:05:01.353090Z",
     "start_time": "2025-03-19T02:05:01.346052Z"
    }
   },
   "cell_type": "code",
   "source": "exp_GF256(2, 8)",
   "id": "3a45a9b4ab6ff214",
   "outputs": [
    {
     "data": {
      "text/plain": [
       "27"
      ]
     },
     "execution_count": 256,
     "metadata": {},
     "output_type": "execute_result"
    }
   ],
   "execution_count": 256
  },
  {
   "metadata": {},
   "cell_type": "markdown",
   "source": "# Алгоритм создания S-блока в AES.",
   "id": "190736dd639d87d"
  },
  {
   "metadata": {
    "ExecuteTime": {
     "end_time": "2025-03-19T02:05:01.401076Z",
     "start_time": "2025-03-19T02:05:01.394148Z"
    }
   },
   "cell_type": "code",
   "source": [
    "def affine_transform(byte):\n",
    "    \"\"\"Biến đổi Affine của một byte theo công thức AES.\"\"\"\n",
    "    mask = 0x63  # Hằng số cố định\n",
    "    transformed = 0\n",
    "    for i in range(8):\n",
    "        # Xác định giá trị bit mới bằng cách XOR các bit theo công thức AES\n",
    "        new_bit = ((byte >> i) & 1) ^ ((byte >> ((i + 4) % 8)) & 1) ^ \\\n",
    "                  ((byte >> ((i + 5) % 8)) & 1) ^ ((byte >> ((i + 6) % 8)) & 1) ^ \\\n",
    "                  ((byte >> ((i + 7) % 8)) & 1) ^ ((mask >> i) & 1)\n",
    "        transformed |= (new_bit << i)  # Gán bit vào vị trí tương ứng\n",
    "    return transformed"
   ],
   "id": "16204ca081597bae",
   "outputs": [],
   "execution_count": 257
  },
  {
   "metadata": {
    "ExecuteTime": {
     "end_time": "2025-03-19T02:05:01.441617Z",
     "start_time": "2025-03-19T02:05:01.431449Z"
    }
   },
   "cell_type": "code",
   "source": [
    "def generate_S_BOX():\n",
    "    \"\"\"Tạo bảng S-Box cho AES.\"\"\"\n",
    "    S_BOX = [0] * 256\n",
    "    for i in range(256):\n",
    "        S_BOX[i] = affine_transform(inverse_GF256(i))\n",
    "    return S_BOX"
   ],
   "id": "e17a1ab2a57badfc",
   "outputs": [],
   "execution_count": 258
  },
  {
   "metadata": {
    "ExecuteTime": {
     "end_time": "2025-03-19T02:05:01.546278Z",
     "start_time": "2025-03-19T02:05:01.462816Z"
    }
   },
   "cell_type": "code",
   "source": [
    "S_BOX = generate_S_BOX()\n",
    "print(\"Table S-Box (AES):\")\n",
    "for i in range(16):\n",
    "    print(\" \".join(f\"{S_BOX[i * 16 + j]:02X}\" for j in range(16)))"
   ],
   "id": "54269edfd4f8ac64",
   "outputs": [
    {
     "name": "stdout",
     "output_type": "stream",
     "text": [
      "Table S-Box (AES):\n",
      "63 7C 77 7B F2 6B 6F C5 30 01 67 2B FE D7 AB 76\n",
      "CA 82 C9 7D FA 59 47 F0 AD D4 A2 AF 9C A4 72 C0\n",
      "B7 FD 93 26 36 3F F7 CC 34 A5 E5 F1 71 D8 31 15\n",
      "04 C7 23 C3 18 96 05 9A 07 12 80 E2 EB 27 B2 75\n",
      "09 83 2C 1A 1B 6E 5A A0 52 3B D6 B3 29 E3 2F 84\n",
      "53 D1 00 ED 20 FC B1 5B 6A CB BE 39 4A 4C 58 CF\n",
      "D0 EF AA FB 43 4D 33 85 45 F9 02 7F 50 3C 9F A8\n",
      "51 A3 40 8F 92 9D 38 F5 BC B6 DA 21 10 FF F3 D2\n",
      "CD 0C 13 EC 5F 97 44 17 C4 A7 7E 3D 64 5D 19 73\n",
      "60 81 4F DC 22 2A 90 88 46 EE B8 14 DE 5E 0B DB\n",
      "E0 32 3A 0A 49 06 24 5C C2 D3 AC 62 91 95 E4 79\n",
      "E7 C8 37 6D 8D D5 4E A9 6C 56 F4 EA 65 7A AE 08\n",
      "BA 78 25 2E 1C A6 B4 C6 E8 DD 74 1F 4B BD 8B 8A\n",
      "70 3E B5 66 48 03 F6 0E 61 35 57 B9 86 C1 1D 9E\n",
      "E1 F8 98 11 69 D9 8E 94 9B 1E 87 E9 CE 55 28 DF\n",
      "8C A1 89 0D BF E6 42 68 41 99 2D 0F B0 54 BB 16\n"
     ]
    }
   ],
   "execution_count": 259
  },
  {
   "metadata": {},
   "cell_type": "markdown",
   "source": "# Зашифрование в AES.",
   "id": "f36c9b614bb6c22d"
  },
  {
   "metadata": {
    "ExecuteTime": {
     "end_time": "2025-03-19T02:05:01.574Z",
     "start_time": "2025-03-19T02:05:01.566118Z"
    }
   },
   "cell_type": "code",
   "source": [
    "from bitarray import bitarray\n",
    "from bitarray.util import ba2int, int2ba"
   ],
   "id": "642657a09faf9731",
   "outputs": [],
   "execution_count": 260
  },
  {
   "metadata": {
    "ExecuteTime": {
     "end_time": "2025-03-19T02:05:01.773742Z",
     "start_time": "2025-03-19T02:05:01.685859Z"
    }
   },
   "cell_type": "code",
   "source": [
    "# key hex_str 128 bit\n",
    "key = \"2B 7E 15 16 28 AE D2 A6 AB F7 15 88 09 CF 4F 3C\"\n",
    "# plaintext hex_str 128 bit: 3243f6a8885a308d313198a2e0370734\n",
    "plaintext = \"32 43 f6 a8 88 5a 30 8d 31 31 98 a2 e0 37 07 34\"\n",
    "S_BOX = generate_S_BOX()\n",
    "C = [[2, 3, 1, 1],[1, 2, 3, 1],[1, 1, 2, 3],[3, 1, 1, 2]]\n",
    "versions = {\n",
    "    128: (4, 10),\n",
    "    192: (6, 12),\n",
    "    256: (8, 14)\n",
    "}"
   ],
   "id": "13fe281bd63e9aec",
   "outputs": [],
   "execution_count": 261
  },
  {
   "metadata": {},
   "cell_type": "markdown",
   "source": "## Алгоритм расширения ключа",
   "id": "30c2f112fc18442f"
  },
  {
   "metadata": {
    "ExecuteTime": {
     "end_time": "2025-03-19T02:05:01.793825Z",
     "start_time": "2025-03-19T02:05:01.785460Z"
    }
   },
   "cell_type": "code",
   "source": [
    "def hex_to_bin(hex_string, version=32):\n",
    "    hex_string = hex_string.replace(\" \", \"\")\n",
    "    return bitarray(bin(int(hex_string, 16))[2:].zfill(version))"
   ],
   "id": "737553610f0859a3",
   "outputs": [],
   "execution_count": 262
  },
  {
   "metadata": {
    "ExecuteTime": {
     "end_time": "2025-03-19T02:05:01.817036Z",
     "start_time": "2025-03-19T02:05:01.805662Z"
    }
   },
   "cell_type": "code",
   "source": "hex_to_bin('2b')",
   "id": "3b91208892082bbd",
   "outputs": [
    {
     "data": {
      "text/plain": [
       "bitarray('00000000000000000000000000101011')"
      ]
     },
     "execution_count": 263,
     "metadata": {},
     "output_type": "execute_result"
    }
   ],
   "execution_count": 263
  },
  {
   "metadata": {
    "ExecuteTime": {
     "end_time": "2025-03-19T02:05:01.863479Z",
     "start_time": "2025-03-19T02:05:01.853634Z"
    }
   },
   "cell_type": "code",
   "source": [
    "def bin_to_hex(bin_array, version=32):\n",
    "    \"\"\"Chuyển đổi dữ liệu nhị phân thành chuỗi thập lục phân với định dạng mong muốn.\"\"\"\n",
    "    hex_string = format(ba2int(bin_array), 'X').zfill(version // 4)\n",
    "    return ' '.join(hex_string[i:i+2] for i in range(0, len(hex_string), 2))"
   ],
   "id": "52b83e94303df989",
   "outputs": [],
   "execution_count": 264
  },
  {
   "metadata": {
    "ExecuteTime": {
     "end_time": "2025-03-19T02:05:01.936814Z",
     "start_time": "2025-03-19T02:05:01.924466Z"
    }
   },
   "cell_type": "code",
   "source": "bin_to_hex(bitarray('101011'))",
   "id": "28c6d4af2b633ad5",
   "outputs": [
    {
     "data": {
      "text/plain": [
       "'00 00 00 2B'"
      ]
     },
     "execution_count": 265,
     "metadata": {},
     "output_type": "execute_result"
    }
   ],
   "execution_count": 265
  },
  {
   "metadata": {
    "ExecuteTime": {
     "end_time": "2025-03-19T02:05:02.004207Z",
     "start_time": "2025-03-19T02:05:01.996205Z"
    }
   },
   "cell_type": "code",
   "source": "bin_to_hex(bitarray('11011000'))",
   "id": "7b679084afefd9fa",
   "outputs": [
    {
     "data": {
      "text/plain": [
       "'00 00 00 D8'"
      ]
     },
     "execution_count": 266,
     "metadata": {},
     "output_type": "execute_result"
    }
   ],
   "execution_count": 266
  },
  {
   "metadata": {
    "ExecuteTime": {
     "end_time": "2025-03-19T02:05:02.083679Z",
     "start_time": "2025-03-19T02:05:02.075457Z"
    }
   },
   "cell_type": "code",
   "source": [
    "def RotWord(word: bitarray):\n",
    "    return word[8:] + word[:8]"
   ],
   "id": "421051cd81d92f3",
   "outputs": [],
   "execution_count": 267
  },
  {
   "metadata": {
    "ExecuteTime": {
     "end_time": "2025-03-19T02:05:02.216030Z",
     "start_time": "2025-03-19T02:05:02.198207Z"
    }
   },
   "cell_type": "code",
   "source": [
    "word = '2b 7e 15 16'\n",
    "print(hex_to_bin(word))\n",
    "bin_to_hex(RotWord(hex_to_bin(word)))"
   ],
   "id": "ade1dd498fe3bfa1",
   "outputs": [
    {
     "name": "stdout",
     "output_type": "stream",
     "text": [
      "bitarray('00101011011111100001010100010110')\n"
     ]
    },
    {
     "data": {
      "text/plain": [
       "'7E 15 16 2B'"
      ]
     },
     "execution_count": 268,
     "metadata": {},
     "output_type": "execute_result"
    }
   ],
   "execution_count": 268
  },
  {
   "metadata": {
    "ExecuteTime": {
     "end_time": "2025-03-19T02:05:02.309125Z",
     "start_time": "2025-03-19T02:05:02.301193Z"
    }
   },
   "cell_type": "code",
   "source": [
    "def SubWord(word: bitarray):\n",
    "    new_word = [S_BOX[ba2int(word[i:i+8])] for i in range(0, len(word), 8)]\n",
    "    return bitarray(''.join(format(i, '08b') for i in new_word))"
   ],
   "id": "aaca661b8a11ccc6",
   "outputs": [],
   "execution_count": 269
  },
  {
   "metadata": {
    "ExecuteTime": {
     "end_time": "2025-03-19T02:05:02.376386Z",
     "start_time": "2025-03-19T02:05:02.365235Z"
    }
   },
   "cell_type": "code",
   "source": [
    "word = '2b 7e 15 16'\n",
    "bin_to_hex(SubWord(hex_to_bin(word)))"
   ],
   "id": "d73ab7aa0b3c1290",
   "outputs": [
    {
     "data": {
      "text/plain": [
       "'F1 F3 59 47'"
      ]
     },
     "execution_count": 270,
     "metadata": {},
     "output_type": "execute_result"
    }
   ],
   "execution_count": 270
  },
  {
   "metadata": {
    "ExecuteTime": {
     "end_time": "2025-03-19T02:05:02.415271Z",
     "start_time": "2025-03-19T02:05:02.395569Z"
    }
   },
   "cell_type": "code",
   "source": [
    "def generate_Rcon(round_id):\n",
    "    Rcon = exp_GF256(2, round_id - 1)\n",
    "    Rcon_2b = bitarray(bin(Rcon)[2:].zfill(8)) + bitarray('0'*24)\n",
    "    return Rcon_2b"
   ],
   "id": "bcd8415ea9f06253",
   "outputs": [],
   "execution_count": 271
  },
  {
   "metadata": {
    "ExecuteTime": {
     "end_time": "2025-03-19T02:05:02.452904Z",
     "start_time": "2025-03-19T02:05:02.438501Z"
    }
   },
   "cell_type": "code",
   "source": [
    "for i in range(1, 11):\n",
    "    print(f'Rcon[{i}]: {bin_to_hex(generate_Rcon(i))}')"
   ],
   "id": "c7da1c12b6acad4d",
   "outputs": [
    {
     "name": "stdout",
     "output_type": "stream",
     "text": [
      "Rcon[1]: 01 00 00 00\n",
      "Rcon[2]: 02 00 00 00\n",
      "Rcon[3]: 04 00 00 00\n",
      "Rcon[4]: 08 00 00 00\n",
      "Rcon[5]: 10 00 00 00\n",
      "Rcon[6]: 20 00 00 00\n",
      "Rcon[7]: 40 00 00 00\n",
      "Rcon[8]: 80 00 00 00\n",
      "Rcon[9]: 1B 00 00 00\n",
      "Rcon[10]: 36 00 00 00\n"
     ]
    }
   ],
   "execution_count": 272
  },
  {
   "metadata": {
    "ExecuteTime": {
     "end_time": "2025-03-19T02:05:02.601610Z",
     "start_time": "2025-03-19T02:05:02.582178Z"
    }
   },
   "cell_type": "code",
   "source": [
    "def expand_key(key, version):\n",
    "    N = versions[version][0]\n",
    "    R = versions[version][1] + 1\n",
    "    \n",
    "    key_bin = hex_to_bin(key, version=128) \n",
    "    \n",
    "    W = [key_bin[i:i+32] for i in range(0, len(key_bin), 32)]\n",
    "    for i in range(N, 4 * R):\n",
    "        temp = W[i - 1]\n",
    "        if i % N == 0:\n",
    "            temp = SubWord(RotWord(temp)) ^ generate_Rcon(i // N)\n",
    "        elif version == 256 and i % N == 4:\n",
    "            temp = SubWord(temp)\n",
    "        W.append(W[i - N] ^ temp)\n",
    "    \n",
    "    # chia thành các key vòng tương ứng cho các vòng AES\n",
    "    return [W[i:i+4] for i in range(0, len(W), 4)]"
   ],
   "id": "1e19cffbbec92320",
   "outputs": [],
   "execution_count": 273
  },
  {
   "metadata": {
    "ExecuteTime": {
     "end_time": "2025-03-19T02:05:02.663435Z",
     "start_time": "2025-03-19T02:05:02.656892Z"
    }
   },
   "cell_type": "code",
   "source": [
    "# keys = expand_key(key, 128)\n",
    "# for key_ in keys:\n",
    "#     print(key_)  "
   ],
   "id": "512d650bb89430c2",
   "outputs": [],
   "execution_count": 274
  },
  {
   "metadata": {},
   "cell_type": "markdown",
   "source": "## Раунд AES",
   "id": "6b965d0ac1cbbcf1"
  },
  {
   "metadata": {
    "ExecuteTime": {
     "end_time": "2025-03-19T02:05:02.699190Z",
     "start_time": "2025-03-19T02:05:02.692565Z"
    }
   },
   "cell_type": "code",
   "source": [
    "def SubBytes(state):\n",
    "    for i in range(4):\n",
    "        for j in range(4):\n",
    "            state[i][j] = S_BOX[state[i][j]]\n",
    "    return state"
   ],
   "id": "2275f0fa7f8f2a71",
   "outputs": [],
   "execution_count": 275
  },
  {
   "metadata": {
    "ExecuteTime": {
     "end_time": "2025-03-19T02:05:02.755112Z",
     "start_time": "2025-03-19T02:05:02.740166Z"
    }
   },
   "cell_type": "code",
   "source": [
    "def ShiftRows(state):\n",
    "    for i in range(4):\n",
    "        state[i] = state[i][i:] + state[i][:i]\n",
    "    return state"
   ],
   "id": "53a8328ba85aeedd",
   "outputs": [],
   "execution_count": 276
  },
  {
   "metadata": {
    "ExecuteTime": {
     "end_time": "2025-03-19T02:05:02.778936Z",
     "start_time": "2025-03-19T02:05:02.770691Z"
    }
   },
   "cell_type": "code",
   "source": [
    "def MixColumns(state):\n",
    "    new_state = [[0]*4 for _ in range(4)]\n",
    "    for i in range(4):\n",
    "        for j in range(4):\n",
    "            new_state[j][i] = (multiply_GF256(C[i][0], state[0][j]) ^ \\\n",
    "                                multiply_GF256(C[i][1], state[1][j]) ^ \\\n",
    "                                multiply_GF256(C[i][2], state[2][j]) ^ \\\n",
    "                               multiply_GF256(C[i][3], state[3][j]))\n",
    "            \n",
    "    return new_state"
   ],
   "id": "58ef4b4ae5d57052",
   "outputs": [],
   "execution_count": 277
  },
  {
   "metadata": {
    "ExecuteTime": {
     "end_time": "2025-03-19T02:05:02.805715Z",
     "start_time": "2025-03-19T02:05:02.794523Z"
    }
   },
   "cell_type": "code",
   "source": [
    "state = [\n",
    "    [0xD4, 0xE0, 0xB8, 0x1E],\n",
    "    [0xBF, 0xB4, 0x41, 0x27],\n",
    "    [0x5D, 0x52, 0x11, 0x98],\n",
    "    [0x30, 0xAE, 0xF1, 0xE5]\n",
    "]\n",
    "new_state = MixColumns(state)\n",
    "# in new_state dạng hex\n",
    "for i in range(4):\n",
    "    for j in range(4):\n",
    "        print(hex(new_state[i][j]), end=' ')\n",
    "    print()"
   ],
   "id": "c5368844b1f3716d",
   "outputs": [
    {
     "name": "stdout",
     "output_type": "stream",
     "text": [
      "0x4 0x66 0x81 0xe5 \n",
      "0xe0 0xcb 0x19 0x9a \n",
      "0x48 0xf8 0xd3 0x7a \n",
      "0x28 0x6 0x26 0x4c \n"
     ]
    }
   ],
   "execution_count": 278
  },
  {
   "metadata": {
    "ExecuteTime": {
     "end_time": "2025-03-19T02:05:02.835695Z",
     "start_time": "2025-03-19T02:05:02.817611Z"
    }
   },
   "cell_type": "code",
   "source": [
    "def AddRoundKey(state, key):\n",
    "    key_mat = [[0]*4 for _ in range(4)]\n",
    "    print('key:')\n",
    "    for i in range(4):\n",
    "        for j in range(4):\n",
    "            key_mat[i][j] = ba2int(key[j][i*8:(i+1)*8])\n",
    "            print(f\"{key_mat[i][j]:02X}\", end=' ')\n",
    "        print()\n",
    "    \n",
    "    new_state = [[0]*4 for _ in range(4)]\n",
    "    for i in range(4):\n",
    "        for j in range(4):\n",
    "            new_state[i][j] = state[i][j] ^ key_mat[i][j]\n",
    "\n",
    "    return new_state"
   ],
   "id": "21e2102e45b73885",
   "outputs": [],
   "execution_count": 279
  },
  {
   "metadata": {
    "ExecuteTime": {
     "end_time": "2025-03-19T02:05:02.863999Z",
     "start_time": "2025-03-19T02:05:02.858313Z"
    }
   },
   "cell_type": "code",
   "source": [
    "def printState(state, name=\"state\"):\n",
    "    print(name)\n",
    "    for i in range(4):\n",
    "        for j in range(4):\n",
    "            print(f\"{state[i][j]:02X}\", end=' ')\n",
    "        print()"
   ],
   "id": "b2a51d061028ce12",
   "outputs": [],
   "execution_count": 280
  },
  {
   "metadata": {
    "ExecuteTime": {
     "end_time": "2025-03-19T02:05:02.892865Z",
     "start_time": "2025-03-19T02:05:02.883589Z"
    }
   },
   "cell_type": "code",
   "source": [
    "def trans_mat(state):\n",
    "    new_state = [[0]*4 for _ in range(4)]\n",
    "    for i in range(4):\n",
    "        for j in range(4):\n",
    "            new_state[j][i] = state[i][j]\n",
    "    return new_state"
   ],
   "id": "35af4cf9cd466363",
   "outputs": [],
   "execution_count": 281
  },
  {
   "metadata": {
    "ExecuteTime": {
     "end_time": "2025-03-19T02:05:02.914335Z",
     "start_time": "2025-03-19T02:05:02.906119Z"
    }
   },
   "cell_type": "code",
   "source": [
    "def Round_AES(state, key):\n",
    "    state = SubBytes(state)\n",
    "    printState(state, \"SubBytes\")\n",
    "    state = ShiftRows(state)\n",
    "    printState(state, \"ShiftRows\")\n",
    "    state = MixColumns(state)\n",
    "    printState(state, \"MixColumns\")\n",
    "    state = AddRoundKey(trans_mat(state), key)\n",
    "    printState(state, \"AddRoundKey\")\n",
    "    return state"
   ],
   "id": "8b9c05fb333e749c",
   "outputs": [],
   "execution_count": 282
  },
  {
   "metadata": {},
   "cell_type": "markdown",
   "source": "## Function encrypt AES",
   "id": "a97cd3b175cb100f"
  },
  {
   "metadata": {
    "ExecuteTime": {
     "end_time": "2025-03-19T02:05:02.936725Z",
     "start_time": "2025-03-19T02:05:02.929027Z"
    }
   },
   "cell_type": "code",
   "source": "from copy import deepcopy",
   "id": "9daa00803be5ccf",
   "outputs": [],
   "execution_count": 283
  },
  {
   "metadata": {
    "ExecuteTime": {
     "end_time": "2025-03-19T02:05:02.962824Z",
     "start_time": "2025-03-19T02:05:02.949945Z"
    }
   },
   "cell_type": "code",
   "source": [
    "def encrypt_AES(plaintext, key, version):\n",
    "    N = versions[version][0]\n",
    "    R = versions[version][1]\n",
    "    \n",
    "    plaintext = hex_to_bin(plaintext, version=128)\n",
    "    \n",
    "    keys_round = expand_key(key, version)\n",
    "    key_states = []\n",
    "    \n",
    "    state = [[0]*4 for _ in range(4)]\n",
    "    print(\"Start state:\")\n",
    "    for i in range(4):\n",
    "        for j in range(4):\n",
    "            state[i][j] = ba2int(plaintext[j*32 + i*8:j*32 + (i+1)*8])\n",
    "            print(f'{state[i][j]:02X}', end=' ')\n",
    "        print()\n",
    "   \n",
    "    state = AddRoundKey(state, keys_round[0])\n",
    "    print(\"Round 0:\")\n",
    "    printState(state)\n",
    "    key_states.append((deepcopy(keys_round[0]), deepcopy(state)))\n",
    "    \n",
    "    for i in range(1, R):\n",
    "        print(f\"Round {i}:\")\n",
    "        state = Round_AES(state, keys_round[i])\n",
    "        key_states.append((deepcopy(keys_round[i]), deepcopy(state)))\n",
    "    \n",
    "    print(f\"Round {R}:\")\n",
    "    state = SubBytes(state)\n",
    "    printState(state, \"SubBytes\")\n",
    "    state = ShiftRows(state)\n",
    "    printState(state, \"ShiftRows\")\n",
    "    state = AddRoundKey(state, keys_round[R])\n",
    "    printState(state, \"AddRoundKey\")\n",
    "    key_states.append((deepcopy(keys_round[R]), deepcopy(state)))\n",
    "    return state, key_states"
   ],
   "id": "c4f9d0a138a1b5c8",
   "outputs": [],
   "execution_count": 284
  },
  {
   "metadata": {
    "ExecuteTime": {
     "end_time": "2025-03-19T02:05:02.984974Z",
     "start_time": "2025-03-19T02:05:02.976769Z"
    }
   },
   "cell_type": "code",
   "source": [
    "def arr_to_hex_str(int_array):\n",
    "    if type(int_array[0]) is bitarray:\n",
    "        # chuyển thành int\n",
    "        int_array = [ba2int(elem) for elem in int_array]\n",
    "    return ' '.join(f\"{i:02X}\" for i in int_array)"
   ],
   "id": "c94809d8bf99c786",
   "outputs": [],
   "execution_count": 285
  },
  {
   "metadata": {
    "ExecuteTime": {
     "end_time": "2025-03-19T02:05:03.008384Z",
     "start_time": "2025-03-19T02:05:03.001831Z"
    }
   },
   "cell_type": "code",
   "source": [
    "def convert_state_to_hex_str(state):\n",
    "    return ' '.join([arr_to_hex_str(col) for col in zip(*state)])"
   ],
   "id": "9008ece4ebb961b0",
   "outputs": [],
   "execution_count": 286
  },
  {
   "metadata": {
    "ExecuteTime": {
     "end_time": "2025-03-19T02:05:03.039251Z",
     "start_time": "2025-03-19T02:05:03.021594Z"
    }
   },
   "cell_type": "code",
   "source": [
    "cipher_state, _ = encrypt_AES(plaintext, key, 128)\n",
    "# chuyển thành dạng hex str\n",
    "print(\"-----------------\")\n",
    "for i in range(4):\n",
    "    for j in range(4):\n",
    "        print(f\"{cipher_state[i][j]:02X}\", end=' ')\n",
    "    print()\n",
    "  \n",
    "ciphertext = convert_state_to_hex_str(cipher_state)\n",
    "print(ciphertext)"
   ],
   "id": "15d99774e0bd3f38",
   "outputs": [
    {
     "name": "stdout",
     "output_type": "stream",
     "text": [
      "Start state:\n",
      "32 88 31 E0 \n",
      "43 5A 31 37 \n",
      "F6 30 98 07 \n",
      "A8 8D A2 34 \n",
      "key:\n",
      "2B 28 AB 09 \n",
      "7E AE F7 CF \n",
      "15 D2 15 4F \n",
      "16 A6 88 3C \n",
      "Round 0:\n",
      "state\n",
      "19 A0 9A E9 \n",
      "3D F4 C6 F8 \n",
      "E3 E2 8D 48 \n",
      "BE 2B 2A 08 \n",
      "Round 1:\n",
      "SubBytes\n",
      "D4 E0 B8 1E \n",
      "27 BF B4 41 \n",
      "11 98 5D 52 \n",
      "AE F1 E5 30 \n",
      "ShiftRows\n",
      "D4 E0 B8 1E \n",
      "BF B4 41 27 \n",
      "5D 52 11 98 \n",
      "30 AE F1 E5 \n",
      "MixColumns\n",
      "04 66 81 E5 \n",
      "E0 CB 19 9A \n",
      "48 F8 D3 7A \n",
      "28 06 26 4C \n",
      "key:\n",
      "A0 88 23 2A \n",
      "FA 54 A3 6C \n",
      "FE 2C 39 76 \n",
      "17 B1 39 05 \n",
      "AddRoundKey\n",
      "A4 68 6B 02 \n",
      "9C 9F 5B 6A \n",
      "7F 35 EA 50 \n",
      "F2 2B 43 49 \n",
      "Round 2:\n",
      "SubBytes\n",
      "49 45 7F 77 \n",
      "DE DB 39 02 \n",
      "D2 96 87 53 \n",
      "89 F1 1A 3B \n",
      "ShiftRows\n",
      "49 45 7F 77 \n",
      "DB 39 02 DE \n",
      "87 53 D2 96 \n",
      "3B 89 F1 1A \n",
      "MixColumns\n",
      "58 4D CA F1 \n",
      "1B 4B 5A AC \n",
      "DB E7 CA A8 \n",
      "1B 6B B0 E5 \n",
      "key:\n",
      "F2 7A 59 73 \n",
      "C2 96 35 59 \n",
      "95 B9 80 F6 \n",
      "F2 43 7A 7F \n",
      "AddRoundKey\n",
      "AA 61 82 68 \n",
      "8F DD D2 32 \n",
      "5F E3 4A 46 \n",
      "03 EF D2 9A \n",
      "Round 3:\n",
      "SubBytes\n",
      "AC EF 13 45 \n",
      "73 C1 B5 23 \n",
      "CF 11 D6 5A \n",
      "7B DF B5 B8 \n",
      "ShiftRows\n",
      "AC EF 13 45 \n",
      "C1 B5 23 73 \n",
      "D6 5A CF 11 \n",
      "B8 7B DF B5 \n",
      "MixColumns\n",
      "75 EC 09 93 \n",
      "20 0B 63 33 \n",
      "53 C0 CF 7C \n",
      "BB 25 D0 DC \n",
      "key:\n",
      "3D 47 1E 6D \n",
      "80 16 23 7A \n",
      "47 FE 7E 88 \n",
      "7D 3E 44 3B \n",
      "AddRoundKey\n",
      "48 67 4D D6 \n",
      "6C 1D E3 5F \n",
      "4E 9D B1 58 \n",
      "EE 0D 38 E7 \n",
      "Round 4:\n",
      "SubBytes\n",
      "52 85 E3 F6 \n",
      "50 A4 11 CF \n",
      "2F 5E C8 6A \n",
      "28 D7 07 94 \n",
      "ShiftRows\n",
      "52 85 E3 F6 \n",
      "A4 11 CF 50 \n",
      "C8 6A 2F 5E \n",
      "94 28 D7 07 \n",
      "MixColumns\n",
      "0F D6 DA A9 \n",
      "60 31 38 BF \n",
      "6F C0 10 6B \n",
      "5E B3 13 01 \n",
      "key:\n",
      "EF A8 B6 DB \n",
      "44 52 71 0B \n",
      "A5 5B 25 AD \n",
      "41 7F 3B 00 \n",
      "AddRoundKey\n",
      "E0 C8 D9 85 \n",
      "92 63 B1 B8 \n",
      "7F 63 35 BE \n",
      "E8 C0 50 01 \n",
      "Round 5:\n",
      "SubBytes\n",
      "E1 E8 35 97 \n",
      "4F FB C8 6C \n",
      "D2 FB 96 AE \n",
      "9B BA 53 7C \n",
      "ShiftRows\n",
      "E1 E8 35 97 \n",
      "FB C8 6C 4F \n",
      "96 AE D2 FB \n",
      "7C 9B BA 53 \n",
      "MixColumns\n",
      "25 D1 A9 AD \n",
      "BD 11 D1 68 \n",
      "B6 3A 33 8E \n",
      "4C 4C C0 B0 \n",
      "key:\n",
      "D4 7C CA 11 \n",
      "D1 83 F2 F9 \n",
      "C6 9D B8 15 \n",
      "F8 87 BC BC \n",
      "AddRoundKey\n",
      "F1 C1 7C 5D \n",
      "00 92 C8 B5 \n",
      "6F 4C 8B D5 \n",
      "55 EF 32 0C \n",
      "Round 6:\n",
      "SubBytes\n",
      "A1 78 10 4C \n",
      "63 4F E8 D5 \n",
      "A8 29 3D 03 \n",
      "FC DF 23 FE \n",
      "ShiftRows\n",
      "A1 78 10 4C \n",
      "4F E8 D5 63 \n",
      "3D 03 A8 29 \n",
      "FE FC DF 23 \n",
      "MixColumns\n",
      "4B 86 8D 6D \n",
      "2C 4A 89 80 \n",
      "33 9D F4 E8 \n",
      "37 D2 18 D8 \n",
      "key:\n",
      "6D 11 DB CA \n",
      "88 0B F9 00 \n",
      "A3 3E 86 93 \n",
      "7A FD 41 FD \n",
      "AddRoundKey\n",
      "26 3D E8 FD \n",
      "0E 41 64 D2 \n",
      "2E B7 72 8B \n",
      "17 7D A9 25 \n",
      "Round 7:\n",
      "SubBytes\n",
      "F7 27 9B 54 \n",
      "AB 83 43 B5 \n",
      "31 A9 40 3D \n",
      "F0 FF D3 3F \n",
      "ShiftRows\n",
      "F7 27 9B 54 \n",
      "83 43 B5 AB \n",
      "40 3D 31 A9 \n",
      "3F F0 FF D3 \n",
      "MixColumns\n",
      "14 15 B5 BF \n",
      "46 16 15 EC \n",
      "27 46 56 D7 \n",
      "34 2A D8 43 \n",
      "key:\n",
      "4E 5F 84 4E \n",
      "54 5F A6 A6 \n",
      "F7 C9 4F DC \n",
      "0E F3 B2 4F \n",
      "AddRoundKey\n",
      "5A 19 A3 7A \n",
      "41 49 E0 8C \n",
      "42 DC 19 04 \n",
      "B1 1F 65 0C \n",
      "Round 8:\n",
      "SubBytes\n",
      "BE D4 0A DA \n",
      "83 3B E1 64 \n",
      "2C 86 D4 F2 \n",
      "C8 C0 4D FE \n",
      "ShiftRows\n",
      "BE D4 0A DA \n",
      "3B E1 64 83 \n",
      "D4 F2 2C 86 \n",
      "FE C8 C0 4D \n",
      "MixColumns\n",
      "00 51 2F D1 \n",
      "B1 C8 89 FF \n",
      "54 76 6D CD \n",
      "FA 1B 99 EA \n",
      "key:\n",
      "EA B5 31 7F \n",
      "D2 8D 2B 8D \n",
      "73 BA F5 29 \n",
      "21 D2 60 2F \n",
      "AddRoundKey\n",
      "EA 04 65 85 \n",
      "83 45 5D 96 \n",
      "5C 33 98 B0 \n",
      "F0 2D AD C5 \n",
      "Round 9:\n",
      "SubBytes\n",
      "87 F2 4D 97 \n",
      "EC 6E 4C 90 \n",
      "4A C3 46 E7 \n",
      "8C D8 95 A6 \n",
      "ShiftRows\n",
      "87 F2 4D 97 \n",
      "6E 4C 90 EC \n",
      "46 E7 4A C3 \n",
      "A6 8C D8 95 \n",
      "MixColumns\n",
      "47 37 94 ED \n",
      "40 D4 E4 A5 \n",
      "A3 70 3A A6 \n",
      "4C 9F 42 BC \n",
      "key:\n",
      "AC 19 28 57 \n",
      "77 FA D1 5C \n",
      "66 DC 29 00 \n",
      "F3 21 41 6E \n",
      "AddRoundKey\n",
      "EB 59 8B 1B \n",
      "40 2E A1 C3 \n",
      "F2 38 13 42 \n",
      "1E 84 E7 D2 \n",
      "Round 10:\n",
      "SubBytes\n",
      "E9 CB 3D AF \n",
      "09 31 32 2E \n",
      "89 07 7D 2C \n",
      "72 5F 94 B5 \n",
      "ShiftRows\n",
      "E9 CB 3D AF \n",
      "31 32 2E 09 \n",
      "7D 2C 89 07 \n",
      "B5 72 5F 94 \n",
      "key:\n",
      "D0 C9 E1 B6 \n",
      "14 EE 3F 63 \n",
      "F9 25 0C 0C \n",
      "A8 89 C8 A6 \n",
      "AddRoundKey\n",
      "39 02 DC 19 \n",
      "25 DC 11 6A \n",
      "84 09 85 0B \n",
      "1D FB 97 32 \n",
      "-----------------\n",
      "39 02 DC 19 \n",
      "25 DC 11 6A \n",
      "84 09 85 0B \n",
      "1D FB 97 32 \n",
      "39 25 84 1D 02 DC 09 FB DC 11 85 97 19 6A 0B 32\n"
     ]
    }
   ],
   "execution_count": 287
  },
  {
   "metadata": {},
   "cell_type": "markdown",
   "source": "# Расшифрование в AES.",
   "id": "bf83cf62fdeba238"
  },
  {
   "metadata": {
    "ExecuteTime": {
     "end_time": "2025-03-19T02:05:03.082892Z",
     "start_time": "2025-03-19T02:05:03.070968Z"
    }
   },
   "cell_type": "code",
   "source": [
    "def generate_inv_S_BOX(S_BOX):\n",
    "    \"\"\"Tạo bảng S-Box nghịch đảo cho AES.\"\"\"\n",
    "    INV_S_BOX = [0] * 256\n",
    "    for i in range(256):\n",
    "        INV_S_BOX[S_BOX[i]] = i\n",
    "    return INV_S_BOX"
   ],
   "id": "675ff51910bf6e96",
   "outputs": [],
   "execution_count": 288
  },
  {
   "metadata": {
    "ExecuteTime": {
     "end_time": "2025-03-19T02:05:03.116365Z",
     "start_time": "2025-03-19T02:05:03.099553Z"
    }
   },
   "cell_type": "code",
   "source": [
    "INV_S_BOX = generate_inv_S_BOX(S_BOX)\n",
    "inv_C = [[14, 11, 13, 9],[9, 14, 11, 13],[13, 9, 14, 11],[11, 13, 9, 14]]"
   ],
   "id": "ca1bb3b609ab2af7",
   "outputs": [],
   "execution_count": 289
  },
  {
   "metadata": {},
   "cell_type": "markdown",
   "source": "# Раунд AES",
   "id": "5e31548420761ba2"
  },
  {
   "metadata": {
    "ExecuteTime": {
     "end_time": "2025-03-19T02:05:03.137826Z",
     "start_time": "2025-03-19T02:05:03.130164Z"
    }
   },
   "cell_type": "code",
   "source": [
    "def InvSubBytes(state):\n",
    "    for i in range(4):\n",
    "        for j in range(4):\n",
    "            state[i][j] = INV_S_BOX[state[i][j]]\n",
    "    return state"
   ],
   "id": "285aa6daac44c03d",
   "outputs": [],
   "execution_count": 290
  },
  {
   "metadata": {
    "ExecuteTime": {
     "end_time": "2025-03-19T02:05:03.157484Z",
     "start_time": "2025-03-19T02:05:03.150319Z"
    }
   },
   "cell_type": "code",
   "source": [
    "def InvShiftRows(state):\n",
    "    for i in range(4):\n",
    "        state[i] = state[i][-i:] + state[i][:-i]\n",
    "    return state"
   ],
   "id": "e2cff8296964c142",
   "outputs": [],
   "execution_count": 291
  },
  {
   "metadata": {
    "ExecuteTime": {
     "end_time": "2025-03-19T02:05:03.183248Z",
     "start_time": "2025-03-19T02:05:03.170022Z"
    }
   },
   "cell_type": "code",
   "source": [
    "state = [['A2', '8A', '31', '43'],\n",
    "        ['F2', '2D', 'A0', 'A4'],\n",
    "        ['C4', 'C8', '8C', '10'],\n",
    "        ['D4', 'C7', 'E3', '48']]\n",
    "       \n",
    "InvShiftRows(state)"
   ],
   "id": "ad4161bd5e9416d2",
   "outputs": [
    {
     "data": {
      "text/plain": [
       "[['A2', '8A', '31', '43'],\n",
       " ['A4', 'F2', '2D', 'A0'],\n",
       " ['8C', '10', 'C4', 'C8'],\n",
       " ['C7', 'E3', '48', 'D4']]"
      ]
     },
     "execution_count": 292,
     "metadata": {},
     "output_type": "execute_result"
    }
   ],
   "execution_count": 292
  },
  {
   "metadata": {
    "ExecuteTime": {
     "end_time": "2025-03-19T02:05:03.241040Z",
     "start_time": "2025-03-19T02:05:03.231987Z"
    }
   },
   "cell_type": "code",
   "source": [
    "def InvMixColumns(state):\n",
    "    new_state = [[0]*4 for _ in range(4)]\n",
    "    for i in range(4):\n",
    "        for j in range(4):\n",
    "            new_state[j][i] = (multiply_GF256(inv_C[i][0], state[0][j]) ^ \\\n",
    "                                multiply_GF256(inv_C[i][1], state[1][j]) ^ \\\n",
    "                                multiply_GF256(inv_C[i][2], state[2][j]) ^ \\\n",
    "                               multiply_GF256(inv_C[i][3], state[3][j]))\n",
    "            \n",
    "    return new_state"
   ],
   "id": "db3aba98d6777378",
   "outputs": [],
   "execution_count": 293
  },
  {
   "metadata": {
    "ExecuteTime": {
     "end_time": "2025-03-19T02:05:03.260430Z",
     "start_time": "2025-03-19T02:05:03.253104Z"
    }
   },
   "cell_type": "code",
   "source": [
    "def Round_AES_inv(state, key):\n",
    "    state = InvShiftRows(state)\n",
    "    printState(state, \"InvShiftRows\")\n",
    "    state = InvSubBytes(state)\n",
    "    printState(state, \"InvSubBytes\")\n",
    "    state = AddRoundKey(state, key)\n",
    "    printState(state, \"AddRoundKey\")\n",
    "    state = InvMixColumns(state)\n",
    "    state = trans_mat(state)\n",
    "    printState(state, \"InvMixColumns\")\n",
    "    return state"
   ],
   "id": "848009aec42e71b",
   "outputs": [],
   "execution_count": 294
  },
  {
   "metadata": {},
   "cell_type": "markdown",
   "source": "## Function decrypt AES",
   "id": "aba769b497139d10"
  },
  {
   "metadata": {
    "ExecuteTime": {
     "end_time": "2025-03-19T02:05:03.286898Z",
     "start_time": "2025-03-19T02:05:03.275467Z"
    }
   },
   "cell_type": "code",
   "source": [
    "def decrypt_AES(ciphertext, key, version):\n",
    "    N = versions[version][0]\n",
    "    R = versions[version][1]\n",
    "    \n",
    "    ciphertext = hex_to_bin(ciphertext, version=128)\n",
    "    \n",
    "    keys_round = expand_key(key, version)[::-1]\n",
    "    states = []\n",
    "    \n",
    "    state = [[0]*4 for _ in range(4)]\n",
    "    print(\"Start state:\")\n",
    "    for i in range(4):\n",
    "        for j in range(4):\n",
    "            state[i][j] = ba2int(ciphertext[j*32 + i*8:j*32 + (i+1)*8])\n",
    "        #     print(f'{state[i][j]:02X}', end=' ')\n",
    "        # print()\n",
    "    states.append(deepcopy(state))\n",
    "    \n",
    "    state = AddRoundKey(state, keys_round[0])\n",
    "    print(\"Round 0:\")\n",
    "    printState(state)\n",
    "    states.append(deepcopy(state))\n",
    "    \n",
    "    for i in range(1, R):\n",
    "        print(f\"Round {i}:\")\n",
    "        state = Round_AES_inv(state, keys_round[i])\n",
    "        states.append(deepcopy(state))\n",
    "        \n",
    "    state = InvShiftRows(state)\n",
    "    state = InvSubBytes(state)\n",
    "    state = AddRoundKey(state, keys_round[R])\n",
    "    print(f\"Round {R}:\")\n",
    "    printState(state)\n",
    "    states.append(deepcopy(state))\n",
    "    return state"
   ],
   "id": "4079a21f98bdafc5",
   "outputs": [],
   "execution_count": 295
  },
  {
   "metadata": {
    "ExecuteTime": {
     "end_time": "2025-03-19T02:05:03.315356Z",
     "start_time": "2025-03-19T02:05:03.298604Z"
    }
   },
   "cell_type": "code",
   "source": [
    "print(ciphertext)\n",
    "plaintext_state = decrypt_AES(ciphertext, key, 128)\n",
    "# chuyển thành dạng hex str\n",
    "print(\"-----------------\")\n",
    "for i in range(4):\n",
    "    for j in range(4):\n",
    "        print(f\"{plaintext_state[i][j]:02X}\", end=' ')\n",
    "    print()"
   ],
   "id": "a2e38587768c2e44",
   "outputs": [
    {
     "name": "stdout",
     "output_type": "stream",
     "text": [
      "39 25 84 1D 02 DC 09 FB DC 11 85 97 19 6A 0B 32\n",
      "Start state:\n",
      "key:\n",
      "D0 C9 E1 B6 \n",
      "14 EE 3F 63 \n",
      "F9 25 0C 0C \n",
      "A8 89 C8 A6 \n",
      "Round 0:\n",
      "state\n",
      "E9 CB 3D AF \n",
      "31 32 2E 09 \n",
      "7D 2C 89 07 \n",
      "B5 72 5F 94 \n",
      "Round 1:\n",
      "InvShiftRows\n",
      "E9 CB 3D AF \n",
      "09 31 32 2E \n",
      "89 07 7D 2C \n",
      "72 5F 94 B5 \n",
      "InvSubBytes\n",
      "EB 59 8B 1B \n",
      "40 2E A1 C3 \n",
      "F2 38 13 42 \n",
      "1E 84 E7 D2 \n",
      "key:\n",
      "AC 19 28 57 \n",
      "77 FA D1 5C \n",
      "66 DC 29 00 \n",
      "F3 21 41 6E \n",
      "AddRoundKey\n",
      "47 40 A3 4C \n",
      "37 D4 70 9F \n",
      "94 E4 3A 42 \n",
      "ED A5 A6 BC \n",
      "InvMixColumns\n",
      "87 F2 4D 97 \n",
      "6E 4C 90 EC \n",
      "46 E7 4A C3 \n",
      "A6 8C D8 95 \n",
      "Round 2:\n",
      "InvShiftRows\n",
      "87 F2 4D 97 \n",
      "EC 6E 4C 90 \n",
      "4A C3 46 E7 \n",
      "8C D8 95 A6 \n",
      "InvSubBytes\n",
      "EA 04 65 85 \n",
      "83 45 5D 96 \n",
      "5C 33 98 B0 \n",
      "F0 2D AD C5 \n",
      "key:\n",
      "EA B5 31 7F \n",
      "D2 8D 2B 8D \n",
      "73 BA F5 29 \n",
      "21 D2 60 2F \n",
      "AddRoundKey\n",
      "00 B1 54 FA \n",
      "51 C8 76 1B \n",
      "2F 89 6D 99 \n",
      "D1 FF CD EA \n",
      "InvMixColumns\n",
      "BE D4 0A DA \n",
      "3B E1 64 83 \n",
      "D4 F2 2C 86 \n",
      "FE C8 C0 4D \n",
      "Round 3:\n",
      "InvShiftRows\n",
      "BE D4 0A DA \n",
      "83 3B E1 64 \n",
      "2C 86 D4 F2 \n",
      "C8 C0 4D FE \n",
      "InvSubBytes\n",
      "5A 19 A3 7A \n",
      "41 49 E0 8C \n",
      "42 DC 19 04 \n",
      "B1 1F 65 0C \n",
      "key:\n",
      "4E 5F 84 4E \n",
      "54 5F A6 A6 \n",
      "F7 C9 4F DC \n",
      "0E F3 B2 4F \n",
      "AddRoundKey\n",
      "14 46 27 34 \n",
      "15 16 46 2A \n",
      "B5 15 56 D8 \n",
      "BF EC D7 43 \n",
      "InvMixColumns\n",
      "F7 27 9B 54 \n",
      "83 43 B5 AB \n",
      "40 3D 31 A9 \n",
      "3F F0 FF D3 \n",
      "Round 4:\n",
      "InvShiftRows\n",
      "F7 27 9B 54 \n",
      "AB 83 43 B5 \n",
      "31 A9 40 3D \n",
      "F0 FF D3 3F \n",
      "InvSubBytes\n",
      "26 3D E8 FD \n",
      "0E 41 64 D2 \n",
      "2E B7 72 8B \n",
      "17 7D A9 25 \n",
      "key:\n",
      "6D 11 DB CA \n",
      "88 0B F9 00 \n",
      "A3 3E 86 93 \n",
      "7A FD 41 FD \n",
      "AddRoundKey\n",
      "4B 2C 33 37 \n",
      "86 4A 9D D2 \n",
      "8D 89 F4 18 \n",
      "6D 80 E8 D8 \n",
      "InvMixColumns\n",
      "A1 78 10 4C \n",
      "4F E8 D5 63 \n",
      "3D 03 A8 29 \n",
      "FE FC DF 23 \n",
      "Round 5:\n",
      "InvShiftRows\n",
      "A1 78 10 4C \n",
      "63 4F E8 D5 \n",
      "A8 29 3D 03 \n",
      "FC DF 23 FE \n",
      "InvSubBytes\n",
      "F1 C1 7C 5D \n",
      "00 92 C8 B5 \n",
      "6F 4C 8B D5 \n",
      "55 EF 32 0C \n",
      "key:\n",
      "D4 7C CA 11 \n",
      "D1 83 F2 F9 \n",
      "C6 9D B8 15 \n",
      "F8 87 BC BC \n",
      "AddRoundKey\n",
      "25 BD B6 4C \n",
      "D1 11 3A 4C \n",
      "A9 D1 33 C0 \n",
      "AD 68 8E B0 \n",
      "InvMixColumns\n",
      "E1 E8 35 97 \n",
      "FB C8 6C 4F \n",
      "96 AE D2 FB \n",
      "7C 9B BA 53 \n",
      "Round 6:\n",
      "InvShiftRows\n",
      "E1 E8 35 97 \n",
      "4F FB C8 6C \n",
      "D2 FB 96 AE \n",
      "9B BA 53 7C \n",
      "InvSubBytes\n",
      "E0 C8 D9 85 \n",
      "92 63 B1 B8 \n",
      "7F 63 35 BE \n",
      "E8 C0 50 01 \n",
      "key:\n",
      "EF A8 B6 DB \n",
      "44 52 71 0B \n",
      "A5 5B 25 AD \n",
      "41 7F 3B 00 \n",
      "AddRoundKey\n",
      "0F 60 6F 5E \n",
      "D6 31 C0 B3 \n",
      "DA 38 10 13 \n",
      "A9 BF 6B 01 \n",
      "InvMixColumns\n",
      "52 85 E3 F6 \n",
      "A4 11 CF 50 \n",
      "C8 6A 2F 5E \n",
      "94 28 D7 07 \n",
      "Round 7:\n",
      "InvShiftRows\n",
      "52 85 E3 F6 \n",
      "50 A4 11 CF \n",
      "2F 5E C8 6A \n",
      "28 D7 07 94 \n",
      "InvSubBytes\n",
      "48 67 4D D6 \n",
      "6C 1D E3 5F \n",
      "4E 9D B1 58 \n",
      "EE 0D 38 E7 \n",
      "key:\n",
      "3D 47 1E 6D \n",
      "80 16 23 7A \n",
      "47 FE 7E 88 \n",
      "7D 3E 44 3B \n",
      "AddRoundKey\n",
      "75 20 53 BB \n",
      "EC 0B C0 25 \n",
      "09 63 CF D0 \n",
      "93 33 7C DC \n",
      "InvMixColumns\n",
      "AC EF 13 45 \n",
      "C1 B5 23 73 \n",
      "D6 5A CF 11 \n",
      "B8 7B DF B5 \n",
      "Round 8:\n",
      "InvShiftRows\n",
      "AC EF 13 45 \n",
      "73 C1 B5 23 \n",
      "CF 11 D6 5A \n",
      "7B DF B5 B8 \n",
      "InvSubBytes\n",
      "AA 61 82 68 \n",
      "8F DD D2 32 \n",
      "5F E3 4A 46 \n",
      "03 EF D2 9A \n",
      "key:\n",
      "F2 7A 59 73 \n",
      "C2 96 35 59 \n",
      "95 B9 80 F6 \n",
      "F2 43 7A 7F \n",
      "AddRoundKey\n",
      "58 1B DB 1B \n",
      "4D 4B E7 6B \n",
      "CA 5A CA B0 \n",
      "F1 AC A8 E5 \n",
      "InvMixColumns\n",
      "49 45 7F 77 \n",
      "DB 39 02 DE \n",
      "87 53 D2 96 \n",
      "3B 89 F1 1A \n",
      "Round 9:\n",
      "InvShiftRows\n",
      "49 45 7F 77 \n",
      "DE DB 39 02 \n",
      "D2 96 87 53 \n",
      "89 F1 1A 3B \n",
      "InvSubBytes\n",
      "A4 68 6B 02 \n",
      "9C 9F 5B 6A \n",
      "7F 35 EA 50 \n",
      "F2 2B 43 49 \n",
      "key:\n",
      "A0 88 23 2A \n",
      "FA 54 A3 6C \n",
      "FE 2C 39 76 \n",
      "17 B1 39 05 \n",
      "AddRoundKey\n",
      "04 E0 48 28 \n",
      "66 CB F8 06 \n",
      "81 19 D3 26 \n",
      "E5 9A 7A 4C \n",
      "InvMixColumns\n",
      "D4 E0 B8 1E \n",
      "BF B4 41 27 \n",
      "5D 52 11 98 \n",
      "30 AE F1 E5 \n",
      "key:\n",
      "2B 28 AB 09 \n",
      "7E AE F7 CF \n",
      "15 D2 15 4F \n",
      "16 A6 88 3C \n",
      "Round 10:\n",
      "state\n",
      "32 88 31 E0 \n",
      "43 5A 31 37 \n",
      "F6 30 98 07 \n",
      "A8 8D A2 34 \n",
      "-----------------\n",
      "32 88 31 E0 \n",
      "43 5A 31 37 \n",
      "F6 30 98 07 \n",
      "A8 8D A2 34 \n"
     ]
    }
   ],
   "execution_count": 296
  },
  {
   "metadata": {
    "ExecuteTime": {
     "end_time": "2025-03-19T02:05:03.364889Z",
     "start_time": "2025-03-19T02:05:03.343658Z"
    }
   },
   "cell_type": "code",
   "source": [
    "plaintext = convert_state_to_hex_str(plaintext_state)\n",
    "print(plaintext)"
   ],
   "id": "a73b04e4032ca441",
   "outputs": [
    {
     "name": "stdout",
     "output_type": "stream",
     "text": [
      "32 43 F6 A8 88 5A 30 8D 31 31 98 A2 E0 37 07 34\n"
     ]
    }
   ],
   "execution_count": 297
  },
  {
   "metadata": {},
   "cell_type": "markdown",
   "source": "## AES version 256",
   "id": "64e0b3255341c2f6"
  },
  {
   "metadata": {
    "ExecuteTime": {
     "end_time": "2025-03-19T02:05:03.417172Z",
     "start_time": "2025-03-19T02:05:03.406940Z"
    }
   },
   "cell_type": "code",
   "source": [
    "key = \"FD E8 F7 A9 B8 6C 3B FF 07 C0 D3 9D 04 60 5E DD 14 A3 D4 B6 33 45 4D 7C 5B 21 3A 5B 9A 0F 58 6C\"\n",
    "plaintext = \"32 43 F6 A8 88 5A 30 8D 31 31 98 A2 E0 37 07 34\""
   ],
   "id": "944d3cfbf322da18",
   "outputs": [],
   "execution_count": 298
  },
  {
   "metadata": {
    "ExecuteTime": {
     "end_time": "2025-03-19T02:05:03.472338Z",
     "start_time": "2025-03-19T02:05:03.438844Z"
    }
   },
   "cell_type": "code",
   "source": "cipher_state, key_states = encrypt_AES(plaintext, key, 256)",
   "id": "e6dda1ec7b469769",
   "outputs": [
    {
     "name": "stdout",
     "output_type": "stream",
     "text": [
      "Start state:\n",
      "32 88 31 E0 \n",
      "43 5A 31 37 \n",
      "F6 30 98 07 \n",
      "A8 8D A2 34 \n",
      "key:\n",
      "FD B8 07 04 \n",
      "E8 6C C0 60 \n",
      "F7 3B D3 5E \n",
      "A9 FF 9D DD \n",
      "Round 0:\n",
      "state\n",
      "CF 30 36 E4 \n",
      "AB 36 F1 57 \n",
      "01 0B 4B 59 \n",
      "01 72 3F E9 \n",
      "Round 1:\n",
      "SubBytes\n",
      "8A 04 05 69 \n",
      "62 05 A1 5B \n",
      "7C 2B B3 CB \n",
      "7C 40 75 1E \n",
      "ShiftRows\n",
      "8A 04 05 69 \n",
      "05 A1 5B 62 \n",
      "B3 CB 7C 2B \n",
      "1E 7C 40 75 \n",
      "MixColumns\n",
      "AD 50 D0 0F \n",
      "47 67 AC 9E \n",
      "DB 77 66 A8 \n",
      "2A A5 C2 18 \n",
      "key:\n",
      "14 33 5B 9A \n",
      "A3 45 21 0F \n",
      "D4 4D 3A 58 \n",
      "B6 7C 5B 6C \n",
      "AddRoundKey\n",
      "B9 74 80 B0 \n",
      "F3 22 56 AA \n",
      "04 E1 5C 9A \n",
      "B9 E2 F3 74 \n",
      "Round 2:\n",
      "SubBytes\n",
      "56 92 CD E7 \n",
      "0D 93 B1 AC \n",
      "F2 F8 4A B8 \n",
      "56 98 0D 92 \n",
      "ShiftRows\n",
      "56 92 CD E7 \n",
      "93 B1 AC 0D \n",
      "4A B8 F2 F8 \n",
      "92 56 98 0D \n",
      "MixColumns\n",
      "DA 27 FC 1C \n",
      "19 6E B2 08 \n",
      "04 1B 2D 39 \n",
      "37 E3 16 DD \n",
      "key:\n",
      "8A 32 35 31 \n",
      "82 EE 2E 4E \n",
      "A7 9C 4F 11 \n",
      "11 EE 73 AE \n",
      "AddRoundKey\n",
      "50 2B 31 06 \n",
      "A5 80 35 AD \n",
      "5B 2E 62 07 \n",
      "0D E6 4A 73 \n",
      "Round 3:\n",
      "SubBytes\n",
      "53 F1 C7 6F \n",
      "06 CD 96 95 \n",
      "39 31 AA C5 \n",
      "D7 8E D6 8F \n",
      "ShiftRows\n",
      "53 F1 C7 6F \n",
      "CD 96 95 06 \n",
      "AA C5 39 31 \n",
      "8F D7 8E D6 \n",
      "MixColumns\n",
      "CF B8 5B 97 \n",
      "4A 45 94 EE \n",
      "86 33 A9 F9 \n",
      "33 E6 6A 31 \n",
      "key:\n",
      "D3 E0 BB 21 \n",
      "8C C9 E8 E7 \n",
      "56 1B 21 79 \n",
      "52 2E 75 19 \n",
      "AddRoundKey\n",
      "1C AA 3D 12 \n",
      "34 8C DB 01 \n",
      "0D 8F 88 13 \n",
      "C5 C0 8C 28 \n",
      "Round 4:\n",
      "SubBytes\n",
      "9C AC 27 C9 \n",
      "18 64 B9 7C \n",
      "D7 73 C4 7D \n",
      "A6 BA 64 34 \n",
      "ShiftRows\n",
      "9C AC 27 C9 \n",
      "64 B9 7C 18 \n",
      "C4 7D D7 73 \n",
      "34 A6 BA 64 \n",
      "MixColumns\n",
      "7F 37 37 77 \n",
      "48 E4 1E 7C \n",
      "A7 07 3B AD \n",
      "B6 08 9B E3 \n",
      "key:\n",
      "1C 2E 1B 2A \n",
      "34 DA F4 BA \n",
      "73 EF A0 B1 \n",
      "EC 02 71 DF \n",
      "AddRoundKey\n",
      "63 66 BC 9C \n",
      "03 3E F3 B2 \n",
      "44 F1 9B 2A \n",
      "9B 7E DC 3C \n",
      "Round 5:\n",
      "SubBytes\n",
      "FB 33 65 DE \n",
      "7B B2 0D 37 \n",
      "1B A1 14 E5 \n",
      "14 F3 86 EB \n",
      "ShiftRows\n",
      "FB 33 65 DE \n",
      "B2 0D 37 7B \n",
      "14 E5 1B A1 \n",
      "EB 14 F3 86 \n",
      "MixColumns\n",
      "DF 53 47 7D \n",
      "80 09 D3 95 \n",
      "7B D5 6A 7E \n",
      "0D 56 6D B4 \n",
      "key:\n",
      "36 D6 6D 4C \n",
      "78 B1 59 BE \n",
      "9E 85 A4 DD \n",
      "CC E2 97 8E \n",
      "AddRoundKey\n",
      "E9 56 16 41 \n",
      "2B B8 8C E8 \n",
      "D9 56 CE B0 \n",
      "B1 77 E9 3A \n",
      "Round 6:\n",
      "SubBytes\n",
      "1E B1 47 83 \n",
      "F1 6C 64 9B \n",
      "35 B1 8B E7 \n",
      "C8 F5 1E 80 \n",
      "ShiftRows\n",
      "1E B1 47 83 \n",
      "6C 64 9B F1 \n",
      "8B E7 35 B1 \n",
      "80 C8 F5 1E \n",
      "MixColumns\n",
      "83 C0 E4 DE \n",
      "FA 83 43 C0 \n",
      "F8 C0 B2 96 \n",
      "BA AC 29 E2 \n",
      "key:\n",
      "B6 98 83 A9 \n",
      "F5 2F DB 61 \n",
      "6A 85 25 94 \n",
      "C5 C7 B6 69 \n",
      "AddRoundKey\n",
      "35 62 7B 13 \n",
      "35 AC 1B CD \n",
      "8E C6 97 BD \n",
      "1B 07 20 8B \n",
      "Round 7:\n",
      "SubBytes\n",
      "96 AA 21 7D \n",
      "96 91 AF BD \n",
      "19 B4 88 7A \n",
      "AF C5 B7 3D \n",
      "ShiftRows\n",
      "96 AA 21 7D \n",
      "91 AF BD 96 \n",
      "88 7A 19 B4 \n",
      "3D AF C5 B7 \n",
      "MixColumns\n",
      "2A 11 4B C2 \n",
      "70 CE 1B 75 \n",
      "42 AE FA 56 \n",
      "58 3A 5A D0 \n",
      "key:\n",
      "E5 33 5E 12 \n",
      "97 26 7F C1 \n",
      "BC 39 9D 40 \n",
      "35 D7 40 CE \n",
      "AddRoundKey\n",
      "CF 43 1C 4A \n",
      "86 E8 D1 FB \n",
      "F7 22 67 1A \n",
      "F7 A2 16 1E \n",
      "Round 8:\n",
      "SubBytes\n",
      "8A 1A 9C D6 \n",
      "44 9B 3E 0F \n",
      "68 93 85 A2 \n",
      "68 3A 47 72 \n",
      "ShiftRows\n",
      "8A 1A 9C D6 \n",
      "9B 3E 0F 44 \n",
      "85 A2 68 93 \n",
      "72 68 3A 47 \n",
      "MixColumns\n",
      "4E 41 96 7F \n",
      "BC F3 C3 62 \n",
      "60 00 0D AC \n",
      "AF B7 66 38 \n",
      "key:\n",
      "C6 5E DD 74 \n",
      "FC D3 08 69 \n",
      "E1 64 41 D5 \n",
      "0C CB 7D 14 \n",
      "AddRoundKey\n",
      "88 E2 BD DB \n",
      "BD 20 08 DE \n",
      "77 A7 4C B3 \n",
      "73 A9 D1 2C \n",
      "Round 9:\n",
      "SubBytes\n",
      "C4 98 7A B9 \n",
      "7A B7 30 1D \n",
      "F5 5C 29 6D \n",
      "8F D3 3E 71 \n",
      "ShiftRows\n",
      "C4 98 7A B9 \n",
      "B7 30 1D 7A \n",
      "29 6D F5 5C \n",
      "71 8F D3 3E \n",
      "MixColumns\n",
      "09 BB B2 2B \n",
      "99 C0 F8 EB \n",
      "F5 97 F8 DB \n",
      "85 97 39 8A \n",
      "key:\n",
      "77 44 1A 08 \n",
      "6E 48 37 F6 \n",
      "BF 86 1B 5B \n",
      "CF 18 58 96 \n",
      "AddRoundKey\n",
      "7E DD EF 8D \n",
      "D5 88 A0 61 \n",
      "0D 7E E3 62 \n",
      "E4 F3 83 1C \n",
      "Round 10:\n",
      "SubBytes\n",
      "F3 C1 DF 5D \n",
      "03 C4 E0 EF \n",
      "D7 F3 11 AA \n",
      "69 0D EC 9C \n",
      "ShiftRows\n",
      "F3 C1 DF 5D \n",
      "C4 E0 EF 03 \n",
      "11 AA D7 F3 \n",
      "9C 69 0D EC \n",
      "MixColumns\n",
      "27 CF AA F8 \n",
      "61 96 D5 C0 \n",
      "55 75 92 58 \n",
      "A0 B9 8C D4 \n",
      "key:\n",
      "94 CA 17 63 \n",
      "C5 16 1E 77 \n",
      "71 15 54 81 \n",
      "3C F7 8A 9E \n",
      "AddRoundKey\n",
      "B3 AB 42 C3 \n",
      "0A 80 6B CE \n",
      "DB C0 C6 0D \n",
      "C4 37 D2 4A \n",
      "Round 11:\n",
      "SubBytes\n",
      "6D 62 2C 2E \n",
      "67 CD 7F 8B \n",
      "B9 BA B4 D7 \n",
      "1C 9A B5 D6 \n",
      "ShiftRows\n",
      "6D 62 2C 2E \n",
      "CD 7F 8B 67 \n",
      "B4 D7 B9 BA \n",
      "D6 1C 9A B5 \n",
      "MixColumns\n",
      "F4 FD B2 79 \n",
      "8E E2 8C 36 \n",
      "FD 6B 7B 69 \n",
      "FA 80 E2 DE \n",
      "key:\n",
      "8C C8 D2 DA \n",
      "9B D3 E4 12 \n",
      "B3 35 2E 75 \n",
      "C4 DC 84 12 \n",
      "AddRoundKey\n",
      "78 46 2F 20 \n",
      "66 31 8F 92 \n",
      "01 B9 55 97 \n",
      "BD EA ED CC \n",
      "Round 12:\n",
      "SubBytes\n",
      "BC 5A 15 B7 \n",
      "33 C7 73 4F \n",
      "7C 56 FC 88 \n",
      "7A 87 55 4B \n",
      "ShiftRows\n",
      "BC 5A 15 B7 \n",
      "C7 73 4F 33 \n",
      "FC 88 7C 56 \n",
      "4B 7A 87 55 \n",
      "MixColumns\n",
      "86 7D 45 72 \n",
      "D3 45 AC E1 \n",
      "00 88 30 19 \n",
      "23 7E D7 0D \n",
      "key:\n",
      "7D B7 A0 C3 \n",
      "58 4E 50 27 \n",
      "B8 AD F9 78 \n",
      "6B 9C 16 88 \n",
      "AddRoundKey\n",
      "FB 64 A0 E0 \n",
      "25 0B D8 59 \n",
      "FD 01 C9 AF \n",
      "19 7D 0F 85 \n",
      "Round 13:\n",
      "SubBytes\n",
      "0F 43 E0 E1 \n",
      "3F 2B 61 CB \n",
      "54 7C DD 79 \n",
      "D4 FF 76 97 \n",
      "ShiftRows\n",
      "0F 43 E0 E1 \n",
      "2B 61 CB 3F \n",
      "DD 79 54 7C \n",
      "97 D4 FF 76 \n",
      "MixColumns\n",
      "29 B2 27 D2 \n",
      "88 DE B7 6E \n",
      "36 6E 99 41 \n",
      "92 6D BC 97 \n",
      "key:\n",
      "A2 6A B8 62 \n",
      "57 84 60 72 \n",
      "0F 3A 14 61 \n",
      "00 DC 58 4A \n",
      "AddRoundKey\n",
      "8B E2 8E F0 \n",
      "E5 5A 0E 1F \n",
      "28 8D 8D DD \n",
      "D2 B2 19 DD \n",
      "Round 14:\n",
      "SubBytes\n",
      "3D 98 19 8C \n",
      "D9 BE AB C0 \n",
      "34 5D 5D C1 \n",
      "B5 37 D4 C1 \n",
      "ShiftRows\n",
      "3D 98 19 8C \n",
      "BE AB C0 D9 \n",
      "5D C1 34 5D \n",
      "C1 B5 37 D4 \n",
      "key:\n",
      "7D CA 6A A9 \n",
      "B7 F9 A9 8E \n",
      "6E C3 3A 42 \n",
      "C1 5D 4B C3 \n",
      "AddRoundKey\n",
      "40 52 73 25 \n",
      "09 52 69 57 \n",
      "33 02 0E 1F \n",
      "00 E8 7C 17 \n"
     ]
    }
   ],
   "execution_count": 299
  },
  {
   "metadata": {
    "ExecuteTime": {
     "end_time": "2025-03-19T02:05:03.517468Z",
     "start_time": "2025-03-19T02:05:03.497108Z"
    }
   },
   "cell_type": "code",
   "source": [
    "def arr_key_to_hex_str(key_array):\n",
    "    return ' '.join(bin_to_hex(key) for key in key_array if type(key) is bitarray)"
   ],
   "id": "9024c04d8f351e53",
   "outputs": [],
   "execution_count": 300
  },
  {
   "metadata": {
    "ExecuteTime": {
     "end_time": "2025-03-19T02:05:03.576185Z",
     "start_time": "2025-03-19T02:05:03.563850Z"
    }
   },
   "cell_type": "code",
   "source": [
    "key_states_hex_str = [(arr_key_to_hex_str(key), convert_state_to_hex_str(state))  \n",
    "                        for key, state in key_states]\n",
    "i = -1\n",
    "for key_hex, state_hex in key_states_hex_str:\n",
    "    print(f\"Key {i}:\", key_hex)\n",
    "    print(f\"State {i}:\", state_hex)\n",
    "    i += 1"
   ],
   "id": "1e75bed4b3dad9a6",
   "outputs": [
    {
     "name": "stdout",
     "output_type": "stream",
     "text": [
      "Key -1: FD E8 F7 A9 B8 6C 3B FF 07 C0 D3 9D 04 60 5E DD\n",
      "State -1: CF AB 01 01 30 36 0B 72 36 F1 4B 3F E4 57 59 E9\n",
      "Key 0: 14 A3 D4 B6 33 45 4D 7C 5B 21 3A 5B 9A 0F 58 6C\n",
      "State 0: B9 F3 04 B9 74 22 E1 E2 80 56 5C F3 B0 AA 9A 74\n",
      "Key 1: 8A 82 A7 11 32 EE 9C EE 35 2E 4F 73 31 4E 11 AE\n",
      "State 1: 50 A5 5B 0D 2B 80 2E E6 31 35 62 4A 06 AD 07 73\n",
      "Key 2: D3 8C 56 52 E0 C9 1B 2E BB E8 21 75 21 E7 79 19\n",
      "State 2: 1C 34 0D C5 AA 8C 8F C0 3D DB 88 8C 12 01 13 28\n",
      "Key 3: 1C 34 73 EC 2E DA EF 02 1B F4 A0 71 2A BA B1 DF\n",
      "State 3: 63 03 44 9B 66 3E F1 7E BC F3 9B DC 9C B2 2A 3C\n",
      "Key 4: 36 78 9E CC D6 B1 85 E2 6D 59 A4 97 4C BE DD 8E\n",
      "State 4: E9 2B D9 B1 56 B8 56 77 16 8C CE E9 41 E8 B0 3A\n",
      "Key 5: B6 F5 6A C5 98 2F 85 C7 83 DB 25 B6 A9 61 94 69\n",
      "State 5: 35 35 8E 1B 62 AC C6 07 7B 1B 97 20 13 CD BD 8B\n",
      "Key 6: E5 97 BC 35 33 26 39 D7 5E 7F 9D 40 12 C1 40 CE\n",
      "State 6: CF 86 F7 F7 43 E8 22 A2 1C D1 67 16 4A FB 1A 1E\n",
      "Key 7: C6 FC E1 0C 5E D3 64 CB DD 08 41 7D 74 69 D5 14\n",
      "State 7: 88 BD 77 73 E2 20 A7 A9 BD 08 4C D1 DB DE B3 2C\n",
      "Key 8: 77 6E BF CF 44 48 86 18 1A 37 1B 58 08 F6 5B 96\n",
      "State 8: 7E D5 0D E4 DD 88 7E F3 EF A0 E3 83 8D 61 62 1C\n",
      "Key 9: 94 C5 71 3C CA 16 15 F7 17 1E 54 8A 63 77 81 9E\n",
      "State 9: B3 0A DB C4 AB 80 C0 37 42 6B C6 D2 C3 CE 0D 4A\n",
      "Key 10: 8C 9B B3 C4 C8 D3 35 DC D2 E4 2E 84 DA 12 75 12\n",
      "State 10: 78 66 01 BD 46 31 B9 EA 2F 8F 55 ED 20 92 97 CC\n",
      "Key 11: 7D 58 B8 6B B7 4E AD 9C A0 50 F9 16 C3 27 78 88\n",
      "State 11: FB 25 FD 19 64 0B 01 7D A0 D8 C9 0F E0 59 AF 85\n",
      "Key 12: A2 57 0F 00 6A 84 3A DC B8 60 14 58 62 72 61 4A\n",
      "State 12: 8B E5 28 D2 E2 5A 8D B2 8E 0E 8D 19 F0 1F DD DD\n",
      "Key 13: 7D B7 6E C1 CA F9 C3 5D 6A A9 3A 4B A9 8E 42 C3\n",
      "State 13: 40 09 33 00 52 52 02 E8 73 69 0E 7C 25 57 1F 17\n"
     ]
    }
   ],
   "execution_count": 301
  },
  {
   "metadata": {
    "ExecuteTime": {
     "end_time": "2025-03-19T02:05:03.658379Z",
     "start_time": "2025-03-19T02:05:03.608341Z"
    }
   },
   "cell_type": "code",
   "source": [
    "# in ra file excel\n",
    "import pandas as pd\n",
    "\n",
    "df = pd.DataFrame(key_states_hex_str, columns=['Key', 'State'])\n",
    "df.to_excel('output/AES_256.xlsx', index=True)"
   ],
   "id": "6efacbbd87079546",
   "outputs": [],
   "execution_count": 302
  }
 ],
 "metadata": {
  "kernelspec": {
   "display_name": "Python 3",
   "language": "python",
   "name": "python3"
  },
  "language_info": {
   "codemirror_mode": {
    "name": "ipython",
    "version": 2
   },
   "file_extension": ".py",
   "mimetype": "text/x-python",
   "name": "python",
   "nbconvert_exporter": "python",
   "pygments_lexer": "ipython2",
   "version": "2.7.6"
  }
 },
 "nbformat": 4,
 "nbformat_minor": 5
}
