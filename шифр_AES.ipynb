{
 "cells": [
  {
   "metadata": {},
   "cell_type": "markdown",
   "source": "# **Операции над полями Галуа GF(2^8) в AES.**",
   "id": "c5d62d79f2010751"
  },
  {
   "metadata": {
    "ExecuteTime": {
     "end_time": "2025-03-22T00:26:45.815511Z",
     "start_time": "2025-03-22T00:26:45.798085Z"
    }
   },
   "cell_type": "code",
   "source": [
    "from pyexpat.errors import messages\n",
    "\n",
    "primitive = 0x11B # неприводимый многочлен x^8 + x^4 + x^3 + x + 1\n",
    "check_high_bit = 0x80 # 10000000"
   ],
   "id": "33143f9c142beb0a",
   "outputs": [],
   "execution_count": 1587
  },
  {
   "metadata": {
    "ExecuteTime": {
     "end_time": "2025-03-22T00:26:45.895663Z",
     "start_time": "2025-03-22T00:26:45.887403Z"
    }
   },
   "cell_type": "code",
   "source": [
    "def multiply_GF256(a, b):\n",
    "    \"\"\"\n",
    "    Nhân hai phần tử trong trường GF(2^8) sử dụng đa thức bất khả quy 0x11B.\n",
    "    \"\"\"\n",
    "    result = 0\n",
    "    for i in range(8):\n",
    "        if b & 1:  # Nếu bit cuối cùng của b là 1\n",
    "            result ^= a  # Cộng (XOR) a vào kết quả\n",
    "        high_bit_set = a & check_high_bit  # Kiểm tra bit cao nhất của a\n",
    "        a <<= 1\n",
    "        if high_bit_set:\n",
    "            a ^= primitive  # Chia lấy dư với đa thức bất khả quy nếu cần\n",
    "        b >>= 1  # Dịch phải b\n",
    "    return result"
   ],
   "id": "e7975e9b1de7db8c",
   "outputs": [],
   "execution_count": 1588
  },
  {
   "metadata": {
    "ExecuteTime": {
     "end_time": "2025-03-22T00:26:45.955909Z",
     "start_time": "2025-03-22T00:26:45.942765Z"
    }
   },
   "cell_type": "code",
   "source": "multiply_GF256(2, 148)",
   "id": "4cd002c0d43995a1",
   "outputs": [
    {
     "data": {
      "text/plain": [
       "51"
      ]
     },
     "execution_count": 1589,
     "metadata": {},
     "output_type": "execute_result"
    }
   ],
   "execution_count": 1589
  },
  {
   "metadata": {
    "ExecuteTime": {
     "end_time": "2025-03-22T00:26:46.017108Z",
     "start_time": "2025-03-22T00:26:46.007721Z"
    }
   },
   "cell_type": "code",
   "source": [
    "def inverse_GF256(x):\n",
    "    \"\"\"Tìm nghịch đảo của x trong GF(2^8) bằng phương pháp lũy thừa nhanh.\"\"\"\n",
    "    if x == 0:\n",
    "        return 0\n",
    "    y = 1\n",
    "    for _ in range(254):  # x^(254) mod GF(2^8) sẽ cho ra nghịch đảo\n",
    "        y = multiply_GF256(y, x)\n",
    "    return y"
   ],
   "id": "568d156fbca7b3bb",
   "outputs": [],
   "execution_count": 1590
  },
  {
   "metadata": {
    "ExecuteTime": {
     "end_time": "2025-03-22T00:26:46.092429Z",
     "start_time": "2025-03-22T00:26:46.083979Z"
    }
   },
   "cell_type": "code",
   "source": [
    "def exp_GF256(elem, exp):\n",
    "    if exp == 0:\n",
    "        return 1\n",
    "    r = exp % 2\n",
    "    q = exp // 2\n",
    "    if r:\n",
    "        return multiply_GF256(elem, multiply_GF256(exp_GF256(elem, q), exp_GF256(elem, q)))\n",
    "    else:\n",
    "        return multiply_GF256(exp_GF256(elem, q), exp_GF256(elem, q))"
   ],
   "id": "bab10ed49fc0035b",
   "outputs": [],
   "execution_count": 1591
  },
  {
   "metadata": {
    "ExecuteTime": {
     "end_time": "2025-03-22T00:26:46.148995Z",
     "start_time": "2025-03-22T00:26:46.139460Z"
    }
   },
   "cell_type": "code",
   "source": "exp_GF256(2, 8)",
   "id": "3a45a9b4ab6ff214",
   "outputs": [
    {
     "data": {
      "text/plain": [
       "27"
      ]
     },
     "execution_count": 1592,
     "metadata": {},
     "output_type": "execute_result"
    }
   ],
   "execution_count": 1592
  },
  {
   "metadata": {},
   "cell_type": "markdown",
   "source": "# **Алгоритм создания S-блока в AES.**",
   "id": "190736dd639d87d"
  },
  {
   "metadata": {
    "ExecuteTime": {
     "end_time": "2025-03-22T00:26:46.222356Z",
     "start_time": "2025-03-22T00:26:46.211470Z"
    }
   },
   "cell_type": "code",
   "source": [
    "def affine_transform(byte):\n",
    "    \"\"\"Biến đổi Affine của một byte theo công thức AES.\"\"\"\n",
    "    mask = 0x63  # Hằng số cố định\n",
    "    transformed = 0\n",
    "    for i in range(8):\n",
    "        # Xác định giá trị bit mới bằng cách XOR các bit theo công thức AES\n",
    "        new_bit = ((byte >> i) & 1) ^ ((byte >> ((i + 4) % 8)) & 1) ^ \\\n",
    "                  ((byte >> ((i + 5) % 8)) & 1) ^ ((byte >> ((i + 6) % 8)) & 1) ^ \\\n",
    "                  ((byte >> ((i + 7) % 8)) & 1) ^ ((mask >> i) & 1)\n",
    "        transformed |= (new_bit << i)  # Gán bit vào vị trí tương ứng\n",
    "    return transformed"
   ],
   "id": "16204ca081597bae",
   "outputs": [],
   "execution_count": 1593
  },
  {
   "metadata": {
    "ExecuteTime": {
     "end_time": "2025-03-22T00:26:46.298975Z",
     "start_time": "2025-03-22T00:26:46.285950Z"
    }
   },
   "cell_type": "code",
   "source": [
    "def generate_S_BOX():\n",
    "    \"\"\"Tạo bảng S-Box cho AES.\"\"\"\n",
    "    S_BOX = [0] * 256\n",
    "    for i in range(256):\n",
    "        S_BOX[i] = affine_transform(inverse_GF256(i))\n",
    "    return S_BOX"
   ],
   "id": "e17a1ab2a57badfc",
   "outputs": [],
   "execution_count": 1594
  },
  {
   "metadata": {
    "ExecuteTime": {
     "end_time": "2025-03-22T00:26:46.460351Z",
     "start_time": "2025-03-22T00:26:46.345264Z"
    }
   },
   "cell_type": "code",
   "source": [
    "S_BOX = generate_S_BOX()\n",
    "print(\"Table S-Box (AES):\")\n",
    "for i in range(16):\n",
    "    print(\" \".join(f\"{S_BOX[i * 16 + j]:02X}\" for j in range(16)))"
   ],
   "id": "54269edfd4f8ac64",
   "outputs": [
    {
     "name": "stdout",
     "output_type": "stream",
     "text": [
      "Table S-Box (AES):\n",
      "63 7C 77 7B F2 6B 6F C5 30 01 67 2B FE D7 AB 76\n",
      "CA 82 C9 7D FA 59 47 F0 AD D4 A2 AF 9C A4 72 C0\n",
      "B7 FD 93 26 36 3F F7 CC 34 A5 E5 F1 71 D8 31 15\n",
      "04 C7 23 C3 18 96 05 9A 07 12 80 E2 EB 27 B2 75\n",
      "09 83 2C 1A 1B 6E 5A A0 52 3B D6 B3 29 E3 2F 84\n",
      "53 D1 00 ED 20 FC B1 5B 6A CB BE 39 4A 4C 58 CF\n",
      "D0 EF AA FB 43 4D 33 85 45 F9 02 7F 50 3C 9F A8\n",
      "51 A3 40 8F 92 9D 38 F5 BC B6 DA 21 10 FF F3 D2\n",
      "CD 0C 13 EC 5F 97 44 17 C4 A7 7E 3D 64 5D 19 73\n",
      "60 81 4F DC 22 2A 90 88 46 EE B8 14 DE 5E 0B DB\n",
      "E0 32 3A 0A 49 06 24 5C C2 D3 AC 62 91 95 E4 79\n",
      "E7 C8 37 6D 8D D5 4E A9 6C 56 F4 EA 65 7A AE 08\n",
      "BA 78 25 2E 1C A6 B4 C6 E8 DD 74 1F 4B BD 8B 8A\n",
      "70 3E B5 66 48 03 F6 0E 61 35 57 B9 86 C1 1D 9E\n",
      "E1 F8 98 11 69 D9 8E 94 9B 1E 87 E9 CE 55 28 DF\n",
      "8C A1 89 0D BF E6 42 68 41 99 2D 0F B0 54 BB 16\n"
     ]
    }
   ],
   "execution_count": 1595
  },
  {
   "metadata": {},
   "cell_type": "markdown",
   "source": "# **Зашифрование в AES.**",
   "id": "f36c9b614bb6c22d"
  },
  {
   "metadata": {
    "ExecuteTime": {
     "end_time": "2025-03-22T00:26:46.496224Z",
     "start_time": "2025-03-22T00:26:46.489794Z"
    }
   },
   "cell_type": "code",
   "source": [
    "from bitarray import bitarray\n",
    "from bitarray.util import ba2int, int2ba"
   ],
   "id": "642657a09faf9731",
   "outputs": [],
   "execution_count": 1596
  },
  {
   "metadata": {
    "ExecuteTime": {
     "end_time": "2025-03-22T00:26:46.649544Z",
     "start_time": "2025-03-22T00:26:46.560600Z"
    }
   },
   "cell_type": "code",
   "source": [
    "# key hex_str 128 bit\n",
    "key = \"2B 7E 15 16 28 AE D2 A6 AB F7 15 88 09 CF 4F 3C\"\n",
    "# plaintext hex_str 128 bit: 3243f6a8885a308d313198a2e0370734\n",
    "plaintext = \"32 43 f6 a8 88 5a 30 8d 31 31 98 a2 e0 37 07 34\"\n",
    "S_BOX = generate_S_BOX()\n",
    "C = [[2, 3, 1, 1],[1, 2, 3, 1],[1, 1, 2, 3],[3, 1, 1, 2]]\n",
    "versions = {\n",
    "    128: (4, 10),\n",
    "    192: (6, 12),\n",
    "    256: (8, 14)\n",
    "}"
   ],
   "id": "13fe281bd63e9aec",
   "outputs": [],
   "execution_count": 1597
  },
  {
   "metadata": {},
   "cell_type": "markdown",
   "source": "## **Алгоритм расширения ключа**",
   "id": "30c2f112fc18442f"
  },
  {
   "metadata": {
    "ExecuteTime": {
     "end_time": "2025-03-22T00:26:46.658883Z",
     "start_time": "2025-03-22T00:26:46.649544Z"
    }
   },
   "cell_type": "code",
   "source": [
    "def hex_to_bin(hex_string, version=32):\n",
    "    hex_string = hex_string.replace(\" \", \"\")\n",
    "    return bitarray(bin(int(hex_string, 16))[2:].zfill(version))"
   ],
   "id": "737553610f0859a3",
   "outputs": [],
   "execution_count": 1598
  },
  {
   "metadata": {
    "ExecuteTime": {
     "end_time": "2025-03-22T00:26:46.685003Z",
     "start_time": "2025-03-22T00:26:46.677452Z"
    }
   },
   "cell_type": "code",
   "source": "hex_to_bin('2b')",
   "id": "3b91208892082bbd",
   "outputs": [
    {
     "data": {
      "text/plain": [
       "bitarray('00000000000000000000000000101011')"
      ]
     },
     "execution_count": 1599,
     "metadata": {},
     "output_type": "execute_result"
    }
   ],
   "execution_count": 1599
  },
  {
   "metadata": {
    "ExecuteTime": {
     "end_time": "2025-03-22T00:26:46.729043Z",
     "start_time": "2025-03-22T00:26:46.709497Z"
    }
   },
   "cell_type": "code",
   "source": [
    "def bin_to_hex(bin_array, version=32):\n",
    "    \"\"\"Chuyển đổi dữ liệu nhị phân thành chuỗi thập lục phân với định dạng mong muốn.\"\"\"\n",
    "    hex_string = format(ba2int(bin_array), 'X').zfill(version // 4)\n",
    "    return ' '.join(hex_string[i:i+2] for i in range(0, len(hex_string), 2))"
   ],
   "id": "52b83e94303df989",
   "outputs": [],
   "execution_count": 1600
  },
  {
   "metadata": {
    "ExecuteTime": {
     "end_time": "2025-03-22T00:26:46.792529Z",
     "start_time": "2025-03-22T00:26:46.772966Z"
    }
   },
   "cell_type": "code",
   "source": "bin_to_hex(bitarray('101011'))",
   "id": "28c6d4af2b633ad5",
   "outputs": [
    {
     "data": {
      "text/plain": [
       "'00 00 00 2B'"
      ]
     },
     "execution_count": 1601,
     "metadata": {},
     "output_type": "execute_result"
    }
   ],
   "execution_count": 1601
  },
  {
   "metadata": {
    "ExecuteTime": {
     "end_time": "2025-03-22T00:26:46.854768Z",
     "start_time": "2025-03-22T00:26:46.836774Z"
    }
   },
   "cell_type": "code",
   "source": "bin_to_hex(bitarray('11011000'))",
   "id": "7b679084afefd9fa",
   "outputs": [
    {
     "data": {
      "text/plain": [
       "'00 00 00 D8'"
      ]
     },
     "execution_count": 1602,
     "metadata": {},
     "output_type": "execute_result"
    }
   ],
   "execution_count": 1602
  },
  {
   "metadata": {
    "ExecuteTime": {
     "end_time": "2025-03-22T00:26:46.939647Z",
     "start_time": "2025-03-22T00:26:46.931671Z"
    }
   },
   "cell_type": "code",
   "source": [
    "def RotWord(word: bitarray):\n",
    "    return word[8:] + word[:8]"
   ],
   "id": "421051cd81d92f3",
   "outputs": [],
   "execution_count": 1603
  },
  {
   "metadata": {
    "ExecuteTime": {
     "end_time": "2025-03-22T00:26:46.997823Z",
     "start_time": "2025-03-22T00:26:46.979486Z"
    }
   },
   "cell_type": "code",
   "source": [
    "word = '2b 7e 15 16'\n",
    "print(hex_to_bin(word))\n",
    "bin_to_hex(RotWord(hex_to_bin(word)))"
   ],
   "id": "ade1dd498fe3bfa1",
   "outputs": [
    {
     "name": "stdout",
     "output_type": "stream",
     "text": [
      "bitarray('00101011011111100001010100010110')\n"
     ]
    },
    {
     "data": {
      "text/plain": [
       "'7E 15 16 2B'"
      ]
     },
     "execution_count": 1604,
     "metadata": {},
     "output_type": "execute_result"
    }
   ],
   "execution_count": 1604
  },
  {
   "metadata": {
    "ExecuteTime": {
     "end_time": "2025-03-22T00:26:47.110477Z",
     "start_time": "2025-03-22T00:26:47.101461Z"
    }
   },
   "cell_type": "code",
   "source": [
    "def SubWord(word: bitarray):\n",
    "    new_word = [S_BOX[ba2int(word[i:i+8])] for i in range(0, len(word), 8)]\n",
    "    return bitarray(''.join(format(i, '08b') for i in new_word))"
   ],
   "id": "aaca661b8a11ccc6",
   "outputs": [],
   "execution_count": 1605
  },
  {
   "metadata": {
    "ExecuteTime": {
     "end_time": "2025-03-22T00:26:47.176198Z",
     "start_time": "2025-03-22T00:26:47.164566Z"
    }
   },
   "cell_type": "code",
   "source": [
    "word = '2b 7e 15 16'\n",
    "bin_to_hex(SubWord(hex_to_bin(word)))"
   ],
   "id": "d73ab7aa0b3c1290",
   "outputs": [
    {
     "data": {
      "text/plain": [
       "'F1 F3 59 47'"
      ]
     },
     "execution_count": 1606,
     "metadata": {},
     "output_type": "execute_result"
    }
   ],
   "execution_count": 1606
  },
  {
   "metadata": {
    "ExecuteTime": {
     "end_time": "2025-03-22T00:26:47.220763Z",
     "start_time": "2025-03-22T00:26:47.214241Z"
    }
   },
   "cell_type": "code",
   "source": [
    "def generate_Rcon(round_id):\n",
    "    Rcon = exp_GF256(2, round_id - 1)\n",
    "    Rcon_2b = bitarray(bin(Rcon)[2:].zfill(8)) + bitarray('0'*24)\n",
    "    return Rcon_2b"
   ],
   "id": "bcd8415ea9f06253",
   "outputs": [],
   "execution_count": 1607
  },
  {
   "metadata": {
    "ExecuteTime": {
     "end_time": "2025-03-22T00:26:47.290498Z",
     "start_time": "2025-03-22T00:26:47.280790Z"
    }
   },
   "cell_type": "code",
   "source": [
    "for i in range(1, 11):\n",
    "    print(f'Rcon[{i}]: {bin_to_hex(generate_Rcon(i))}')"
   ],
   "id": "c7da1c12b6acad4d",
   "outputs": [
    {
     "name": "stdout",
     "output_type": "stream",
     "text": [
      "Rcon[1]: 01 00 00 00\n",
      "Rcon[2]: 02 00 00 00\n",
      "Rcon[3]: 04 00 00 00\n",
      "Rcon[4]: 08 00 00 00\n",
      "Rcon[5]: 10 00 00 00\n",
      "Rcon[6]: 20 00 00 00\n",
      "Rcon[7]: 40 00 00 00\n",
      "Rcon[8]: 80 00 00 00\n",
      "Rcon[9]: 1B 00 00 00\n",
      "Rcon[10]: 36 00 00 00\n"
     ]
    }
   ],
   "execution_count": 1608
  },
  {
   "metadata": {
    "ExecuteTime": {
     "end_time": "2025-03-22T00:26:47.365164Z",
     "start_time": "2025-03-22T00:26:47.355175Z"
    }
   },
   "cell_type": "code",
   "source": [
    "def expand_key(key, version):\n",
    "    N = versions[version][0]\n",
    "    R = versions[version][1] + 1\n",
    "    \n",
    "    key_bin = hex_to_bin(key, version=128) \n",
    "    \n",
    "    W = [key_bin[i:i+32] for i in range(0, len(key_bin), 32)]\n",
    "    for i in range(N, 4 * R):\n",
    "        temp = W[i - 1]\n",
    "        if i % N == 0:\n",
    "            temp = SubWord(RotWord(temp)) ^ generate_Rcon(i // N)\n",
    "        elif version == 256 and i % N == 4:\n",
    "            temp = SubWord(temp)\n",
    "        W.append(W[i - N] ^ temp)\n",
    "    \n",
    "    # chia thành các key vòng tương ứng cho các vòng AES\n",
    "    return [W[i:i+4] for i in range(0, len(W), 4)]"
   ],
   "id": "1e19cffbbec92320",
   "outputs": [],
   "execution_count": 1609
  },
  {
   "metadata": {
    "ExecuteTime": {
     "end_time": "2025-03-22T00:26:47.408599Z",
     "start_time": "2025-03-22T00:26:47.403393Z"
    }
   },
   "cell_type": "code",
   "source": [
    "# keys = expand_key(key, 128)\n",
    "# for key_ in keys:\n",
    "#     print(key_)  "
   ],
   "id": "512d650bb89430c2",
   "outputs": [],
   "execution_count": 1610
  },
  {
   "metadata": {},
   "cell_type": "markdown",
   "source": "## **Раунд AES**",
   "id": "6b965d0ac1cbbcf1"
  },
  {
   "metadata": {
    "ExecuteTime": {
     "end_time": "2025-03-22T00:26:47.429413Z",
     "start_time": "2025-03-22T00:26:47.422140Z"
    }
   },
   "cell_type": "code",
   "source": [
    "def SubBytes(state):\n",
    "    for i in range(4):\n",
    "        for j in range(4):\n",
    "            state[i][j] = S_BOX[state[i][j]]\n",
    "    return state"
   ],
   "id": "2275f0fa7f8f2a71",
   "outputs": [],
   "execution_count": 1611
  },
  {
   "metadata": {
    "ExecuteTime": {
     "end_time": "2025-03-22T00:26:47.449971Z",
     "start_time": "2025-03-22T00:26:47.442839Z"
    }
   },
   "cell_type": "code",
   "source": [
    "def ShiftRows(state):\n",
    "    for i in range(4):\n",
    "        state[i] = state[i][i:] + state[i][:i]\n",
    "    return state"
   ],
   "id": "53a8328ba85aeedd",
   "outputs": [],
   "execution_count": 1612
  },
  {
   "metadata": {
    "ExecuteTime": {
     "end_time": "2025-03-22T00:26:47.470501Z",
     "start_time": "2025-03-22T00:26:47.462882Z"
    }
   },
   "cell_type": "code",
   "source": [
    "def MixColumns(state):\n",
    "    new_state = [[0]*4 for _ in range(4)]\n",
    "    for i in range(4):\n",
    "        for j in range(4):\n",
    "            new_state[j][i] = (multiply_GF256(C[i][0], state[0][j]) ^ \\\n",
    "                                multiply_GF256(C[i][1], state[1][j]) ^ \\\n",
    "                                multiply_GF256(C[i][2], state[2][j]) ^ \\\n",
    "                               multiply_GF256(C[i][3], state[3][j]))\n",
    "            \n",
    "    return new_state"
   ],
   "id": "58ef4b4ae5d57052",
   "outputs": [],
   "execution_count": 1613
  },
  {
   "metadata": {
    "ExecuteTime": {
     "end_time": "2025-03-22T00:26:47.495182Z",
     "start_time": "2025-03-22T00:26:47.482722Z"
    }
   },
   "cell_type": "code",
   "source": [
    "state = [\n",
    "    [0xD4, 0xE0, 0xB8, 0x1E],\n",
    "    [0xBF, 0xB4, 0x41, 0x27],\n",
    "    [0x5D, 0x52, 0x11, 0x98],\n",
    "    [0x30, 0xAE, 0xF1, 0xE5]\n",
    "]\n",
    "new_state = MixColumns(state)\n",
    "# in new_state dạng hex\n",
    "for i in range(4):\n",
    "    for j in range(4):\n",
    "        print(hex(new_state[i][j]), end=' ')\n",
    "    print()"
   ],
   "id": "c5368844b1f3716d",
   "outputs": [
    {
     "name": "stdout",
     "output_type": "stream",
     "text": [
      "0x4 0x66 0x81 0xe5 \n",
      "0xe0 0xcb 0x19 0x9a \n",
      "0x48 0xf8 0xd3 0x7a \n",
      "0x28 0x6 0x26 0x4c \n"
     ]
    }
   ],
   "execution_count": 1614
  },
  {
   "metadata": {
    "ExecuteTime": {
     "end_time": "2025-03-22T00:26:47.541859Z",
     "start_time": "2025-03-22T00:26:47.530477Z"
    }
   },
   "cell_type": "code",
   "source": [
    "def AddRoundKey(state, key):\n",
    "    key_mat = [[0]*4 for _ in range(4)]\n",
    "    print('key:')\n",
    "    for i in range(4):\n",
    "        for j in range(4):\n",
    "            key_mat[i][j] = ba2int(key[j][i*8:(i+1)*8])\n",
    "            print(f\"{key_mat[i][j]:02X}\", end=' ')\n",
    "        print()\n",
    "    \n",
    "    new_state = [[0]*4 for _ in range(4)]\n",
    "    for i in range(4):\n",
    "        for j in range(4):\n",
    "            new_state[i][j] = state[i][j] ^ key_mat[i][j]\n",
    "\n",
    "    return new_state"
   ],
   "id": "21e2102e45b73885",
   "outputs": [],
   "execution_count": 1615
  },
  {
   "metadata": {
    "ExecuteTime": {
     "end_time": "2025-03-22T00:26:47.590855Z",
     "start_time": "2025-03-22T00:26:47.584902Z"
    }
   },
   "cell_type": "code",
   "source": [
    "def printState(state, name=\"state\"):\n",
    "    print(name)\n",
    "    for i in range(4):\n",
    "        for j in range(4):\n",
    "            print(f\"{state[i][j]:02X}\", end=' ')\n",
    "        print()"
   ],
   "id": "b2a51d061028ce12",
   "outputs": [],
   "execution_count": 1616
  },
  {
   "metadata": {
    "ExecuteTime": {
     "end_time": "2025-03-22T00:26:47.612816Z",
     "start_time": "2025-03-22T00:26:47.604969Z"
    }
   },
   "cell_type": "code",
   "source": [
    "def trans_mat(state):\n",
    "    new_state = [[0]*4 for _ in range(4)]\n",
    "    for i in range(4):\n",
    "        for j in range(4):\n",
    "            new_state[j][i] = state[i][j]\n",
    "    return new_state"
   ],
   "id": "35af4cf9cd466363",
   "outputs": [],
   "execution_count": 1617
  },
  {
   "metadata": {
    "ExecuteTime": {
     "end_time": "2025-03-22T00:26:47.635539Z",
     "start_time": "2025-03-22T00:26:47.627974Z"
    }
   },
   "cell_type": "code",
   "source": [
    "def Round_AES(state, key):\n",
    "    state = SubBytes(state)\n",
    "    printState(state, \"SubBytes\")\n",
    "    state = ShiftRows(state)\n",
    "    printState(state, \"ShiftRows\")\n",
    "    state = MixColumns(state)\n",
    "    printState(state, \"MixColumns\")\n",
    "    state = AddRoundKey(trans_mat(state), key)\n",
    "    printState(state, \"AddRoundKey\")\n",
    "    return state"
   ],
   "id": "8b9c05fb333e749c",
   "outputs": [],
   "execution_count": 1618
  },
  {
   "metadata": {},
   "cell_type": "markdown",
   "source": "## **Function encrypt AES**",
   "id": "a97cd3b175cb100f"
  },
  {
   "metadata": {
    "ExecuteTime": {
     "end_time": "2025-03-22T00:26:47.655757Z",
     "start_time": "2025-03-22T00:26:47.649074Z"
    }
   },
   "cell_type": "code",
   "source": "from copy import deepcopy",
   "id": "9daa00803be5ccf",
   "outputs": [],
   "execution_count": 1619
  },
  {
   "metadata": {
    "ExecuteTime": {
     "end_time": "2025-03-22T00:26:47.678743Z",
     "start_time": "2025-03-22T00:26:47.669440Z"
    }
   },
   "cell_type": "code",
   "source": [
    "def encrypt_AES(plaintext, key, version):\n",
    "    N = versions[version][0]\n",
    "    R = versions[version][1]\n",
    "    \n",
    "    plaintext = hex_to_bin(plaintext, version=128)\n",
    "    \n",
    "    keys_round = expand_key(key, version)\n",
    "    key_states = []\n",
    "    \n",
    "    state = [[0]*4 for _ in range(4)]\n",
    "    print(\"Start state:\")\n",
    "    for i in range(4):\n",
    "        for j in range(4):\n",
    "            state[i][j] = ba2int(plaintext[j*32 + i*8:j*32 + (i+1)*8])\n",
    "            print(f'{state[i][j]:02X}', end=' ')\n",
    "        print()\n",
    "   \n",
    "    state = AddRoundKey(state, keys_round[0])\n",
    "    print(\"Round 0:\")\n",
    "    printState(state)\n",
    "    key_states.append((deepcopy(keys_round[0]), deepcopy(state)))\n",
    "    \n",
    "    for i in range(1, R):\n",
    "        print(f\"Round {i}:\")\n",
    "        state = Round_AES(state, keys_round[i])\n",
    "        key_states.append((deepcopy(keys_round[i]), deepcopy(state)))\n",
    "    \n",
    "    print(f\"Round {R}:\")\n",
    "    state = SubBytes(state)\n",
    "    printState(state, \"SubBytes\")\n",
    "    state = ShiftRows(state)\n",
    "    printState(state, \"ShiftRows\")\n",
    "    state = AddRoundKey(state, keys_round[R])\n",
    "    printState(state, \"AddRoundKey\")\n",
    "    key_states.append((deepcopy(keys_round[R]), deepcopy(state)))\n",
    "    return state, key_states"
   ],
   "id": "c4f9d0a138a1b5c8",
   "outputs": [],
   "execution_count": 1620
  },
  {
   "metadata": {
    "ExecuteTime": {
     "end_time": "2025-03-22T00:26:47.698232Z",
     "start_time": "2025-03-22T00:26:47.691293Z"
    }
   },
   "cell_type": "code",
   "source": [
    "def arr_to_hex_str(int_array):\n",
    "    if type(int_array[0]) is bitarray:\n",
    "        # chuyển thành int\n",
    "        int_array = [ba2int(elem) for elem in int_array]\n",
    "    return ' '.join(f\"{i:02X}\" for i in int_array)"
   ],
   "id": "c94809d8bf99c786",
   "outputs": [],
   "execution_count": 1621
  },
  {
   "metadata": {
    "ExecuteTime": {
     "end_time": "2025-03-22T00:26:47.718989Z",
     "start_time": "2025-03-22T00:26:47.711895Z"
    }
   },
   "cell_type": "code",
   "source": [
    "def convert_state_to_hex_str(state):\n",
    "    return ' '.join([arr_to_hex_str(col) for col in zip(*state)])"
   ],
   "id": "9008ece4ebb961b0",
   "outputs": [],
   "execution_count": 1622
  },
  {
   "metadata": {
    "ExecuteTime": {
     "end_time": "2025-03-22T00:26:47.753088Z",
     "start_time": "2025-03-22T00:26:47.731982Z"
    }
   },
   "cell_type": "code",
   "source": [
    "cipher_state, _ = encrypt_AES(plaintext, key, 128)\n",
    "# chuyển thành dạng hex str\n",
    "print(\"-----------------\")\n",
    "for i in range(4):\n",
    "    for j in range(4):\n",
    "        print(f\"{cipher_state[i][j]:02X}\", end=' ')\n",
    "    print()\n",
    "  \n",
    "ciphertext = convert_state_to_hex_str(cipher_state)\n",
    "print(ciphertext)"
   ],
   "id": "15d99774e0bd3f38",
   "outputs": [
    {
     "name": "stdout",
     "output_type": "stream",
     "text": [
      "Start state:\n",
      "32 88 31 E0 \n",
      "43 5A 31 37 \n",
      "F6 30 98 07 \n",
      "A8 8D A2 34 \n",
      "key:\n",
      "2B 28 AB 09 \n",
      "7E AE F7 CF \n",
      "15 D2 15 4F \n",
      "16 A6 88 3C \n",
      "Round 0:\n",
      "state\n",
      "19 A0 9A E9 \n",
      "3D F4 C6 F8 \n",
      "E3 E2 8D 48 \n",
      "BE 2B 2A 08 \n",
      "Round 1:\n",
      "SubBytes\n",
      "D4 E0 B8 1E \n",
      "27 BF B4 41 \n",
      "11 98 5D 52 \n",
      "AE F1 E5 30 \n",
      "ShiftRows\n",
      "D4 E0 B8 1E \n",
      "BF B4 41 27 \n",
      "5D 52 11 98 \n",
      "30 AE F1 E5 \n",
      "MixColumns\n",
      "04 66 81 E5 \n",
      "E0 CB 19 9A \n",
      "48 F8 D3 7A \n",
      "28 06 26 4C \n",
      "key:\n",
      "A0 88 23 2A \n",
      "FA 54 A3 6C \n",
      "FE 2C 39 76 \n",
      "17 B1 39 05 \n",
      "AddRoundKey\n",
      "A4 68 6B 02 \n",
      "9C 9F 5B 6A \n",
      "7F 35 EA 50 \n",
      "F2 2B 43 49 \n",
      "Round 2:\n",
      "SubBytes\n",
      "49 45 7F 77 \n",
      "DE DB 39 02 \n",
      "D2 96 87 53 \n",
      "89 F1 1A 3B \n",
      "ShiftRows\n",
      "49 45 7F 77 \n",
      "DB 39 02 DE \n",
      "87 53 D2 96 \n",
      "3B 89 F1 1A \n",
      "MixColumns\n",
      "58 4D CA F1 \n",
      "1B 4B 5A AC \n",
      "DB E7 CA A8 \n",
      "1B 6B B0 E5 \n",
      "key:\n",
      "F2 7A 59 73 \n",
      "C2 96 35 59 \n",
      "95 B9 80 F6 \n",
      "F2 43 7A 7F \n",
      "AddRoundKey\n",
      "AA 61 82 68 \n",
      "8F DD D2 32 \n",
      "5F E3 4A 46 \n",
      "03 EF D2 9A \n",
      "Round 3:\n",
      "SubBytes\n",
      "AC EF 13 45 \n",
      "73 C1 B5 23 \n",
      "CF 11 D6 5A \n",
      "7B DF B5 B8 \n",
      "ShiftRows\n",
      "AC EF 13 45 \n",
      "C1 B5 23 73 \n",
      "D6 5A CF 11 \n",
      "B8 7B DF B5 \n",
      "MixColumns\n",
      "75 EC 09 93 \n",
      "20 0B 63 33 \n",
      "53 C0 CF 7C \n",
      "BB 25 D0 DC \n",
      "key:\n",
      "3D 47 1E 6D \n",
      "80 16 23 7A \n",
      "47 FE 7E 88 \n",
      "7D 3E 44 3B \n",
      "AddRoundKey\n",
      "48 67 4D D6 \n",
      "6C 1D E3 5F \n",
      "4E 9D B1 58 \n",
      "EE 0D 38 E7 \n",
      "Round 4:\n",
      "SubBytes\n",
      "52 85 E3 F6 \n",
      "50 A4 11 CF \n",
      "2F 5E C8 6A \n",
      "28 D7 07 94 \n",
      "ShiftRows\n",
      "52 85 E3 F6 \n",
      "A4 11 CF 50 \n",
      "C8 6A 2F 5E \n",
      "94 28 D7 07 \n",
      "MixColumns\n",
      "0F D6 DA A9 \n",
      "60 31 38 BF \n",
      "6F C0 10 6B \n",
      "5E B3 13 01 \n",
      "key:\n",
      "EF A8 B6 DB \n",
      "44 52 71 0B \n",
      "A5 5B 25 AD \n",
      "41 7F 3B 00 \n",
      "AddRoundKey\n",
      "E0 C8 D9 85 \n",
      "92 63 B1 B8 \n",
      "7F 63 35 BE \n",
      "E8 C0 50 01 \n",
      "Round 5:\n",
      "SubBytes\n",
      "E1 E8 35 97 \n",
      "4F FB C8 6C \n",
      "D2 FB 96 AE \n",
      "9B BA 53 7C \n",
      "ShiftRows\n",
      "E1 E8 35 97 \n",
      "FB C8 6C 4F \n",
      "96 AE D2 FB \n",
      "7C 9B BA 53 \n",
      "MixColumns\n",
      "25 D1 A9 AD \n",
      "BD 11 D1 68 \n",
      "B6 3A 33 8E \n",
      "4C 4C C0 B0 \n",
      "key:\n",
      "D4 7C CA 11 \n",
      "D1 83 F2 F9 \n",
      "C6 9D B8 15 \n",
      "F8 87 BC BC \n",
      "AddRoundKey\n",
      "F1 C1 7C 5D \n",
      "00 92 C8 B5 \n",
      "6F 4C 8B D5 \n",
      "55 EF 32 0C \n",
      "Round 6:\n",
      "SubBytes\n",
      "A1 78 10 4C \n",
      "63 4F E8 D5 \n",
      "A8 29 3D 03 \n",
      "FC DF 23 FE \n",
      "ShiftRows\n",
      "A1 78 10 4C \n",
      "4F E8 D5 63 \n",
      "3D 03 A8 29 \n",
      "FE FC DF 23 \n",
      "MixColumns\n",
      "4B 86 8D 6D \n",
      "2C 4A 89 80 \n",
      "33 9D F4 E8 \n",
      "37 D2 18 D8 \n",
      "key:\n",
      "6D 11 DB CA \n",
      "88 0B F9 00 \n",
      "A3 3E 86 93 \n",
      "7A FD 41 FD \n",
      "AddRoundKey\n",
      "26 3D E8 FD \n",
      "0E 41 64 D2 \n",
      "2E B7 72 8B \n",
      "17 7D A9 25 \n",
      "Round 7:\n",
      "SubBytes\n",
      "F7 27 9B 54 \n",
      "AB 83 43 B5 \n",
      "31 A9 40 3D \n",
      "F0 FF D3 3F \n",
      "ShiftRows\n",
      "F7 27 9B 54 \n",
      "83 43 B5 AB \n",
      "40 3D 31 A9 \n",
      "3F F0 FF D3 \n",
      "MixColumns\n",
      "14 15 B5 BF \n",
      "46 16 15 EC \n",
      "27 46 56 D7 \n",
      "34 2A D8 43 \n",
      "key:\n",
      "4E 5F 84 4E \n",
      "54 5F A6 A6 \n",
      "F7 C9 4F DC \n",
      "0E F3 B2 4F \n",
      "AddRoundKey\n",
      "5A 19 A3 7A \n",
      "41 49 E0 8C \n",
      "42 DC 19 04 \n",
      "B1 1F 65 0C \n",
      "Round 8:\n",
      "SubBytes\n",
      "BE D4 0A DA \n",
      "83 3B E1 64 \n",
      "2C 86 D4 F2 \n",
      "C8 C0 4D FE \n",
      "ShiftRows\n",
      "BE D4 0A DA \n",
      "3B E1 64 83 \n",
      "D4 F2 2C 86 \n",
      "FE C8 C0 4D \n",
      "MixColumns\n",
      "00 51 2F D1 \n",
      "B1 C8 89 FF \n",
      "54 76 6D CD \n",
      "FA 1B 99 EA \n",
      "key:\n",
      "EA B5 31 7F \n",
      "D2 8D 2B 8D \n",
      "73 BA F5 29 \n",
      "21 D2 60 2F \n",
      "AddRoundKey\n",
      "EA 04 65 85 \n",
      "83 45 5D 96 \n",
      "5C 33 98 B0 \n",
      "F0 2D AD C5 \n",
      "Round 9:\n",
      "SubBytes\n",
      "87 F2 4D 97 \n",
      "EC 6E 4C 90 \n",
      "4A C3 46 E7 \n",
      "8C D8 95 A6 \n",
      "ShiftRows\n",
      "87 F2 4D 97 \n",
      "6E 4C 90 EC \n",
      "46 E7 4A C3 \n",
      "A6 8C D8 95 \n",
      "MixColumns\n",
      "47 37 94 ED \n",
      "40 D4 E4 A5 \n",
      "A3 70 3A A6 \n",
      "4C 9F 42 BC \n",
      "key:\n",
      "AC 19 28 57 \n",
      "77 FA D1 5C \n",
      "66 DC 29 00 \n",
      "F3 21 41 6E \n",
      "AddRoundKey\n",
      "EB 59 8B 1B \n",
      "40 2E A1 C3 \n",
      "F2 38 13 42 \n",
      "1E 84 E7 D2 \n",
      "Round 10:\n",
      "SubBytes\n",
      "E9 CB 3D AF \n",
      "09 31 32 2E \n",
      "89 07 7D 2C \n",
      "72 5F 94 B5 \n",
      "ShiftRows\n",
      "E9 CB 3D AF \n",
      "31 32 2E 09 \n",
      "7D 2C 89 07 \n",
      "B5 72 5F 94 \n",
      "key:\n",
      "D0 C9 E1 B6 \n",
      "14 EE 3F 63 \n",
      "F9 25 0C 0C \n",
      "A8 89 C8 A6 \n",
      "AddRoundKey\n",
      "39 02 DC 19 \n",
      "25 DC 11 6A \n",
      "84 09 85 0B \n",
      "1D FB 97 32 \n",
      "-----------------\n",
      "39 02 DC 19 \n",
      "25 DC 11 6A \n",
      "84 09 85 0B \n",
      "1D FB 97 32 \n",
      "39 25 84 1D 02 DC 09 FB DC 11 85 97 19 6A 0B 32\n"
     ]
    }
   ],
   "execution_count": 1623
  },
  {
   "metadata": {},
   "cell_type": "markdown",
   "source": "# **Расшифрование в AES.**",
   "id": "bf83cf62fdeba238"
  },
  {
   "metadata": {
    "ExecuteTime": {
     "end_time": "2025-03-22T00:26:47.792165Z",
     "start_time": "2025-03-22T00:26:47.786281Z"
    }
   },
   "cell_type": "code",
   "source": [
    "def generate_inv_S_BOX(S_BOX):\n",
    "    \"\"\"Tạo bảng S-Box nghịch đảo cho AES.\"\"\"\n",
    "    INV_S_BOX = [0] * 256\n",
    "    for i in range(256):\n",
    "        INV_S_BOX[S_BOX[i]] = i\n",
    "    return INV_S_BOX"
   ],
   "id": "675ff51910bf6e96",
   "outputs": [],
   "execution_count": 1624
  },
  {
   "metadata": {
    "ExecuteTime": {
     "end_time": "2025-03-22T00:26:47.832703Z",
     "start_time": "2025-03-22T00:26:47.820749Z"
    }
   },
   "cell_type": "code",
   "source": [
    "INV_S_BOX = generate_inv_S_BOX(S_BOX)\n",
    "inv_C = [[14, 11, 13, 9],[9, 14, 11, 13],[13, 9, 14, 11],[11, 13, 9, 14]]"
   ],
   "id": "ca1bb3b609ab2af7",
   "outputs": [],
   "execution_count": 1625
  },
  {
   "metadata": {},
   "cell_type": "markdown",
   "source": "# **Раунд AES**",
   "id": "5e31548420761ba2"
  },
  {
   "metadata": {
    "ExecuteTime": {
     "end_time": "2025-03-22T00:26:47.858618Z",
     "start_time": "2025-03-22T00:26:47.852202Z"
    }
   },
   "cell_type": "code",
   "source": [
    "def InvSubBytes(state):\n",
    "    for i in range(4):\n",
    "        for j in range(4):\n",
    "            state[i][j] = INV_S_BOX[state[i][j]]\n",
    "    return state"
   ],
   "id": "285aa6daac44c03d",
   "outputs": [],
   "execution_count": 1626
  },
  {
   "metadata": {
    "ExecuteTime": {
     "end_time": "2025-03-22T00:26:47.882625Z",
     "start_time": "2025-03-22T00:26:47.875194Z"
    }
   },
   "cell_type": "code",
   "source": [
    "def InvShiftRows(state):\n",
    "    for i in range(4):\n",
    "        state[i] = state[i][-i:] + state[i][:-i]\n",
    "    return state"
   ],
   "id": "e2cff8296964c142",
   "outputs": [],
   "execution_count": 1627
  },
  {
   "metadata": {
    "ExecuteTime": {
     "end_time": "2025-03-22T00:26:47.912016Z",
     "start_time": "2025-03-22T00:26:47.899933Z"
    }
   },
   "cell_type": "code",
   "source": [
    "state = [['A2', '8A', '31', '43'],\n",
    "        ['F2', '2D', 'A0', 'A4'],\n",
    "        ['C4', 'C8', '8C', '10'],\n",
    "        ['D4', 'C7', 'E3', '48']]\n",
    "       \n",
    "InvShiftRows(state)"
   ],
   "id": "ad4161bd5e9416d2",
   "outputs": [
    {
     "data": {
      "text/plain": [
       "[['A2', '8A', '31', '43'],\n",
       " ['A4', 'F2', '2D', 'A0'],\n",
       " ['8C', '10', 'C4', 'C8'],\n",
       " ['C7', 'E3', '48', 'D4']]"
      ]
     },
     "execution_count": 1628,
     "metadata": {},
     "output_type": "execute_result"
    }
   ],
   "execution_count": 1628
  },
  {
   "metadata": {
    "ExecuteTime": {
     "end_time": "2025-03-22T00:26:47.960515Z",
     "start_time": "2025-03-22T00:26:47.953157Z"
    }
   },
   "cell_type": "code",
   "source": [
    "def InvMixColumns(state):\n",
    "    new_state = [[0]*4 for _ in range(4)]\n",
    "    for i in range(4):\n",
    "        for j in range(4):\n",
    "            new_state[j][i] = (multiply_GF256(inv_C[i][0], state[0][j]) ^ \\\n",
    "                                multiply_GF256(inv_C[i][1], state[1][j]) ^ \\\n",
    "                                multiply_GF256(inv_C[i][2], state[2][j]) ^ \\\n",
    "                               multiply_GF256(inv_C[i][3], state[3][j]))\n",
    "            \n",
    "    return new_state"
   ],
   "id": "db3aba98d6777378",
   "outputs": [],
   "execution_count": 1629
  },
  {
   "metadata": {
    "ExecuteTime": {
     "end_time": "2025-03-22T00:26:48.019339Z",
     "start_time": "2025-03-22T00:26:48.011397Z"
    }
   },
   "cell_type": "code",
   "source": [
    "def AddRoundKey(state, key):\n",
    "    key_mat = [[0]*4 for _ in range(4)]\n",
    "    # print('key:')\n",
    "    for i in range(4):\n",
    "        for j in range(4):\n",
    "            key_mat[i][j] = ba2int(key[j][i*8:(i+1)*8])\n",
    "        #     print(f\"{key_mat[i][j]:02X}\", end=' ')\n",
    "        # print()\n",
    "    \n",
    "    new_state = [[0]*4 for _ in range(4)]\n",
    "    for i in range(4):\n",
    "        for j in range(4):\n",
    "            new_state[i][j] = state[i][j] ^ key_mat[i][j]\n",
    "\n",
    "    return new_state"
   ],
   "id": "a5af02be733b1b8c",
   "outputs": [],
   "execution_count": 1630
  },
  {
   "metadata": {
    "ExecuteTime": {
     "end_time": "2025-03-22T00:26:48.031071Z",
     "start_time": "2025-03-22T00:26:48.024921Z"
    }
   },
   "cell_type": "code",
   "source": [
    "def Round_AES_inv(state, key):\n",
    "    state = InvShiftRows(state)\n",
    "    #printState(state, \"InvShiftRows\")\n",
    "    state = InvSubBytes(state)\n",
    "    #printState(state, \"InvSubBytes\")\n",
    "    state = AddRoundKey(state, key)\n",
    "    #printState(state, \"AddRoundKey\")\n",
    "    state = InvMixColumns(state)\n",
    "    state = trans_mat(state)\n",
    "    #printState(state, \"InvMixColumns\")\n",
    "    return state"
   ],
   "id": "848009aec42e71b",
   "outputs": [],
   "execution_count": 1631
  },
  {
   "metadata": {},
   "cell_type": "markdown",
   "source": "## **Function decrypt AES**",
   "id": "aba769b497139d10"
  },
  {
   "metadata": {
    "ExecuteTime": {
     "end_time": "2025-03-22T00:26:48.059677Z",
     "start_time": "2025-03-22T00:26:48.048504Z"
    }
   },
   "cell_type": "code",
   "source": [
    "def decrypt_AES(ciphertext, key, version):\n",
    "    N = versions[version][0]\n",
    "    R = versions[version][1]\n",
    "    \n",
    "    ciphertext = hex_to_bin(ciphertext, version=128)\n",
    "    \n",
    "    keys_round = expand_key(key, version)[::-1]\n",
    "    states = []\n",
    "    \n",
    "    state = [[0]*4 for _ in range(4)]\n",
    "    # print(\"Start state:\")\n",
    "    for i in range(4):\n",
    "        for j in range(4):\n",
    "            state[i][j] = ba2int(ciphertext[j*32 + i*8:j*32 + (i+1)*8])\n",
    "        #     print(f'{state[i][j]:02X}', end=' ')\n",
    "        # print()\n",
    "    states.append(deepcopy(state))\n",
    "    \n",
    "    state = AddRoundKey(state, keys_round[0])\n",
    "    # print(\"Round 0:\")\n",
    "    # printState(state)\n",
    "    states.append(deepcopy(state))\n",
    "    \n",
    "    for i in range(1, R):\n",
    "        # print(f\"Round {i}:\")\n",
    "        state = Round_AES_inv(state, keys_round[i])\n",
    "        states.append(deepcopy(state))\n",
    "        \n",
    "    state = InvShiftRows(state)\n",
    "    state = InvSubBytes(state)\n",
    "    state = AddRoundKey(state, keys_round[R])\n",
    "    states.append(deepcopy(state))\n",
    "    # print(f\"Round {R}:\")\n",
    "    # printState(state)\n",
    "    \n",
    "    return state"
   ],
   "id": "4079a21f98bdafc5",
   "outputs": [],
   "execution_count": 1632
  },
  {
   "metadata": {
    "ExecuteTime": {
     "end_time": "2025-03-22T00:26:48.088651Z",
     "start_time": "2025-03-22T00:26:48.074137Z"
    }
   },
   "cell_type": "code",
   "source": [
    "print(ciphertext)\n",
    "plaintext_state = decrypt_AES(ciphertext, key, 128)\n",
    "# chuyển thành dạng hex str\n",
    "print(\"-----------------\")\n",
    "for i in range(4):\n",
    "    for j in range(4):\n",
    "        print(f\"{plaintext_state[i][j]:02X}\", end=' ')\n",
    "    print()"
   ],
   "id": "a2e38587768c2e44",
   "outputs": [
    {
     "name": "stdout",
     "output_type": "stream",
     "text": [
      "39 25 84 1D 02 DC 09 FB DC 11 85 97 19 6A 0B 32\n",
      "-----------------\n",
      "32 88 31 E0 \n",
      "43 5A 31 37 \n",
      "F6 30 98 07 \n",
      "A8 8D A2 34 \n"
     ]
    }
   ],
   "execution_count": 1633
  },
  {
   "metadata": {
    "ExecuteTime": {
     "end_time": "2025-03-22T00:26:48.151549Z",
     "start_time": "2025-03-22T00:26:48.143893Z"
    }
   },
   "cell_type": "code",
   "source": [
    "plaintext = convert_state_to_hex_str(plaintext_state)\n",
    "print(plaintext)"
   ],
   "id": "a73b04e4032ca441",
   "outputs": [
    {
     "name": "stdout",
     "output_type": "stream",
     "text": [
      "32 43 F6 A8 88 5A 30 8D 31 31 98 A2 E0 37 07 34\n"
     ]
    }
   ],
   "execution_count": 1634
  },
  {
   "metadata": {},
   "cell_type": "markdown",
   "source": "## **AES version 256**",
   "id": "64e0b3255341c2f6"
  },
  {
   "metadata": {
    "ExecuteTime": {
     "end_time": "2025-03-22T00:26:48.218376Z",
     "start_time": "2025-03-22T00:26:48.209860Z"
    }
   },
   "cell_type": "code",
   "source": [
    "key = \"FD E8 F7 A9 B8 6C 3B FF 07 C0 D3 9D 04 60 5E DD 14 A3 D4 B6 33 45 4D 7C 5B 21 3A 5B 9A 0F 58 6C\"\n",
    "plaintext = \"32 43 F6 A8 88 5A 30 8D 31 31 98 A2 E0 37 07 34\""
   ],
   "id": "944d3cfbf322da18",
   "outputs": [],
   "execution_count": 1635
  },
  {
   "metadata": {
    "ExecuteTime": {
     "end_time": "2025-03-22T00:26:48.275635Z",
     "start_time": "2025-03-22T00:26:48.248882Z"
    }
   },
   "cell_type": "code",
   "source": "cipher_state, key_states = encrypt_AES(plaintext, key, 256)",
   "id": "e6dda1ec7b469769",
   "outputs": [
    {
     "name": "stdout",
     "output_type": "stream",
     "text": [
      "Start state:\n",
      "32 88 31 E0 \n",
      "43 5A 31 37 \n",
      "F6 30 98 07 \n",
      "A8 8D A2 34 \n",
      "Round 0:\n",
      "state\n",
      "CF 30 36 E4 \n",
      "AB 36 F1 57 \n",
      "01 0B 4B 59 \n",
      "01 72 3F E9 \n",
      "Round 1:\n",
      "SubBytes\n",
      "8A 04 05 69 \n",
      "62 05 A1 5B \n",
      "7C 2B B3 CB \n",
      "7C 40 75 1E \n",
      "ShiftRows\n",
      "8A 04 05 69 \n",
      "05 A1 5B 62 \n",
      "B3 CB 7C 2B \n",
      "1E 7C 40 75 \n",
      "MixColumns\n",
      "AD 50 D0 0F \n",
      "47 67 AC 9E \n",
      "DB 77 66 A8 \n",
      "2A A5 C2 18 \n",
      "AddRoundKey\n",
      "B9 74 80 B0 \n",
      "F3 22 56 AA \n",
      "04 E1 5C 9A \n",
      "B9 E2 F3 74 \n",
      "Round 2:\n",
      "SubBytes\n",
      "56 92 CD E7 \n",
      "0D 93 B1 AC \n",
      "F2 F8 4A B8 \n",
      "56 98 0D 92 \n",
      "ShiftRows\n",
      "56 92 CD E7 \n",
      "93 B1 AC 0D \n",
      "4A B8 F2 F8 \n",
      "92 56 98 0D \n",
      "MixColumns\n",
      "DA 27 FC 1C \n",
      "19 6E B2 08 \n",
      "04 1B 2D 39 \n",
      "37 E3 16 DD \n",
      "AddRoundKey\n",
      "50 2B 31 06 \n",
      "A5 80 35 AD \n",
      "5B 2E 62 07 \n",
      "0D E6 4A 73 \n",
      "Round 3:\n",
      "SubBytes\n",
      "53 F1 C7 6F \n",
      "06 CD 96 95 \n",
      "39 31 AA C5 \n",
      "D7 8E D6 8F \n",
      "ShiftRows\n",
      "53 F1 C7 6F \n",
      "CD 96 95 06 \n",
      "AA C5 39 31 \n",
      "8F D7 8E D6 \n",
      "MixColumns\n",
      "CF B8 5B 97 \n",
      "4A 45 94 EE \n",
      "86 33 A9 F9 \n",
      "33 E6 6A 31 \n",
      "AddRoundKey\n",
      "1C AA 3D 12 \n",
      "34 8C DB 01 \n",
      "0D 8F 88 13 \n",
      "C5 C0 8C 28 \n",
      "Round 4:\n",
      "SubBytes\n",
      "9C AC 27 C9 \n",
      "18 64 B9 7C \n",
      "D7 73 C4 7D \n",
      "A6 BA 64 34 \n",
      "ShiftRows\n",
      "9C AC 27 C9 \n",
      "64 B9 7C 18 \n",
      "C4 7D D7 73 \n",
      "34 A6 BA 64 \n",
      "MixColumns\n",
      "7F 37 37 77 \n",
      "48 E4 1E 7C \n",
      "A7 07 3B AD \n",
      "B6 08 9B E3 \n",
      "AddRoundKey\n",
      "63 66 BC 9C \n",
      "03 3E F3 B2 \n",
      "44 F1 9B 2A \n",
      "9B 7E DC 3C \n",
      "Round 5:\n",
      "SubBytes\n",
      "FB 33 65 DE \n",
      "7B B2 0D 37 \n",
      "1B A1 14 E5 \n",
      "14 F3 86 EB \n",
      "ShiftRows\n",
      "FB 33 65 DE \n",
      "B2 0D 37 7B \n",
      "14 E5 1B A1 \n",
      "EB 14 F3 86 \n",
      "MixColumns\n",
      "DF 53 47 7D \n",
      "80 09 D3 95 \n",
      "7B D5 6A 7E \n",
      "0D 56 6D B4 \n",
      "AddRoundKey\n",
      "E9 56 16 41 \n",
      "2B B8 8C E8 \n",
      "D9 56 CE B0 \n",
      "B1 77 E9 3A \n",
      "Round 6:\n",
      "SubBytes\n",
      "1E B1 47 83 \n",
      "F1 6C 64 9B \n",
      "35 B1 8B E7 \n",
      "C8 F5 1E 80 \n",
      "ShiftRows\n",
      "1E B1 47 83 \n",
      "6C 64 9B F1 \n",
      "8B E7 35 B1 \n",
      "80 C8 F5 1E \n",
      "MixColumns\n",
      "83 C0 E4 DE \n",
      "FA 83 43 C0 \n",
      "F8 C0 B2 96 \n",
      "BA AC 29 E2 \n",
      "AddRoundKey\n",
      "35 62 7B 13 \n",
      "35 AC 1B CD \n",
      "8E C6 97 BD \n",
      "1B 07 20 8B \n",
      "Round 7:\n",
      "SubBytes\n",
      "96 AA 21 7D \n",
      "96 91 AF BD \n",
      "19 B4 88 7A \n",
      "AF C5 B7 3D \n",
      "ShiftRows\n",
      "96 AA 21 7D \n",
      "91 AF BD 96 \n",
      "88 7A 19 B4 \n",
      "3D AF C5 B7 \n",
      "MixColumns\n",
      "2A 11 4B C2 \n",
      "70 CE 1B 75 \n",
      "42 AE FA 56 \n",
      "58 3A 5A D0 \n",
      "AddRoundKey\n",
      "CF 43 1C 4A \n",
      "86 E8 D1 FB \n",
      "F7 22 67 1A \n",
      "F7 A2 16 1E \n",
      "Round 8:\n",
      "SubBytes\n",
      "8A 1A 9C D6 \n",
      "44 9B 3E 0F \n",
      "68 93 85 A2 \n",
      "68 3A 47 72 \n",
      "ShiftRows\n",
      "8A 1A 9C D6 \n",
      "9B 3E 0F 44 \n",
      "85 A2 68 93 \n",
      "72 68 3A 47 \n",
      "MixColumns\n",
      "4E 41 96 7F \n",
      "BC F3 C3 62 \n",
      "60 00 0D AC \n",
      "AF B7 66 38 \n",
      "AddRoundKey\n",
      "88 E2 BD DB \n",
      "BD 20 08 DE \n",
      "77 A7 4C B3 \n",
      "73 A9 D1 2C \n",
      "Round 9:\n",
      "SubBytes\n",
      "C4 98 7A B9 \n",
      "7A B7 30 1D \n",
      "F5 5C 29 6D \n",
      "8F D3 3E 71 \n",
      "ShiftRows\n",
      "C4 98 7A B9 \n",
      "B7 30 1D 7A \n",
      "29 6D F5 5C \n",
      "71 8F D3 3E \n",
      "MixColumns\n",
      "09 BB B2 2B \n",
      "99 C0 F8 EB \n",
      "F5 97 F8 DB \n",
      "85 97 39 8A \n",
      "AddRoundKey\n",
      "7E DD EF 8D \n",
      "D5 88 A0 61 \n",
      "0D 7E E3 62 \n",
      "E4 F3 83 1C \n",
      "Round 10:\n",
      "SubBytes\n",
      "F3 C1 DF 5D \n",
      "03 C4 E0 EF \n",
      "D7 F3 11 AA \n",
      "69 0D EC 9C \n",
      "ShiftRows\n",
      "F3 C1 DF 5D \n",
      "C4 E0 EF 03 \n",
      "11 AA D7 F3 \n",
      "9C 69 0D EC \n",
      "MixColumns\n",
      "27 CF AA F8 \n",
      "61 96 D5 C0 \n",
      "55 75 92 58 \n",
      "A0 B9 8C D4 \n",
      "AddRoundKey\n",
      "B3 AB 42 C3 \n",
      "0A 80 6B CE \n",
      "DB C0 C6 0D \n",
      "C4 37 D2 4A \n",
      "Round 11:\n",
      "SubBytes\n",
      "6D 62 2C 2E \n",
      "67 CD 7F 8B \n",
      "B9 BA B4 D7 \n",
      "1C 9A B5 D6 \n",
      "ShiftRows\n",
      "6D 62 2C 2E \n",
      "CD 7F 8B 67 \n",
      "B4 D7 B9 BA \n",
      "D6 1C 9A B5 \n",
      "MixColumns\n",
      "F4 FD B2 79 \n",
      "8E E2 8C 36 \n",
      "FD 6B 7B 69 \n",
      "FA 80 E2 DE \n",
      "AddRoundKey\n",
      "78 46 2F 20 \n",
      "66 31 8F 92 \n",
      "01 B9 55 97 \n",
      "BD EA ED CC \n",
      "Round 12:\n",
      "SubBytes\n",
      "BC 5A 15 B7 \n",
      "33 C7 73 4F \n",
      "7C 56 FC 88 \n",
      "7A 87 55 4B \n",
      "ShiftRows\n",
      "BC 5A 15 B7 \n",
      "C7 73 4F 33 \n",
      "FC 88 7C 56 \n",
      "4B 7A 87 55 \n",
      "MixColumns\n",
      "86 7D 45 72 \n",
      "D3 45 AC E1 \n",
      "00 88 30 19 \n",
      "23 7E D7 0D \n",
      "AddRoundKey\n",
      "FB 64 A0 E0 \n",
      "25 0B D8 59 \n",
      "FD 01 C9 AF \n",
      "19 7D 0F 85 \n",
      "Round 13:\n",
      "SubBytes\n",
      "0F 43 E0 E1 \n",
      "3F 2B 61 CB \n",
      "54 7C DD 79 \n",
      "D4 FF 76 97 \n",
      "ShiftRows\n",
      "0F 43 E0 E1 \n",
      "2B 61 CB 3F \n",
      "DD 79 54 7C \n",
      "97 D4 FF 76 \n",
      "MixColumns\n",
      "29 B2 27 D2 \n",
      "88 DE B7 6E \n",
      "36 6E 99 41 \n",
      "92 6D BC 97 \n",
      "AddRoundKey\n",
      "8B E2 8E F0 \n",
      "E5 5A 0E 1F \n",
      "28 8D 8D DD \n",
      "D2 B2 19 DD \n",
      "Round 14:\n",
      "SubBytes\n",
      "3D 98 19 8C \n",
      "D9 BE AB C0 \n",
      "34 5D 5D C1 \n",
      "B5 37 D4 C1 \n",
      "ShiftRows\n",
      "3D 98 19 8C \n",
      "BE AB C0 D9 \n",
      "5D C1 34 5D \n",
      "C1 B5 37 D4 \n",
      "AddRoundKey\n",
      "40 52 73 25 \n",
      "09 52 69 57 \n",
      "33 02 0E 1F \n",
      "00 E8 7C 17 \n"
     ]
    }
   ],
   "execution_count": 1636
  },
  {
   "metadata": {
    "ExecuteTime": {
     "end_time": "2025-03-22T00:26:48.313403Z",
     "start_time": "2025-03-22T00:26:48.296336Z"
    }
   },
   "cell_type": "code",
   "source": [
    "def arr_key_to_hex_str(key_array):\n",
    "    return ' '.join(bin_to_hex(key) for key in key_array if type(key) is bitarray)"
   ],
   "id": "9024c04d8f351e53",
   "outputs": [],
   "execution_count": 1637
  },
  {
   "metadata": {
    "ExecuteTime": {
     "end_time": "2025-03-22T00:26:48.360142Z",
     "start_time": "2025-03-22T00:26:48.343885Z"
    }
   },
   "cell_type": "code",
   "source": [
    "key_states_hex_str = [(arr_key_to_hex_str(key), convert_state_to_hex_str(state))  \n",
    "                        for key, state in key_states]\n",
    "i = -1\n",
    "for key_hex, state_hex in key_states_hex_str:\n",
    "    print(f\"Key {i}:\", key_hex)\n",
    "    print(f\"State {i}:\", state_hex)\n",
    "    i += 1"
   ],
   "id": "1e75bed4b3dad9a6",
   "outputs": [
    {
     "name": "stdout",
     "output_type": "stream",
     "text": [
      "Key -1: FD E8 F7 A9 B8 6C 3B FF 07 C0 D3 9D 04 60 5E DD\n",
      "State -1: CF AB 01 01 30 36 0B 72 36 F1 4B 3F E4 57 59 E9\n",
      "Key 0: 14 A3 D4 B6 33 45 4D 7C 5B 21 3A 5B 9A 0F 58 6C\n",
      "State 0: B9 F3 04 B9 74 22 E1 E2 80 56 5C F3 B0 AA 9A 74\n",
      "Key 1: 8A 82 A7 11 32 EE 9C EE 35 2E 4F 73 31 4E 11 AE\n",
      "State 1: 50 A5 5B 0D 2B 80 2E E6 31 35 62 4A 06 AD 07 73\n",
      "Key 2: D3 8C 56 52 E0 C9 1B 2E BB E8 21 75 21 E7 79 19\n",
      "State 2: 1C 34 0D C5 AA 8C 8F C0 3D DB 88 8C 12 01 13 28\n",
      "Key 3: 1C 34 73 EC 2E DA EF 02 1B F4 A0 71 2A BA B1 DF\n",
      "State 3: 63 03 44 9B 66 3E F1 7E BC F3 9B DC 9C B2 2A 3C\n",
      "Key 4: 36 78 9E CC D6 B1 85 E2 6D 59 A4 97 4C BE DD 8E\n",
      "State 4: E9 2B D9 B1 56 B8 56 77 16 8C CE E9 41 E8 B0 3A\n",
      "Key 5: B6 F5 6A C5 98 2F 85 C7 83 DB 25 B6 A9 61 94 69\n",
      "State 5: 35 35 8E 1B 62 AC C6 07 7B 1B 97 20 13 CD BD 8B\n",
      "Key 6: E5 97 BC 35 33 26 39 D7 5E 7F 9D 40 12 C1 40 CE\n",
      "State 6: CF 86 F7 F7 43 E8 22 A2 1C D1 67 16 4A FB 1A 1E\n",
      "Key 7: C6 FC E1 0C 5E D3 64 CB DD 08 41 7D 74 69 D5 14\n",
      "State 7: 88 BD 77 73 E2 20 A7 A9 BD 08 4C D1 DB DE B3 2C\n",
      "Key 8: 77 6E BF CF 44 48 86 18 1A 37 1B 58 08 F6 5B 96\n",
      "State 8: 7E D5 0D E4 DD 88 7E F3 EF A0 E3 83 8D 61 62 1C\n",
      "Key 9: 94 C5 71 3C CA 16 15 F7 17 1E 54 8A 63 77 81 9E\n",
      "State 9: B3 0A DB C4 AB 80 C0 37 42 6B C6 D2 C3 CE 0D 4A\n",
      "Key 10: 8C 9B B3 C4 C8 D3 35 DC D2 E4 2E 84 DA 12 75 12\n",
      "State 10: 78 66 01 BD 46 31 B9 EA 2F 8F 55 ED 20 92 97 CC\n",
      "Key 11: 7D 58 B8 6B B7 4E AD 9C A0 50 F9 16 C3 27 78 88\n",
      "State 11: FB 25 FD 19 64 0B 01 7D A0 D8 C9 0F E0 59 AF 85\n",
      "Key 12: A2 57 0F 00 6A 84 3A DC B8 60 14 58 62 72 61 4A\n",
      "State 12: 8B E5 28 D2 E2 5A 8D B2 8E 0E 8D 19 F0 1F DD DD\n",
      "Key 13: 7D B7 6E C1 CA F9 C3 5D 6A A9 3A 4B A9 8E 42 C3\n",
      "State 13: 40 09 33 00 52 52 02 E8 73 69 0E 7C 25 57 1F 17\n"
     ]
    }
   ],
   "execution_count": 1638
  },
  {
   "metadata": {
    "ExecuteTime": {
     "end_time": "2025-03-22T00:26:48.438484Z",
     "start_time": "2025-03-22T00:26:48.409006Z"
    }
   },
   "cell_type": "code",
   "source": [
    "# in ra file excel\n",
    "import pandas as pd\n",
    "\n",
    "df = pd.DataFrame(key_states_hex_str, columns=['Key', 'State'])\n",
    "df.to_excel('output/AES_256.xlsx', index=True)"
   ],
   "id": "6efacbbd87079546",
   "outputs": [],
   "execution_count": 1639
  },
  {
   "metadata": {},
   "cell_type": "markdown",
   "source": "# **Mode CBC AES**",
   "id": "3f5dfe28207176f7"
  },
  {
   "metadata": {
    "ExecuteTime": {
     "end_time": "2025-03-22T00:26:48.464110Z",
     "start_time": "2025-03-22T00:26:48.457160Z"
    }
   },
   "cell_type": "code",
   "source": [
    "IV = \"00 01 02 03 04 05 06 07 08 09 0A 0B 0C 0D 0E 0F\"\n",
    "key = \"FD E8 F7 A9 B8 6C 3B FF 07 C0 D3 9D 04 60 5E DD\" #14 A3 D4 B6 33 45 4D 7C 5B 21 3A 5B 9A 0F 58 6C\"\n",
    "message = \"The quick brown fox jumps over the lazy dog.\""
   ],
   "id": "387a7ee852cf7a79",
   "outputs": [],
   "execution_count": 1640
  },
  {
   "metadata": {
    "ExecuteTime": {
     "end_time": "2025-03-22T00:26:48.510158Z",
     "start_time": "2025-03-22T00:26:48.489411Z"
    }
   },
   "cell_type": "code",
   "source": [
    "\"\"\"Viết hàm chuyển chuỗi thành dạng nhị phân dưới dạng các block 64 bit\"\"\"\n",
    "def str_to_block_128_bit(message: str, mode_padding=\"zeros\"):\n",
    "    binary_string = bitarray()\n",
    "    binary_string.frombytes(message.encode(\"ISO-8859-1\"))\n",
    "    padding = 128 - len(binary_string) % 128\n",
    "    if mode_padding == \"zeros\":\n",
    "        binary_string += bitarray(padding * \"0\")\n",
    "    elif mode_padding == \"one-zeros\":\n",
    "        binary_string += bitarray(\"1\")\n",
    "        binary_string += bitarray(\"0\" * (padding - 1))\n",
    "    elif mode_padding == \"PKCS7\" and padding % 8 == 0:\n",
    "        length = padding // 8\n",
    "        binary_string += bitarray(bin(length)[2:].zfill(8) * length)\n",
    "    return [binary_string[i:i+128] for i in range(0, len(binary_string), 128)]"
   ],
   "id": "329663b8a117e75e",
   "outputs": [],
   "execution_count": 1641
  },
  {
   "metadata": {
    "ExecuteTime": {
     "end_time": "2025-03-22T00:26:48.555316Z",
     "start_time": "2025-03-22T00:26:48.543218Z"
    }
   },
   "cell_type": "code",
   "source": [
    "blocks = str_to_block_128_bit(message, \"PKCS7\")\n",
    "\n",
    "for block in blocks:\n",
    "    hex_block = bin_to_hex(block, version=128)\n",
    "    print(hex_block)"
   ],
   "id": "a3adf47ade20bc1c",
   "outputs": [
    {
     "name": "stdout",
     "output_type": "stream",
     "text": [
      "54 68 65 20 71 75 69 63 6B 20 62 72 6F 77 6E 20\n",
      "66 6F 78 20 6A 75 6D 70 73 20 6F 76 65 72 20 74\n",
      "68 65 20 6C 61 7A 79 20 64 6F 67 2E 04 04 04 04\n"
     ]
    }
   ],
   "execution_count": 1642
  },
  {
   "metadata": {
    "ExecuteTime": {
     "end_time": "2025-03-22T00:26:48.634656Z",
     "start_time": "2025-03-22T00:26:48.625946Z"
    }
   },
   "cell_type": "code",
   "source": [
    "def block_128_bit_to_str(blocks: bitarray) -> str:\n",
    "    binary_string = bitarray()\n",
    "    for block in blocks:\n",
    "        binary_string += block\n",
    "    return binary_string.tobytes().decode(\"ISO-8859-1\")"
   ],
   "id": "503b4084412f5848",
   "outputs": [],
   "execution_count": 1643
  },
  {
   "metadata": {
    "ExecuteTime": {
     "end_time": "2025-03-22T00:26:48.671774Z",
     "start_time": "2025-03-22T00:26:48.665028Z"
    }
   },
   "cell_type": "code",
   "source": [
    "def encrypt_AES_mode_CBC(message: str, key: bitarray, IV: bitarray, version=128):\n",
    "    blocks = str_to_block_128_bit(message, mode_padding=\"PKCS7\")\n",
    "    \n",
    "    IV = hex_to_bin(IV, version=128)\n",
    "    \n",
    "    ciphertexts = []\n",
    "    \n",
    "    for block in blocks:\n",
    "        block = block ^ IV\n",
    "        IV_state, _ = encrypt_AES(bin_to_hex(block), key, version)\n",
    "        IV = hex_to_bin(convert_state_to_hex_str(IV_state), version=128)\n",
    "        ciphertexts.append(IV)\n",
    "    \n",
    "    ciphertext = ' '.join([bin_to_hex(block, version=128) for block in ciphertexts])\n",
    "        \n",
    "    return ciphertext"
   ],
   "id": "f5632d30d0f65831",
   "outputs": [],
   "execution_count": 1644
  },
  {
   "metadata": {
    "ExecuteTime": {
     "end_time": "2025-03-22T00:26:48.746021Z",
     "start_time": "2025-03-22T00:26:48.695009Z"
    }
   },
   "cell_type": "code",
   "source": [
    "ciphertext_hex = encrypt_AES_mode_CBC(message, key, IV, 128)\n",
    "print(\"ciphertext:\", ciphertext_hex)"
   ],
   "id": "10dd73e3168b0ecf",
   "outputs": [
    {
     "name": "stdout",
     "output_type": "stream",
     "text": [
      "Start state:\n",
      "54 75 63 63 \n",
      "69 70 29 7A \n",
      "67 6F 68 60 \n",
      "23 64 79 2F \n",
      "Round 0:\n",
      "state\n",
      "A9 CD 64 67 \n",
      "81 1C E9 1A \n",
      "90 54 BB 3E \n",
      "8A 9B E4 F2 \n",
      "Round 1:\n",
      "SubBytes\n",
      "D3 BD 43 85 \n",
      "0C 9C 1E A2 \n",
      "60 20 EA B2 \n",
      "7E 14 69 89 \n",
      "ShiftRows\n",
      "D3 BD 43 85 \n",
      "9C 1E A2 0C \n",
      "EA B2 60 20 \n",
      "89 7E 14 69 \n",
      "MixColumns\n",
      "61 5C 00 11 \n",
      "8F 32 5E 8C \n",
      "0F A8 1D 2F \n",
      "4C 94 72 6A \n",
      "AddRoundKey\n",
      "4D 1B 9C DB \n",
      "EC EE B4 E8 \n",
      "36 53 C3 F2 \n",
      "4A 28 16 8E \n",
      "Round 2:\n",
      "SubBytes\n",
      "E3 AF DE B9 \n",
      "CE 28 8D 9B \n",
      "05 ED 2E 89 \n",
      "D6 34 47 19 \n",
      "ShiftRows\n",
      "E3 AF DE B9 \n",
      "28 8D 9B CE \n",
      "2E 89 05 ED \n",
      "19 D6 34 47 \n",
      "MixColumns\n",
      "92 D8 BC 0A \n",
      "96 F8 4A 59 \n",
      "20 C8 13 8F \n",
      "8A 55 7F 7D \n",
      "AddRoundKey\n",
      "AC 3C 19 24 \n",
      "A5 59 75 94 \n",
      "E3 18 9F 73 \n",
      "D9 2E C1 D7 \n",
      "Round 3:\n",
      "SubBytes\n",
      "91 EB D4 36 \n",
      "06 CB 9D 22 \n",
      "11 AD DB 8F \n",
      "35 31 78 0E \n",
      "ShiftRows\n",
      "91 EB D4 36 \n",
      "CB 9D 22 06 \n",
      "DB 8F 11 AD \n",
      "0E 35 31 78 \n",
      "MixColumns\n",
      "AA 64 E5 A4 \n",
      "CB 75 2C 5E \n",
      "F5 92 87 36 \n",
      "B3 AE F9 01 \n",
      "AddRoundKey\n",
      "E8 23 24 CC \n",
      "E7 57 0D F0 \n",
      "16 8D AA D8 \n",
      "93 1E 38 A5 \n",
      "Round 4:\n",
      "SubBytes\n",
      "9B 26 36 4B \n",
      "94 5B D7 8C \n",
      "47 5D AC 61 \n",
      "DC 72 07 06 \n",
      "ShiftRows\n",
      "9B 26 36 4B \n",
      "5B D7 8C 94 \n",
      "AC 61 47 5D \n",
      "06 DC 72 07 \n",
      "MixColumns\n",
      "6A C4 89 4D \n",
      "93 EC 4C 7F \n",
      "D6 8E A2 75 \n",
      "6B 98 6C 1A \n",
      "AddRoundKey\n",
      "78 69 FD 3F \n",
      "BA B0 4D 05 \n",
      "33 57 94 7B \n",
      "A8 DA DE 15 \n",
      "Round 5:\n",
      "SubBytes\n",
      "BC F9 54 75 \n",
      "F4 E7 E3 6B \n",
      "C3 5B 22 21 \n",
      "C2 57 1D 59 \n",
      "ShiftRows\n",
      "BC F9 54 75 \n",
      "E7 E3 6B F4 \n",
      "22 21 C3 5B \n",
      "59 C2 57 1D \n",
      "MixColumns\n",
      "2A 56 F4 A8 \n",
      "34 85 05 4D \n",
      "81 8B 5B FA \n",
      "AB 76 10 0A \n",
      "AddRoundKey\n",
      "76 92 0C 72 \n",
      "D8 57 9A FA \n",
      "38 D2 BA E6 \n",
      "6D 2D 31 CE \n",
      "Round 6:\n",
      "SubBytes\n",
      "38 4F FE 40 \n",
      "61 5B B8 2D \n",
      "07 B5 F4 8E \n",
      "3C D8 C7 8B \n",
      "ShiftRows\n",
      "38 4F FE 40 \n",
      "5B B8 2D 61 \n",
      "F4 8E 07 B5 \n",
      "8B 3C D8 C7 \n",
      "MixColumns\n",
      "E2 02 16 EA \n",
      "FF 91 B4 9F \n",
      "4F 75 AE 98 \n",
      "51 81 02 81 \n",
      "AddRoundKey\n",
      "FA 41 7C BB \n",
      "CE 8F 7A 02 \n",
      "C6 B3 48 12 \n",
      "1A 0F C3 1E \n",
      "Round 7:\n",
      "SubBytes\n",
      "2D 83 10 EA \n",
      "8B 73 DA 77 \n",
      "B4 6D 52 C9 \n",
      "A2 76 2E 72 \n",
      "ShiftRows\n",
      "2D 83 10 EA \n",
      "73 DA 77 8B \n",
      "52 C9 B4 6D \n",
      "72 A2 76 2E \n",
      "MixColumns\n",
      "EF 4F 6C B2 \n",
      "03 CE 2D D2 \n",
      "7B 4F 8E 1F \n",
      "0A 7E C9 9F \n",
      "AddRoundKey\n",
      "5B 09 42 D9 \n",
      "49 D6 58 EA \n",
      "67 21 64 33 \n",
      "C5 35 A3 BC \n",
      "Round 8:\n",
      "SubBytes\n",
      "39 01 2C 35 \n",
      "3B F6 6A 87 \n",
      "85 FD 43 C3 \n",
      "A6 96 0A 65 \n",
      "ShiftRows\n",
      "39 01 2C 35 \n",
      "F6 6A 87 3B \n",
      "43 C3 85 FD \n",
      "65 A6 96 0A \n",
      "MixColumns\n",
      "55 6E E6 34 \n",
      "D9 2D 07 FD \n",
      "D9 3B 1B 41 \n",
      "D0 55 F1 8D \n",
      "AddRoundKey\n",
      "43 C5 FC 26 \n",
      "45 1E 1F E5 \n",
      "CB 26 D0 C0 \n",
      "25 0B 0B E4 \n",
      "Round 9:\n",
      "SubBytes\n",
      "1A A6 B0 F7 \n",
      "6E 72 C0 D9 \n",
      "1F F7 70 BA \n",
      "3F 2B 2B 69 \n",
      "ShiftRows\n",
      "1A A6 B0 F7 \n",
      "72 C0 D9 6E \n",
      "70 BA 1F F7 \n",
      "69 3F 2B 2B \n",
      "MixColumns\n",
      "BB 07 33 FE \n",
      "89 D7 48 F5 \n",
      "3F 13 2A 5B \n",
      "9B 02 11 CD \n",
      "AddRoundKey\n",
      "51 7F EC BE \n",
      "EB 08 E8 49 \n",
      "E7 BD 14 1E \n",
      "AD 50 B4 4B \n",
      "Round 10:\n",
      "SubBytes\n",
      "D1 D2 CE AE \n",
      "E9 30 9B 3B \n",
      "94 7A FA 72 \n",
      "95 53 8D B3 \n",
      "ShiftRows\n",
      "D1 D2 CE AE \n",
      "30 9B 3B E9 \n",
      "FA 72 94 7A \n",
      "B3 95 53 8D \n",
      "AddRoundKey\n",
      "BE 4B 84 C1 \n",
      "AA DE 85 1C \n",
      "6A 17 CF 2E \n",
      "DF 5C 75 2D \n",
      "Start state:\n",
      "D8 21 F7 A4 \n",
      "C5 AB A5 6E \n",
      "12 7A A0 0E \n",
      "FF 2C 03 59 \n",
      "Round 0:\n",
      "state\n",
      "25 99 F0 A0 \n",
      "2D C7 65 0E \n",
      "E5 41 73 50 \n",
      "56 D3 9E 84 \n",
      "Round 1:\n",
      "SubBytes\n",
      "3F EE 8C E0 \n",
      "D8 C6 4D AB \n",
      "D9 83 8F 53 \n",
      "B1 66 0B 5F \n",
      "ShiftRows\n",
      "3F EE 8C E0 \n",
      "C6 4D AB D8 \n",
      "8F 53 D9 83 \n",
      "5F B1 66 0B \n",
      "MixColumns\n",
      "FF 7D 1D B6 \n",
      "F2 30 CD 4E \n",
      "5A D7 24 31 \n",
      "20 DE 38 76 \n",
      "AddRoundKey\n",
      "D3 66 C9 B7 \n",
      "CD EC CB A2 \n",
      "2B C0 FA B8 \n",
      "ED EA 08 92 \n",
      "Round 2:\n",
      "SubBytes\n",
      "66 33 DD A9 \n",
      "BD CE 1F 3A \n",
      "F1 BA 2D 6C \n",
      "55 87 30 4F \n",
      "ShiftRows\n",
      "66 33 DD A9 \n",
      "CE 1F 3A BD \n",
      "2D 6C F1 BA \n",
      "4F 55 87 30 \n",
      "MixColumns\n",
      "E7 D9 23 D7 \n",
      "7E EC 0B 8C \n",
      "99 26 8C A2 \n",
      "1F 2D 2B 87 \n",
      "AddRoundKey\n",
      "D9 D4 A0 B1 \n",
      "A4 4D 9B EC \n",
      "7C 59 00 27 \n",
      "04 FB EC 2D \n",
      "Round 3:\n",
      "SubBytes\n",
      "35 48 E0 C8 \n",
      "49 E3 14 CE \n",
      "10 CB 63 CC \n",
      "F2 0F CE D8 \n",
      "ShiftRows\n",
      "35 48 E0 C8 \n",
      "E3 14 CE 49 \n",
      "63 CC 10 CB \n",
      "D8 F2 0F CE \n",
      "MixColumns\n",
      "EF 95 63 74 \n",
      "92 DD D2 FF \n",
      "8D 58 1F FB \n",
      "55 D2 45 46 \n",
      "AddRoundKey\n",
      "AD 7A 5C 2A \n",
      "16 FF C7 8C \n",
      "90 73 32 64 \n",
      "43 BF F5 E2 \n",
      "Round 4:\n",
      "SubBytes\n",
      "95 DA 4A E5 \n",
      "47 16 C6 64 \n",
      "60 8F 23 43 \n",
      "1A 08 E6 98 \n",
      "ShiftRows\n",
      "95 DA 4A E5 \n",
      "16 C6 64 47 \n",
      "23 43 60 8F \n",
      "98 1A 08 E6 \n",
      "MixColumns\n",
      "B0 44 76 BA \n",
      "A7 92 B4 C4 \n",
      "50 2A F6 CA \n",
      "71 07 96 2B \n",
      "AddRoundKey\n",
      "A2 5D 7B 25 \n",
      "3A CE E9 9A \n",
      "CC AF C0 81 \n",
      "5F 61 61 24 \n",
      "Round 5:\n",
      "SubBytes\n",
      "3A 4C 21 3F \n",
      "80 8B 1E B8 \n",
      "4B 79 BA 0C \n",
      "CF EF EF 36 \n",
      "ShiftRows\n",
      "3A 4C 21 3F \n",
      "8B 1E B8 80 \n",
      "BA 0C 4B 79 \n",
      "36 CF EF EF \n",
      "MixColumns\n",
      "7E D4 84 13 \n",
      "79 AB 00 43 \n",
      "35 78 25 55 \n",
      "73 40 67 7D \n",
      "AddRoundKey\n",
      "22 DF B8 AA \n",
      "5A 79 69 CC \n",
      "48 D7 C4 91 \n",
      "D6 23 9E B9 \n",
      "Round 6:\n",
      "SubBytes\n",
      "93 9E 6C AC \n",
      "BE B6 F9 4B \n",
      "52 0E 1C 81 \n",
      "F6 26 0B 56 \n",
      "ShiftRows\n",
      "93 9E 6C AC \n",
      "B6 F9 4B BE \n",
      "1C 81 52 0E \n",
      "56 F6 26 0B \n",
      "MixColumns\n",
      "B6 96 E7 A8 \n",
      "40 19 7F 36 \n",
      "71 2A E9 E1 \n",
      "9F D2 13 49 \n",
      "AddRoundKey\n",
      "AE FE 42 75 \n",
      "5A 07 25 51 \n",
      "37 78 0F 03 \n",
      "58 A6 BA D6 \n",
      "Round 7:\n",
      "SubBytes\n",
      "E4 BB 2C 9D \n",
      "BE C5 3F D1 \n",
      "9A BC 76 7B \n",
      "6A 24 F4 F6 \n",
      "ShiftRows\n",
      "E4 BB 2C 9D \n",
      "C5 3F D1 BE \n",
      "76 7B 9A BC \n",
      "F6 6A 24 F4 \n",
      "MixColumns\n",
      "07 19 CC 73 \n",
      "3D 22 CC 46 \n",
      "8E 04 BE 77 \n",
      "B0 D1 47 4D \n",
      "AddRoundKey\n",
      "B3 37 B7 63 \n",
      "1F 3A 13 45 \n",
      "C7 C0 54 BD \n",
      "04 A1 CB 6E \n",
      "Round 8:\n",
      "SubBytes\n",
      "6D 9A A9 FB \n",
      "C0 80 7D 6E \n",
      "C6 BA 20 7A \n",
      "F2 32 1F 9F \n",
      "ShiftRows\n",
      "6D 9A A9 FB \n",
      "80 7D 6E C0 \n",
      "20 7A C6 BA \n",
      "9F F2 32 1F \n",
      "MixColumns\n",
      "FE 89 17 32 \n",
      "20 1C 1E 4D \n",
      "0F 16 06 2C \n",
      "13 AA 75 52 \n",
      "AddRoundKey\n",
      "E8 3C 2A E5 \n",
      "A2 2F 32 1A \n",
      "3A 3F CD 44 \n",
      "23 BB 66 3B \n",
      "Round 9:\n",
      "SubBytes\n",
      "9B EB E5 D9 \n",
      "3A 15 23 A2 \n",
      "80 75 BD 1B \n",
      "26 EA 33 E2 \n",
      "ShiftRows\n",
      "9B EB E5 D9 \n",
      "15 23 A2 3A \n",
      "BD 1B 80 75 \n",
      "E2 26 EA 33 \n",
      "MixColumns\n",
      "4D 8F D2 C1 \n",
      "95 A6 94 52 \n",
      "46 CB 79 D9 \n",
      "A1 01 5C 59 \n",
      "AddRoundKey\n",
      "A7 63 95 84 \n",
      "63 79 30 4A \n",
      "06 61 47 53 \n",
      "92 F7 36 DF \n",
      "Round 10:\n",
      "SubBytes\n",
      "5C FB 2A 5F \n",
      "FB B6 04 D6 \n",
      "6F EF A0 ED \n",
      "4F 68 05 9E \n",
      "ShiftRows\n",
      "5C FB 2A 5F \n",
      "B6 04 D6 FB \n",
      "A0 ED 6F EF \n",
      "9E 4F 68 05 \n",
      "AddRoundKey\n",
      "33 62 60 30 \n",
      "2C 41 68 0E \n",
      "30 88 34 BB \n",
      "F2 86 4E A5 \n",
      "Start state:\n",
      "5B 03 04 34 \n",
      "49 3B 07 0A \n",
      "10 F1 53 BF \n",
      "9E A6 60 A1 \n",
      "Round 0:\n",
      "state\n",
      "A6 BB 03 30 \n",
      "A1 57 C7 6A \n",
      "E7 CA 80 E1 \n",
      "37 59 FD 7C \n",
      "Round 1:\n",
      "SubBytes\n",
      "24 EA 7B 04 \n",
      "32 5B C6 02 \n",
      "94 74 CD F8 \n",
      "9A CB 54 10 \n",
      "ShiftRows\n",
      "24 EA 7B 04 \n",
      "5B C6 02 32 \n",
      "CD F8 94 74 \n",
      "10 9A CB 54 \n",
      "MixColumns\n",
      "78 CE CE DA \n",
      "FC F4 72 34 \n",
      "AF 13 0C 96 \n",
      "7E A8 22 E2 \n",
      "AddRoundKey\n",
      "54 68 3C E9 \n",
      "7E 28 0F D4 \n",
      "F8 7F D2 A2 \n",
      "81 90 AF 06 \n",
      "Round 2:\n",
      "SubBytes\n",
      "20 45 EB 1E \n",
      "F3 34 76 48 \n",
      "41 D2 B5 3A \n",
      "0C 60 79 6F \n",
      "ShiftRows\n",
      "20 45 EB 1E \n",
      "34 76 48 F3 \n",
      "B5 3A 41 D2 \n",
      "6F 0C 60 79 \n",
      "MixColumns\n",
      "C6 E3 D4 3F \n",
      "26 EB 53 9B \n",
      "34 D8 81 EF \n",
      "99 F7 D9 F1 \n",
      "AddRoundKey\n",
      "F8 8C 0D 37 \n",
      "9E 4A 65 36 \n",
      "8B 01 0D D5 \n",
      "EC EC A1 5B \n",
      "Round 3:\n",
      "SubBytes\n",
      "41 64 D7 9A \n",
      "0B D6 4D 05 \n",
      "3D 7C D7 03 \n",
      "CE CE 32 39 \n",
      "ShiftRows\n",
      "41 64 D7 9A \n",
      "D6 4D 05 0B \n",
      "D7 03 3D 7C \n",
      "39 CE CE 32 \n",
      "MixColumns\n",
      "0D AD 69 B0 \n",
      "D2 35 66 65 \n",
      "49 54 E1 DD \n",
      "7C 3A 3F A6 \n",
      "AddRoundKey\n",
      "4F 3A 98 03 \n",
      "2E 17 CB 64 \n",
      "9A C7 CC 1E \n",
      "87 25 D3 02 \n",
      "Round 4:\n",
      "SubBytes\n",
      "84 80 46 7B \n",
      "31 F0 1F 43 \n",
      "B8 C6 4B 72 \n",
      "17 3F 66 77 \n",
      "ShiftRows\n",
      "84 80 46 7B \n",
      "F0 1F 43 31 \n",
      "4B 72 B8 C6 \n",
      "77 17 3F 66 \n",
      "MixColumns\n",
      "24 D5 7B C2 \n",
      "5F 3F 42 D8 \n",
      "CE 2C 2F 4F \n",
      "05 2E 77 B6 \n",
      "AddRoundKey\n",
      "36 A5 E5 51 \n",
      "AB 63 EF B3 \n",
      "C1 59 19 60 \n",
      "27 7D E4 B9 \n",
      "Round 5:\n",
      "SubBytes\n",
      "05 06 D9 D1 \n",
      "62 FB DF 6D \n",
      "78 CB D4 D0 \n",
      "CC FF 69 56 \n",
      "ShiftRows\n",
      "05 06 D9 D1 \n",
      "FB DF 6D 62 \n",
      "D4 D0 78 CB \n",
      "56 CC FF 69 \n",
      "MixColumns\n",
      "9E D9 B7 8C \n",
      "6A 04 2D 86 \n",
      "99 74 5E 80 \n",
      "BD 3A 85 13 \n",
      "AddRoundKey\n",
      "C2 CC 14 64 \n",
      "57 D6 65 B6 \n",
      "7B FA BF 73 \n",
      "49 E6 4B D7 \n",
      "Round 6:\n",
      "SubBytes\n",
      "25 4B FA 43 \n",
      "5B F6 4D 4E \n",
      "21 2D 08 8F \n",
      "3B 8E B3 0E \n",
      "ShiftRows\n",
      "25 4B FA 43 \n",
      "F6 4D 4E 5B \n",
      "08 8F 21 2D \n",
      "0E 3B 8E B3 \n",
      "MixColumns\n",
      "4D C4 D1 8D \n",
      "F5 60 4E 69 \n",
      "92 8B 7F 7D \n",
      "F5 31 8C CE \n",
      "AddRoundKey\n",
      "55 4B A1 1F \n",
      "08 7E 84 B2 \n",
      "01 49 99 9C \n",
      "7D F9 26 51 \n",
      "Round 7:\n",
      "SubBytes\n",
      "FC B3 32 C0 \n",
      "30 F3 5F 37 \n",
      "7C 3B EE DE \n",
      "FF 99 F7 D1 \n",
      "ShiftRows\n",
      "FC B3 32 C0 \n",
      "F3 5F 37 30 \n",
      "EE DE 7C 3B \n",
      "D1 FF 99 F7 \n",
      "MixColumns\n",
      "D2 F9 A0 BB \n",
      "BD 8B 51 AA \n",
      "D8 41 4D 34 \n",
      "07 1A 84 A5 \n",
      "AddRoundKey\n",
      "66 B7 E1 D4 \n",
      "FF 93 56 8E \n",
      "AB 5D A7 7E \n",
      "CC 4D 88 86 \n",
      "Round 8:\n",
      "SubBytes\n",
      "33 A9 F8 48 \n",
      "16 DC B1 19 \n",
      "62 4C 5C F3 \n",
      "4B E3 C4 44 \n",
      "ShiftRows\n",
      "33 A9 F8 48 \n",
      "DC B1 19 16 \n",
      "5C F3 62 4C \n",
      "44 4B E3 C4 \n",
      "MixColumns\n",
      "01 30 9B 5D \n",
      "39 95 38 34 \n",
      "41 8F 1B B5 \n",
      "22 74 91 11 \n",
      "AddRoundKey\n",
      "17 25 64 D4 \n",
      "1B A6 AB C4 \n",
      "B6 19 D0 A0 \n",
      "4C C2 FF 78 \n",
      "Round 9:\n",
      "SubBytes\n",
      "F0 3F 43 48 \n",
      "AF 24 62 1C \n",
      "4E D4 70 E0 \n",
      "29 25 16 BC \n",
      "ShiftRows\n",
      "F0 3F 43 48 \n",
      "24 62 1C AF \n",
      "70 E0 4E D4 \n",
      "BC 29 25 16 \n",
      "MixColumns\n",
      "5B 94 EB 3C \n",
      "11 E9 FD 91 \n",
      "C9 8C AC DD \n",
      "B8 7C 6E 8F \n",
      "AddRoundKey\n",
      "B1 E7 1A 9D \n",
      "78 36 77 37 \n",
      "3F 08 92 61 \n",
      "6F 34 32 09 \n",
      "Round 10:\n",
      "SubBytes\n",
      "C8 94 A2 5E \n",
      "BC 05 F5 9A \n",
      "75 30 4F EF \n",
      "A8 18 23 01 \n",
      "ShiftRows\n",
      "C8 94 A2 5E \n",
      "05 F5 9A BC \n",
      "4F EF 75 30 \n",
      "01 A8 18 23 \n",
      "AddRoundKey\n",
      "A7 0D E8 31 \n",
      "9F B0 24 49 \n",
      "DF 8A 2E 64 \n",
      "6D 61 3E 83 \n",
      "ciphertext: BE AA 6A DF 4B DE 17 5C 84 85 CF 75 C1 1C 2E 2D 33 2C 30 F2 62 41 88 86 60 68 34 4E 30 0E BB A5 A7 9F DF 6D 0D B0 8A 61 E8 24 2E 3E 31 49 64 83\n"
     ]
    }
   ],
   "execution_count": 1645
  },
  {
   "metadata": {},
   "cell_type": "markdown",
   "source": "# **Request server and check valid padding**",
   "id": "474313e93074b53e"
  },
  {
   "metadata": {
    "ExecuteTime": {
     "end_time": "2025-03-22T00:26:48.792137Z",
     "start_time": "2025-03-22T00:26:48.773803Z"
    }
   },
   "cell_type": "code",
   "source": "from typing import Union",
   "id": "ac15f5a2bf350440",
   "outputs": [],
   "execution_count": 1646
  },
  {
   "metadata": {
    "ExecuteTime": {
     "end_time": "2025-03-22T00:26:48.827266Z",
     "start_time": "2025-03-22T00:26:48.820168Z"
    }
   },
   "cell_type": "code",
   "source": [
    "PADDING_INVALID = False\n",
    "PADDING_VALID = True"
   ],
   "id": "c8154fa1bac9679b",
   "outputs": [],
   "execution_count": 1647
  },
  {
   "metadata": {
    "ExecuteTime": {
     "end_time": "2025-03-22T00:26:48.875399Z",
     "start_time": "2025-03-22T00:26:48.852670Z"
    }
   },
   "cell_type": "code",
   "source": [
    "def check_valid_padding(plaintext: Union[bitarray, str]) -> bool:\n",
    "    if isinstance(plaintext, str):\n",
    "        plaintext = hex_to_bin(plaintext, version=128)\n",
    "    plaintext_hex = bin_to_hex(plaintext, version=128).split(\" \")\n",
    "    length_padding = ba2int(plaintext[-8:])\n",
    "    \n",
    "    n = len(plaintext_hex)\n",
    "    for i in range(1, length_padding + 1):\n",
    "        if plaintext_hex[n-i] != plaintext_hex[-1]:\n",
    "            return False\n",
    "    return True"
   ],
   "id": "41355069901a55f2",
   "outputs": [],
   "execution_count": 1648
  },
  {
   "metadata": {
    "ExecuteTime": {
     "end_time": "2025-03-22T00:26:48.912176Z",
     "start_time": "2025-03-22T00:26:48.900002Z"
    }
   },
   "cell_type": "code",
   "source": [
    "plaintext_check = \"68 65 20 6C 61 7A 79 20 64 6F 67 2E 04 04 04 04\"\n",
    "check_valid_padding(plaintext_check)"
   ],
   "id": "e32b38a4f5845d57",
   "outputs": [
    {
     "data": {
      "text/plain": [
       "True"
      ]
     },
     "execution_count": 1649,
     "metadata": {},
     "output_type": "execute_result"
    }
   ],
   "execution_count": 1649
  },
  {
   "metadata": {
    "ExecuteTime": {
     "end_time": "2025-03-22T00:26:48.954552Z",
     "start_time": "2025-03-22T00:26:48.947723Z"
    }
   },
   "cell_type": "code",
   "source": [
    "def response_server(plaintext: Union[bitarray, str]) -> bool:\n",
    "    if check_valid_padding(plaintext):\n",
    "        return PADDING_VALID\n",
    "    else:\n",
    "        return PADDING_INVALID"
   ],
   "id": "1cf31d4e6f22d30c",
   "outputs": [],
   "execution_count": 1650
  },
  {
   "metadata": {
    "ExecuteTime": {
     "end_time": "2025-03-22T00:26:49.012516Z",
     "start_time": "2025-03-22T00:26:48.995813Z"
    }
   },
   "cell_type": "code",
   "source": [
    "def request_server(C1: bitarray, C2: bitarray):\n",
    "    I2_decrypted = decrypt_AES(bin_to_hex(C2, version=128), key, 128)\n",
    "    I2 = hex_to_bin(convert_state_to_hex_str(I2_decrypted), version=128)\n",
    "    P2 = I2 ^ C1\n",
    "    #print(\"P2: \", bin_to_hex(P2, version=128))\n",
    "    return response_server(P2)"
   ],
   "id": "767f27f553de7c90",
   "outputs": [],
   "execution_count": 1651
  },
  {
   "metadata": {},
   "cell_type": "markdown",
   "source": "# **Padding Oracle Attack**",
   "id": "a438a4fb030d7af0"
  },
  {
   "metadata": {
    "ExecuteTime": {
     "end_time": "2025-03-22T00:26:49.056176Z",
     "start_time": "2025-03-22T00:26:49.049336Z"
    }
   },
   "cell_type": "code",
   "source": "message = \"My name is Duy\"",
   "id": "e677a87075dd4986",
   "outputs": [],
   "execution_count": 1652
  },
  {
   "metadata": {
    "ExecuteTime": {
     "end_time": "2025-03-22T00:26:49.067392Z",
     "start_time": "2025-03-22T00:26:49.062341Z"
    }
   },
   "cell_type": "code",
   "source": [
    "C1 = \"0A 44 96 65 37 63 9E 22 BB 5A 36 C1 70 56 9A 56\"\n",
    "C2 = \"6C 37 BC 60 0D 45 E9 B9 DD 66 FD E0 2A 2D C2 60\""
   ],
   "id": "5ceb01651b89697e",
   "outputs": [],
   "execution_count": 1653
  },
  {
   "metadata": {
    "ExecuteTime": {
     "end_time": "2025-03-22T00:26:49.094335Z",
     "start_time": "2025-03-22T00:26:49.083682Z"
    }
   },
   "cell_type": "code",
   "source": [
    "blocks = str_to_block_128_bit(message, \"PKCS7\")\n",
    "\n",
    "for block in blocks:\n",
    "    hex_block = bin_to_hex(block, version=128)\n",
    "    print(hex_block)"
   ],
   "id": "e007f21a920bde7b",
   "outputs": [
    {
     "name": "stdout",
     "output_type": "stream",
     "text": [
      "4D 79 20 6E 61 6D 65 20 69 73 20 44 75 79 02 02\n"
     ]
    }
   ],
   "execution_count": 1654
  },
  {
   "metadata": {
    "ExecuteTime": {
     "end_time": "2025-03-22T00:26:49.148132Z",
     "start_time": "2025-03-22T00:26:49.135060Z"
    }
   },
   "cell_type": "code",
   "source": [
    "def change_byte(C: Union[bitarray, str], index: int, value: Union[hex, int]) -> bitarray:\n",
    "    value = format(value, \"08b\")    \n",
    "    C1 = deepcopy(C)\n",
    "    if isinstance(C, str):\n",
    "        C1 = hex_to_bin(C1, version=128)\n",
    "    \n",
    "    C1 = C1[:index*8] + bitarray(value) + C1[(index+1)*8:]\n",
    "    return C1"
   ],
   "id": "69c69f69a704d976",
   "outputs": [],
   "execution_count": 1655
  },
  {
   "metadata": {
    "ExecuteTime": {
     "end_time": "2025-03-22T00:26:49.176745Z",
     "start_time": "2025-03-22T00:26:49.168384Z"
    }
   },
   "cell_type": "code",
   "source": [
    "def get_byte(C: Union[bitarray, str], index: int) -> int:\n",
    "    C1 = deepcopy(C)\n",
    "    if isinstance(C1, str):\n",
    "        C1 = hex_to_bin(C1, version=128)\n",
    "    return ba2int(C1[index*8:(index+1)*8])"
   ],
   "id": "d528acf46f892524",
   "outputs": [],
   "execution_count": 1656
  },
  {
   "metadata": {
    "ExecuteTime": {
     "end_time": "2025-03-22T00:26:49.226728Z",
     "start_time": "2025-03-22T00:26:49.216688Z"
    }
   },
   "cell_type": "code",
   "source": "get_byte(C1, 15)",
   "id": "c405165f830c63ba",
   "outputs": [
    {
     "data": {
      "text/plain": [
       "86"
      ]
     },
     "execution_count": 1657,
     "metadata": {},
     "output_type": "execute_result"
    }
   ],
   "execution_count": 1657
  },
  {
   "metadata": {
    "ExecuteTime": {
     "end_time": "2025-03-22T00:26:49.289595Z",
     "start_time": "2025-03-22T00:26:49.266742Z"
    }
   },
   "cell_type": "code",
   "source": "bin_to_hex(change_byte(C1, 0, 0x0C), version=128)",
   "id": "26805908508d4cc",
   "outputs": [
    {
     "data": {
      "text/plain": [
       "'0C 44 96 65 37 63 9E 22 BB 5A 36 C1 70 56 9A 56'"
      ]
     },
     "execution_count": 1658,
     "metadata": {},
     "output_type": "execute_result"
    }
   ],
   "execution_count": 1658
  },
  {
   "metadata": {
    "ExecuteTime": {
     "end_time": "2025-03-22T00:26:49.358751Z",
     "start_time": "2025-03-22T00:26:49.350330Z"
    }
   },
   "cell_type": "code",
   "source": [
    "def get_length_padding(C1: Union[bitarray, str], C2: Union[bitarray, str]) -> int:\n",
    "    if isinstance(C1, str):\n",
    "        C1 = hex_to_bin(C1, version=128)\n",
    "    if isinstance(C2, str):\n",
    "        C2 = hex_to_bin(C2, version=128)\n",
    "    for i in range(16):\n",
    "        byte = get_byte(C1, i)\n",
    "        byte += 1\n",
    "        R1 = change_byte(C1, i, byte)\n",
    "        if request_server(R1, C2) == PADDING_INVALID:\n",
    "            return 16 - i\n",
    "    \n",
    "    return 0"
   ],
   "id": "eb2f9058cd1d0298",
   "outputs": [],
   "execution_count": 1659
  },
  {
   "metadata": {
    "ExecuteTime": {
     "end_time": "2025-03-22T00:26:49.469823Z",
     "start_time": "2025-03-22T00:26:49.427609Z"
    }
   },
   "cell_type": "code",
   "source": "get_length_padding(C1, C2)",
   "id": "c6bce4fb95f0f254",
   "outputs": [
    {
     "data": {
      "text/plain": [
       "2"
      ]
     },
     "execution_count": 1660,
     "metadata": {},
     "output_type": "execute_result"
    }
   ],
   "execution_count": 1660
  },
  {
   "metadata": {
    "ExecuteTime": {
     "end_time": "2025-03-22T00:32:13.049508Z",
     "start_time": "2025-03-22T00:32:13.042476Z"
    }
   },
   "cell_type": "code",
   "source": [
    "def remove_padding_from_block(block: Union[bitarray, str], length_padding: int) -> bitarray:\n",
    "    if isinstance(block, str):\n",
    "        block = hex_to_bin(block, version=128)\n",
    "    return block[:-length_padding*8]"
   ],
   "id": "e5585a0c939c8066",
   "outputs": [],
   "execution_count": 1672
  },
  {
   "metadata": {
    "ExecuteTime": {
     "end_time": "2025-03-22T00:33:38.807544Z",
     "start_time": "2025-03-22T00:33:38.786578Z"
    }
   },
   "cell_type": "code",
   "source": [
    "def padding_oracle_attack(C1: Union[bitarray, str], C2: Union[bitarray, str]):\n",
    "    if isinstance(C1, str):\n",
    "        C1 = hex_to_bin(C1, version=128)\n",
    "    if isinstance(C2, str):\n",
    "        C2 = hex_to_bin(C2, version=128)\n",
    "    real_length_padding = get_length_padding(C1, C2)\n",
    "    \n",
    "    I2 = []\n",
    "    for i in range(real_length_padding):\n",
    "        byte = get_byte(C1, 16 - i - 1)\n",
    "        I2.append(byte ^ real_length_padding)\n",
    "    \n",
    "    length_padding = real_length_padding\n",
    "    while len(I2) < 16:\n",
    "        R1 = deepcopy(C1)\n",
    "        for i in range(length_padding):\n",
    "            # R1 = I2 xor length_padding\n",
    "            byte = I2[i] ^ (length_padding + 1)\n",
    "            print(f\"{hex(I2[i])} + {hex(length_padding + 1)} = {hex(byte)}\")\n",
    "            R1 = change_byte(R1, 16 - i - 1, byte)\n",
    "        \n",
    "        # lặp byte C1[length_padding+1] (đếm từ phải qua) cho đến khi padding hợp lệ\n",
    "        for i in range(256):\n",
    "            \n",
    "            R1 = change_byte(R1, 16 - length_padding - 1, i)\n",
    "            if request_server(R1, C2) == PADDING_VALID:\n",
    "                I2.append(i ^ (length_padding + 1))\n",
    "                print('Padding valid in R1: ', bin_to_hex(R1, version=128))\n",
    "                break\n",
    "        length_padding += 1\n",
    "    \n",
    "    I2 = I2[::-1]\n",
    "    I2 = bitarray(''.join(format(i, '08b') for i in I2))\n",
    "    P2 = I2 ^ C1\n",
    "    P2 = remove_padding_from_block(P2, real_length_padding)\n",
    "    return P2"
   ],
   "id": "e6f51fccd0ef1231",
   "outputs": [],
   "execution_count": 1673
  },
  {
   "metadata": {
    "ExecuteTime": {
     "end_time": "2025-03-22T00:33:41.238391Z",
     "start_time": "2025-03-22T00:33:39.333642Z"
    }
   },
   "cell_type": "code",
   "source": "result = padding_oracle_attack(C1, C2)",
   "id": "6eeadb4d55256960",
   "outputs": [
    {
     "name": "stdout",
     "output_type": "stream",
     "text": [
      "0x54 + 0x3 = 0x57\n",
      "0x98 + 0x3 = 0x9b\n",
      "Padding valid in R1:  0A 44 96 65 37 63 9E 22 BB 5A 36 C1 70 2C 9B 57\n",
      "0x54 + 0x4 = 0x50\n",
      "0x98 + 0x4 = 0x9c\n",
      "0x2f + 0x4 = 0x2b\n",
      "Padding valid in R1:  0A 44 96 65 37 63 9E 22 BB 5A 36 C1 01 2B 9C 50\n",
      "0x54 + 0x5 = 0x51\n",
      "0x98 + 0x5 = 0x9d\n",
      "0x2f + 0x5 = 0x2a\n",
      "0x5 + 0x5 = 0x0\n",
      "Padding valid in R1:  0A 44 96 65 37 63 9E 22 BB 5A 36 80 00 2A 9D 51\n",
      "0x54 + 0x6 = 0x52\n",
      "0x98 + 0x6 = 0x9e\n",
      "0x2f + 0x6 = 0x29\n",
      "0x5 + 0x6 = 0x3\n",
      "0x85 + 0x6 = 0x83\n",
      "Padding valid in R1:  0A 44 96 65 37 63 9E 22 BB 5A 10 83 03 29 9E 52\n",
      "0x54 + 0x7 = 0x53\n",
      "0x98 + 0x7 = 0x9f\n",
      "0x2f + 0x7 = 0x28\n",
      "0x5 + 0x7 = 0x2\n",
      "0x85 + 0x7 = 0x82\n",
      "0x16 + 0x7 = 0x11\n",
      "Padding valid in R1:  0A 44 96 65 37 63 9E 22 BB 2E 11 82 02 28 9F 53\n",
      "0x54 + 0x8 = 0x5c\n",
      "0x98 + 0x8 = 0x90\n",
      "0x2f + 0x8 = 0x27\n",
      "0x5 + 0x8 = 0xd\n",
      "0x85 + 0x8 = 0x8d\n",
      "0x16 + 0x8 = 0x1e\n",
      "0x29 + 0x8 = 0x21\n",
      "Padding valid in R1:  0A 44 96 65 37 63 9E 22 DA 21 1E 8D 0D 27 90 5C\n",
      "0x54 + 0x9 = 0x5d\n",
      "0x98 + 0x9 = 0x91\n",
      "0x2f + 0x9 = 0x26\n",
      "0x5 + 0x9 = 0xc\n",
      "0x85 + 0x9 = 0x8c\n",
      "0x16 + 0x9 = 0x1f\n",
      "0x29 + 0x9 = 0x20\n",
      "0xd2 + 0x9 = 0xdb\n",
      "Padding valid in R1:  0A 44 96 65 37 63 9E 0B DB 20 1F 8C 0C 26 91 5D\n",
      "0x54 + 0xa = 0x5e\n",
      "0x98 + 0xa = 0x92\n",
      "0x2f + 0xa = 0x25\n",
      "0x5 + 0xa = 0xf\n",
      "0x85 + 0xa = 0x8f\n",
      "0x16 + 0xa = 0x1c\n",
      "0x29 + 0xa = 0x23\n",
      "0xd2 + 0xa = 0xd8\n",
      "0x2 + 0xa = 0x8\n",
      "Padding valid in R1:  0A 44 96 65 37 63 F1 08 D8 23 1C 8F 0F 25 92 5E\n",
      "0x54 + 0xb = 0x5f\n",
      "0x98 + 0xb = 0x93\n",
      "0x2f + 0xb = 0x24\n",
      "0x5 + 0xb = 0xe\n",
      "0x85 + 0xb = 0x8e\n",
      "0x16 + 0xb = 0x1d\n",
      "0x29 + 0xb = 0x22\n",
      "0xd2 + 0xb = 0xd9\n",
      "0x2 + 0xb = 0x9\n",
      "0xfb + 0xb = 0xf0\n",
      "Padding valid in R1:  0A 44 96 65 37 05 F0 09 D9 22 1D 8E 0E 24 93 5F\n",
      "0x54 + 0xc = 0x58\n",
      "0x98 + 0xc = 0x94\n",
      "0x2f + 0xc = 0x23\n",
      "0x5 + 0xc = 0x9\n",
      "0x85 + 0xc = 0x89\n",
      "0x16 + 0xc = 0x1a\n",
      "0x29 + 0xc = 0x25\n",
      "0xd2 + 0xc = 0xde\n",
      "0x2 + 0xc = 0xe\n",
      "0xfb + 0xc = 0xf7\n",
      "0xe + 0xc = 0x2\n",
      "Padding valid in R1:  0A 44 96 65 5A 02 F7 0E DE 25 1A 89 09 23 94 58\n",
      "0x54 + 0xd = 0x59\n",
      "0x98 + 0xd = 0x95\n",
      "0x2f + 0xd = 0x22\n",
      "0x5 + 0xd = 0x8\n",
      "0x85 + 0xd = 0x88\n",
      "0x16 + 0xd = 0x1b\n",
      "0x29 + 0xd = 0x24\n",
      "0xd2 + 0xd = 0xdf\n",
      "0x2 + 0xd = 0xf\n",
      "0xfb + 0xd = 0xf6\n",
      "0xe + 0xd = 0x3\n",
      "0x56 + 0xd = 0x5b\n",
      "Padding valid in R1:  0A 44 96 06 5B 03 F6 0F DF 24 1B 88 08 22 95 59\n",
      "0x54 + 0xe = 0x5a\n",
      "0x98 + 0xe = 0x96\n",
      "0x2f + 0xe = 0x21\n",
      "0x5 + 0xe = 0xb\n",
      "0x85 + 0xe = 0x8b\n",
      "0x16 + 0xe = 0x18\n",
      "0x29 + 0xe = 0x27\n",
      "0xd2 + 0xe = 0xdc\n",
      "0x2 + 0xe = 0xc\n",
      "0xfb + 0xe = 0xf5\n",
      "0xe + 0xe = 0x0\n",
      "0x56 + 0xe = 0x58\n",
      "0xb + 0xe = 0x5\n",
      "Padding valid in R1:  0A 44 B8 05 58 00 F5 0C DC 27 18 8B 0B 21 96 5A\n",
      "0x54 + 0xf = 0x5b\n",
      "0x98 + 0xf = 0x97\n",
      "0x2f + 0xf = 0x20\n",
      "0x5 + 0xf = 0xa\n",
      "0x85 + 0xf = 0x8a\n",
      "0x16 + 0xf = 0x19\n",
      "0x29 + 0xf = 0x26\n",
      "0xd2 + 0xf = 0xdd\n",
      "0x2 + 0xf = 0xd\n",
      "0xfb + 0xf = 0xf4\n",
      "0xe + 0xf = 0x1\n",
      "0x56 + 0xf = 0x59\n",
      "0xb + 0xf = 0x4\n",
      "0xb6 + 0xf = 0xb9\n",
      "Padding valid in R1:  0A 32 B9 04 59 01 F4 0D DD 26 19 8A 0A 20 97 5B\n",
      "0x54 + 0x10 = 0x44\n",
      "0x98 + 0x10 = 0x88\n",
      "0x2f + 0x10 = 0x3f\n",
      "0x5 + 0x10 = 0x15\n",
      "0x85 + 0x10 = 0x95\n",
      "0x16 + 0x10 = 0x6\n",
      "0x29 + 0x10 = 0x39\n",
      "0xd2 + 0x10 = 0xc2\n",
      "0x2 + 0x10 = 0x12\n",
      "0xfb + 0x10 = 0xeb\n",
      "0xe + 0x10 = 0x1e\n",
      "0x56 + 0x10 = 0x46\n",
      "0xb + 0x10 = 0x1b\n",
      "0xb6 + 0x10 = 0xa6\n",
      "0x3d + 0x10 = 0x2d\n",
      "Padding valid in R1:  57 2D A6 1B 46 1E EB 12 C2 39 06 95 15 3F 88 44\n"
     ]
    }
   ],
   "execution_count": 1674
  },
  {
   "metadata": {
    "ExecuteTime": {
     "end_time": "2025-03-22T00:33:41.270521Z",
     "start_time": "2025-03-22T00:33:41.262560Z"
    }
   },
   "cell_type": "code",
   "source": [
    "plaintext = block_128_bit_to_str([result])\n",
    "print(\"plaintext:\", plaintext)"
   ],
   "id": "d0ca6967b64e31f5",
   "outputs": [
    {
     "name": "stdout",
     "output_type": "stream",
     "text": [
      "plaintext: My name is Duy\n"
     ]
    }
   ],
   "execution_count": 1675
  },
  {
   "metadata": {},
   "cell_type": "code",
   "outputs": [],
   "execution_count": null,
   "source": "",
   "id": "537c24c970b3b32a"
  }
 ],
 "metadata": {
  "kernelspec": {
   "display_name": "Python 3",
   "language": "python",
   "name": "python3"
  },
  "language_info": {
   "codemirror_mode": {
    "name": "ipython",
    "version": 2
   },
   "file_extension": ".py",
   "mimetype": "text/x-python",
   "name": "python",
   "nbconvert_exporter": "python",
   "pygments_lexer": "ipython2",
   "version": "2.7.6"
  }
 },
 "nbformat": 4,
 "nbformat_minor": 5
}
