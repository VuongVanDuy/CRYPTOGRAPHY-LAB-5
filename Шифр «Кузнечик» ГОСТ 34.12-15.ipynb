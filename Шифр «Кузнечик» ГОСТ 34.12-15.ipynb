{
 "cells": [
  {
   "metadata": {},
   "cell_type": "markdown",
   "source": "# Операции над полями Галуа GF(2^8) в AES.",
   "id": "89626e0bb68da68a"
  },
  {
   "metadata": {
    "collapsed": true,
    "ExecuteTime": {
     "end_time": "2025-03-19T01:57:48.239970Z",
     "start_time": "2025-03-19T01:57:48.233100Z"
    }
   },
   "cell_type": "code",
   "source": [
    "primitive = 0x1C3  # неприводимый многочлен x^8 + x^7 + x^6 + x + 1\n",
    "check_high_bit = 0x80 # 10000000"
   ],
   "id": "initial_id",
   "outputs": [],
   "execution_count": 526
  },
  {
   "metadata": {
    "ExecuteTime": {
     "end_time": "2025-03-19T01:57:48.299440Z",
     "start_time": "2025-03-19T01:57:48.288059Z"
    }
   },
   "cell_type": "code",
   "source": [
    "def multiply_GF256(a, b):\n",
    "    \"\"\"\n",
    "    Nhân hai phần tử trong trường GF(2^8) sử dụng đa thức bất khả quy 0x11B.\n",
    "    \"\"\"\n",
    "    result = 0\n",
    "    for i in range(8):\n",
    "        if b & 1:  # Nếu bit cuối cùng của b là 1\n",
    "            result ^= a  # Cộng (XOR) a vào kết quả\n",
    "        high_bit_set = a & check_high_bit  # Kiểm tra bit cao nhất của a\n",
    "        a <<= 1  # Dịch trái a\n",
    "        if high_bit_set:\n",
    "            a ^= primitive  # Chia lấy dư với đa thức bất khả quy nếu cần\n",
    "        b >>= 1  # Dịch phải b\n",
    "    return result"
   ],
   "id": "8bc424debd984d58",
   "outputs": [],
   "execution_count": 527
  },
  {
   "metadata": {
    "ExecuteTime": {
     "end_time": "2025-03-19T01:57:48.325852Z",
     "start_time": "2025-03-19T01:57:48.311955Z"
    }
   },
   "cell_type": "code",
   "source": "multiply_GF256(2, 148)",
   "id": "ba4a4b8c8ee4625c",
   "outputs": [
    {
     "data": {
      "text/plain": [
       "235"
      ]
     },
     "execution_count": 528,
     "metadata": {},
     "output_type": "execute_result"
    }
   ],
   "execution_count": 528
  },
  {
   "metadata": {
    "ExecuteTime": {
     "end_time": "2025-03-19T01:57:48.410263Z",
     "start_time": "2025-03-19T01:57:48.402753Z"
    }
   },
   "cell_type": "code",
   "source": [
    "def inverse_GF256(x):\n",
    "    \"\"\"Tìm nghịch đảo của x trong GF(2^8) bằng phương pháp lũy thừa nhanh.\"\"\"\n",
    "    if x == 0:\n",
    "        return 0\n",
    "    y = 1\n",
    "    for _ in range(254):  # x^(254) mod GF(2^8) sẽ cho ra nghịch đảo\n",
    "        y = multiply_GF256(y, x)\n",
    "    return y"
   ],
   "id": "153eaee21ec0fa96",
   "outputs": [],
   "execution_count": 529
  },
  {
   "metadata": {
    "ExecuteTime": {
     "end_time": "2025-03-19T01:57:48.424455Z",
     "start_time": "2025-03-19T01:57:48.416750Z"
    }
   },
   "cell_type": "code",
   "source": [
    "def exp_GF256(elem, exp):\n",
    "    if exp == 0:\n",
    "        return 1\n",
    "    r = exp % 2\n",
    "    q = exp // 2\n",
    "    if r:\n",
    "        return multiply_GF256(elem, multiply_GF256(exp_GF256(elem, q), exp_GF256(elem, q)))\n",
    "    else:\n",
    "        return multiply_GF256(exp_GF256(elem, q), exp_GF256(elem, q))"
   ],
   "id": "4fa0ff3b95b9cb2c",
   "outputs": [],
   "execution_count": 530
  },
  {
   "metadata": {},
   "cell_type": "markdown",
   "source": "# Подготовка данных",
   "id": "4f46992f7468f16a"
  },
  {
   "metadata": {
    "ExecuteTime": {
     "end_time": "2025-03-19T01:57:48.444851Z",
     "start_time": "2025-03-19T01:57:48.436864Z"
    }
   },
   "cell_type": "code",
   "source": [
    "from bitarray import bitarray\n",
    "from bitarray.util import int2ba, ba2int\n",
    "import json"
   ],
   "id": "bd634d7fbd85a493",
   "outputs": [],
   "execution_count": 531
  },
  {
   "metadata": {
    "ExecuteTime": {
     "end_time": "2025-03-19T01:57:48.463818Z",
     "start_time": "2025-03-19T01:57:48.457790Z"
    }
   },
   "cell_type": "code",
   "source": [
    "def hex_to_bin(hex_string, version=32):\n",
    "    hex_string = hex_string.replace(\" \", \"\")\n",
    "    return bitarray(bin(int(hex_string, 16))[2:].zfill(version))"
   ],
   "id": "7a41eeaa1056efc4",
   "outputs": [],
   "execution_count": 532
  },
  {
   "metadata": {
    "ExecuteTime": {
     "end_time": "2025-03-19T01:57:48.482621Z",
     "start_time": "2025-03-19T01:57:48.474832Z"
    }
   },
   "cell_type": "code",
   "source": [
    "def bin_to_hex(bin_array, version=32):\n",
    "    \"\"\"Chuyển đổi dữ liệu nhị phân thành chuỗi thập lục phân với định dạng mong muốn.\"\"\"\n",
    "    hex_string = format(ba2int(bin_array), 'X').zfill(version // 4)\n",
    "    return ' '.join(hex_string[i:i+2] for i in range(0, len(hex_string), 2))"
   ],
   "id": "704e6be27bf11fdc",
   "outputs": [],
   "execution_count": 533
  },
  {
   "metadata": {
    "ExecuteTime": {
     "end_time": "2025-03-19T01:57:48.500899Z",
     "start_time": "2025-03-19T01:57:48.493360Z"
    }
   },
   "cell_type": "code",
   "source": [
    "def read_json(filename):\n",
    "    with open(filename, 'r') as file:\n",
    "        return json.load(file)"
   ],
   "id": "37454317d2edc207",
   "outputs": [],
   "execution_count": 534
  },
  {
   "metadata": {
    "ExecuteTime": {
     "end_time": "2025-03-19T01:57:48.518920Z",
     "start_time": "2025-03-19T01:57:48.511054Z"
    }
   },
   "cell_type": "code",
   "source": [
    "S_BOX = read_json('sbox_kuznyechik.json')\n",
    "L_MATRIX = read_json('L_kuznyechik.json')"
   ],
   "id": "97057c3ba677e6c0",
   "outputs": [],
   "execution_count": 535
  },
  {
   "metadata": {},
   "cell_type": "markdown",
   "source": "# SP-сеть с набором преобразований L, S, X",
   "id": "692c3936e946f64e"
  },
  {
   "metadata": {
    "ExecuteTime": {
     "end_time": "2025-03-19T01:57:48.537277Z",
     "start_time": "2025-03-19T01:57:48.529261Z"
    }
   },
   "cell_type": "code",
   "source": [
    "def apply_S_box(state: bitarray) -> bitarray:\n",
    "    # chuyển đổi bitarray 16 byte thành list các byte\n",
    "    state = [state[i:i+8] for i in range(0, len(state), 8)]\n",
    "    new_state = []\n",
    "    for byte in state:\n",
    "        row = ba2int(byte[:4])\n",
    "        col = ba2int(byte[4:8])\n",
    "        new_state.append(S_BOX[row][col])\n",
    "    return bitarray(''.join(format(byte, '08b') for byte in new_state))"
   ],
   "id": "d57babe2fa198092",
   "outputs": [],
   "execution_count": 536
  },
  {
   "metadata": {
    "ExecuteTime": {
     "end_time": "2025-03-19T01:57:48.558438Z",
     "start_time": "2025-03-19T01:57:48.548727Z"
    }
   },
   "cell_type": "code",
   "source": [
    "tmp = '93'\n",
    "print(hex_to_bin(tmp, version=8))\n",
    "bin_to_hex(apply_S_box(hex_to_bin(tmp, version=8)))"
   ],
   "id": "2196f1556777b847",
   "outputs": [
    {
     "name": "stdout",
     "output_type": "stream",
     "text": [
      "bitarray('10010011')\n"
     ]
    },
    {
     "data": {
      "text/plain": [
       "'00 00 00 DE'"
      ]
     },
     "execution_count": 537,
     "metadata": {},
     "output_type": "execute_result"
    }
   ],
   "execution_count": 537
  },
  {
   "metadata": {
    "ExecuteTime": {
     "end_time": "2025-03-19T01:57:48.588005Z",
     "start_time": "2025-03-19T01:57:48.580606Z"
    }
   },
   "cell_type": "code",
   "source": [
    "def apply_L(state: bitarray) -> bitarray:\n",
    "    # chuyển đổi bitarray 16 byte thành list các byte\n",
    "    state = [state[i:i+8] for i in range(0, len(state), 8)]\n",
    "    state = [ba2int(byte) for byte in state]\n",
    "    for _ in range(16):\n",
    "        new_byte = 0\n",
    "        for j in range(16):\n",
    "            new_byte ^= multiply_GF256(state[j], L_MATRIX[j])\n",
    "        state = [new_byte] + state[:15]  # Dịch vòng\n",
    "    \n",
    "    # chuyeern state từ list byte thành bitarray\n",
    "    state = ''.join(format(byte, '08b') for byte in state)\n",
    "    return bitarray(state)"
   ],
   "id": "68fee2b79bf36297",
   "outputs": [],
   "execution_count": 538
  },
  {
   "metadata": {
    "ExecuteTime": {
     "end_time": "2025-03-19T01:57:48.638459Z",
     "start_time": "2025-03-19T01:57:48.628426Z"
    }
   },
   "cell_type": "code",
   "source": "bin_to_hex(apply_L(hex_to_bin('75 46 70 72 F1 81 81 C7 ED 33 05 B0 DA 3A EC 6C', version=128)))",
   "id": "e1e189ab9e519fea",
   "outputs": [
    {
     "data": {
      "text/plain": [
       "'C8 C6 CC DD 03 4D 8E 6B D7 33 8E 20 7F 6B 09 71'"
      ]
     },
     "execution_count": 539,
     "metadata": {},
     "output_type": "execute_result"
    }
   ],
   "execution_count": 539
  },
  {
   "metadata": {
    "ExecuteTime": {
     "end_time": "2025-03-19T01:57:48.681136Z",
     "start_time": "2025-03-19T01:57:48.675553Z"
    }
   },
   "cell_type": "code",
   "source": [
    "def apply_X(state: bitarray, key: bitarray) -> bitarray:\n",
    "    return state ^ key"
   ],
   "id": "e9898fe68b63766e",
   "outputs": [],
   "execution_count": 540
  },
  {
   "metadata": {},
   "cell_type": "markdown",
   "source": "# Алгоритм расширения ключа Кузнечик",
   "id": "fe515ec1c160fe7"
  },
  {
   "metadata": {
    "ExecuteTime": {
     "end_time": "2025-03-19T01:57:48.706749Z",
     "start_time": "2025-03-19T01:57:48.691450Z"
    }
   },
   "cell_type": "code",
   "source": "key = \"FD E8 F7 A9 B8 6C 3B FF 07 C0 D3 9D 04 60 5E DD 14 A3 D4 B6 33 45 4D 7C 5B 21 3A 5B 9A 0F 58 6C\"",
   "id": "7c1302173ea37bbf",
   "outputs": [],
   "execution_count": 541
  },
  {
   "metadata": {
    "ExecuteTime": {
     "end_time": "2025-03-19T01:57:48.748916Z",
     "start_time": "2025-03-19T01:57:48.738680Z"
    }
   },
   "cell_type": "code",
   "source": [
    "def generate_C(i) -> bitarray:\n",
    "    C_i = bitarray('0' * 120) + bitarray(int2ba(i, length=8))\n",
    "    return apply_L(C_i)"
   ],
   "id": "3b6c7dd4cd326cdb",
   "outputs": [],
   "execution_count": 542
  },
  {
   "metadata": {
    "ExecuteTime": {
     "end_time": "2025-03-19T01:57:48.773908Z",
     "start_time": "2025-03-19T01:57:48.756600Z"
    }
   },
   "cell_type": "code",
   "source": "print(bin_to_hex(generate_C(7)))",
   "id": "23ed89d97b669d36",
   "outputs": [
    {
     "name": "stdout",
     "output_type": "stream",
     "text": [
      "C9 E8 81 9D C7 3B A5 AE 50 F5 B5 70 56 1A 6A 07\n"
     ]
    }
   ],
   "execution_count": 543
  },
  {
   "metadata": {
    "ExecuteTime": {
     "end_time": "2025-03-19T01:57:48.811099Z",
     "start_time": "2025-03-19T01:57:48.800867Z"
    }
   },
   "cell_type": "code",
   "source": [
    "def f_function(left: bitarray, C_i: bitarray) -> bitarray:\n",
    "    print(\"C_i:\\n\", bin_to_hex(C_i))\n",
    "    result = apply_X(left, C_i)\n",
    "    print(\"After xor C_i:\\n\", bin_to_hex(result))\n",
    "    result = apply_S_box(result)\n",
    "    print(\"After apply S_Box:\\n\", bin_to_hex(result))\n",
    "    result = apply_L(left)\n",
    "    print(\"After apply L:\\n\", bin_to_hex(result))\n",
    "    #return apply_X(apply_S_box(apply_L(left)), C_i)\n",
    "    return result"
   ],
   "id": "b2df9ea74e8d5b0b",
   "outputs": [],
   "execution_count": 544
  },
  {
   "metadata": {},
   "cell_type": "markdown",
   "source": "## Раунды ключи",
   "id": "dfde6044185976be"
  },
  {
   "metadata": {
    "ExecuteTime": {
     "end_time": "2025-03-19T01:57:48.830550Z",
     "start_time": "2025-03-19T01:57:48.823003Z"
    }
   },
   "cell_type": "code",
   "source": [
    "def RoundKeys(left: bitarray, right: bitarray, C_i: bitarray) -> (bitarray, bitarray):\n",
    "    next_left = right ^ f_function(left, C_i)\n",
    "    next_right = left\n",
    "    return next_left, next_right"
   ],
   "id": "c46541f3ba0131c3",
   "outputs": [],
   "execution_count": 545
  },
  {
   "metadata": {
    "ExecuteTime": {
     "end_time": "2025-03-19T01:57:48.853754Z",
     "start_time": "2025-03-19T01:57:48.841980Z"
    }
   },
   "cell_type": "code",
   "source": [
    "key_bin = hex_to_bin('AD 1E EA 2D E2 F0 CE C8 35 C9 24 44 12 B0 B9 58' + \n",
    "                     'F6 87 AA 3C 2F 34 A9 F0 2F 1A 9D 5F BB E7 4C 6B', version=256)\n",
    "left, right = key_bin[:128], key_bin[128:]\n",
    "print(\"Start left key:\\n\", bin_to_hex(left))\n",
    "print(\"Start Right key:\\n\", bin_to_hex(right))\n",
    "left_, right_ = RoundKeys(left, right, generate_C(7))\n",
    "print(\"Left key inter 7:\\n\", bin_to_hex(left_))\n",
    "print(\"Right key inter 7:\\n\", bin_to_hex(right_))"
   ],
   "id": "fe37de801fbf96e0",
   "outputs": [
    {
     "name": "stdout",
     "output_type": "stream",
     "text": [
      "Start left key:\n",
      " AD 1E EA 2D E2 F0 CE C8 35 C9 24 44 12 B0 B9 58\n",
      "Start Right key:\n",
      " F6 87 AA 3C 2F 34 A9 F0 2F 1A 9D 5F BB E7 4C 6B\n",
      "C_i:\n",
      " C9 E8 81 9D C7 3B A5 AE 50 F5 B5 70 56 1A 6A 07\n",
      "After xor C_i:\n",
      " 64 F6 6B B0 25 CB 6B 66 65 3C 91 34 44 AA D3 5F\n",
      "After apply S_Box:\n",
      " 10 B4 6F AD 5C E4 6F 9A 7B 7F 0F E3 EA 38 49 87\n",
      "After apply L:\n",
      " 3B 78 7A 12 4D 16 30 A9 59 C2 41 B4 AC 90 BD 47\n",
      "Left key inter 7:\n",
      " CD FF D0 2E 62 22 99 59 76 D8 DC EB 17 77 F1 2C\n",
      "Right key inter 7:\n",
      " AD 1E EA 2D E2 F0 CE C8 35 C9 24 44 12 B0 B9 58\n"
     ]
    }
   ],
   "execution_count": 546
  },
  {
   "metadata": {
    "ExecuteTime": {
     "end_time": "2025-03-19T01:57:48.881628Z",
     "start_time": "2025-03-19T01:57:48.864474Z"
    }
   },
   "cell_type": "code",
   "source": [
    "def expand_key(key: bitarray) -> list:\n",
    "    left, right = key[:128], key[128:]\n",
    "    for i in range(1, 9):\n",
    "        C_i = generate_C(i)\n",
    "        left, right = RoundKeys(left, right, C_i)\n",
    "    return left, right"
   ],
   "id": "1b0bacc61dadd0d1",
   "outputs": [],
   "execution_count": 547
  },
  {
   "metadata": {},
   "cell_type": "markdown",
   "source": "# Раундовое преобразование",
   "id": "f0099e710d878da0"
  },
  {
   "metadata": {
    "ExecuteTime": {
     "end_time": "2025-03-19T01:57:48.903919Z",
     "start_time": "2025-03-19T01:57:48.895391Z"
    }
   },
   "cell_type": "code",
   "source": [
    "def round_Kuznechik(state: bitarray, key: bitarray) -> bitarray:\n",
    "    print(\"state:\\n\", bin_to_hex(state))\n",
    "    state = apply_X(state, key)\n",
    "    print(\"After xor key:\\n\", bin_to_hex(state))\n",
    "    state = apply_S_box(state)\n",
    "    print(\"After apply S_Box:\\n\", bin_to_hex(state))\n",
    "    state = apply_L(state)\n",
    "    print(\"After apply L:\\n\", bin_to_hex(state))\n",
    "    return state"
   ],
   "id": "93786b2a40276e",
   "outputs": [],
   "execution_count": 548
  },
  {
   "metadata": {
    "ExecuteTime": {
     "end_time": "2025-03-19T01:58:54.784446Z",
     "start_time": "2025-03-19T01:58:54.766016Z"
    }
   },
   "cell_type": "code",
   "source": [
    "state = '3D 20 B6 5F 3E 17 86 AA E9 B8 9F 37 E7 CA 81 3D'\n",
    "round_key = '79 F1 C9 F2 FD 49 05 47 B8 F4 32 05 97 A6 F2 1B'\n",
    "state_bin = hex_to_bin(state, version=128)\n",
    "round_key = hex_to_bin(round_key, version=128)\n",
    "res = round_Kuznechik(state_bin, round_key)"
   ],
   "id": "c11cf19c1199b9e6",
   "outputs": [
    {
     "name": "stdout",
     "output_type": "stream",
     "text": [
      "state:\n",
      " 3D 20 B6 5F 3E 17 86 AA E9 B8 9F 37 E7 CA 81 3D\n",
      "After xor key:\n",
      " 44 D1 7F AD C3 5E 83 ED 51 4C AD 32 70 6C 73 26\n",
      "After apply S_Box:\n",
      " EA 1B 57 9F 40 5D A9 E5 70 FD 9F 02 32 9D 3D EF\n",
      "After apply L:\n",
      " D4 8E DE 32 C8 E6 7E 10 49 89 E1 49 29 D3 F9 46\n"
     ]
    }
   ],
   "execution_count": 551
  }
 ],
 "metadata": {
  "kernelspec": {
   "display_name": "Python 3",
   "language": "python",
   "name": "python3"
  },
  "language_info": {
   "codemirror_mode": {
    "name": "ipython",
    "version": 2
   },
   "file_extension": ".py",
   "mimetype": "text/x-python",
   "name": "python",
   "nbconvert_exporter": "python",
   "pygments_lexer": "ipython2",
   "version": "2.7.6"
  }
 },
 "nbformat": 4,
 "nbformat_minor": 5
}
